{
 "cells": [
  {
   "cell_type": "code",
   "execution_count": 1,
   "id": "bb7918ea-884a-4d48-a8de-590830d42b7b",
   "metadata": {},
   "outputs": [],
   "source": [
    "doc1 = \"apple banana everyone like likey watch card holder\"\n",
    "doc2 = \"apple banana coupon passport love you\""
   ]
  },
  {
   "cell_type": "code",
   "execution_count": 2,
   "id": "9fa00d19-1bd7-4359-8fde-965b2d212191",
   "metadata": {},
   "outputs": [],
   "source": [
    "tokenized_doc1 = doc1.split()\n",
    "tokenized_doc2 = doc2.split()"
   ]
  },
  {
   "cell_type": "code",
   "execution_count": 3,
   "id": "51c1db9b-69fc-4fec-a69b-830396d94c26",
   "metadata": {},
   "outputs": [
    {
     "name": "stdout",
     "output_type": "stream",
     "text": [
      "doc1: ['apple', 'banana', 'everyone', 'like', 'likey', 'watch', 'card', 'holder']\n",
      "doc2: ['apple', 'banana', 'coupon', 'passport', 'love', 'you']\n"
     ]
    }
   ],
   "source": [
    "print(f\"doc1: {tokenized_doc1}\")\n",
    "print(f\"doc2: {tokenized_doc2}\")"
   ]
  },
  {
   "cell_type": "code",
   "execution_count": 4,
   "id": "c184ca68-0705-4522-9c65-71f4326c8677",
   "metadata": {},
   "outputs": [
    {
     "name": "stdout",
     "output_type": "stream",
     "text": [
      "합집합: {'passport', 'holder', 'card', 'coupon', 'you', 'banana', 'like', 'love', 'likey', 'watch', 'apple', 'everyone'}\n"
     ]
    }
   ],
   "source": [
    "union = set(tokenized_doc1).union(set(tokenized_doc2))\n",
    "print(f\"합집합: {union}\")"
   ]
  },
  {
   "cell_type": "code",
   "execution_count": 5,
   "id": "9f4c0aaa-fc99-442a-873b-52a31cfe3c83",
   "metadata": {},
   "outputs": [
    {
     "name": "stdout",
     "output_type": "stream",
     "text": [
      "교집합: {'apple', 'banana'}\n"
     ]
    }
   ],
   "source": [
    "intersection = set(tokenized_doc1).intersection(set(tokenized_doc2))\n",
    "print(f\"교집합: {intersection}\")"
   ]
  },
  {
   "cell_type": "code",
   "execution_count": 6,
   "id": "244a3b23-55d6-4343-a29b-2087aae207f1",
   "metadata": {},
   "outputs": [
    {
     "name": "stdout",
     "output_type": "stream",
     "text": [
      "Jaccard similarity: 0.16666666666666666\n"
     ]
    }
   ],
   "source": [
    "print(f\"Jaccard similarity: {len(intersection) / len(union)}\")"
   ]
  }
 ],
 "metadata": {
  "kernelspec": {
   "display_name": "Python 3 (ipykernel)",
   "language": "python",
   "name": "python3"
  },
  "language_info": {
   "codemirror_mode": {
    "name": "ipython",
    "version": 3
   },
   "file_extension": ".py",
   "mimetype": "text/x-python",
   "name": "python",
   "nbconvert_exporter": "python",
   "pygments_lexer": "ipython3",
   "version": "3.9.21"
  }
 },
 "nbformat": 4,
 "nbformat_minor": 5
}
