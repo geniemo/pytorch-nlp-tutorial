{
 "cells": [
  {
   "cell_type": "code",
   "execution_count": 1,
   "id": "3485a9aa-826f-4d52-ae79-8104cb374ff1",
   "metadata": {},
   "outputs": [],
   "source": [
    "import numpy as np"
   ]
  },
  {
   "cell_type": "code",
   "execution_count": 2,
   "id": "b7ca1529-e509-46fb-8ab4-be6afd532415",
   "metadata": {},
   "outputs": [],
   "source": [
    "def dist(x, y):\n",
    "    return np.sqrt(np.sum((x - y) ** 2))"
   ]
  },
  {
   "cell_type": "code",
   "execution_count": 3,
   "id": "97782570-713d-4ece-adc9-1a54beeed42c",
   "metadata": {},
   "outputs": [],
   "source": [
    "doc1 = np.array((2, 3, 0, 1))\n",
    "doc2 = np.array((1, 2, 3, 1))\n",
    "doc3 = np.array((2, 1, 2, 2))\n",
    "docQ = np.array((1, 1, 0, 1))"
   ]
  },
  {
   "cell_type": "code",
   "execution_count": 4,
   "id": "8916e983-276f-43a6-ad04-d43260745f83",
   "metadata": {},
   "outputs": [
    {
     "data": {
      "text/plain": [
       "(2.23606797749979, 3.1622776601683795, 2.449489742783178)"
      ]
     },
     "execution_count": 4,
     "metadata": {},
     "output_type": "execute_result"
    }
   ],
   "source": [
    "dist(doc1, docQ), dist(doc2, docQ), dist(doc3, docQ)"
   ]
  }
 ],
 "metadata": {
  "kernelspec": {
   "display_name": "Python 3 (ipykernel)",
   "language": "python",
   "name": "python3"
  },
  "language_info": {
   "codemirror_mode": {
    "name": "ipython",
    "version": 3
   },
   "file_extension": ".py",
   "mimetype": "text/x-python",
   "name": "python",
   "nbconvert_exporter": "python",
   "pygments_lexer": "ipython3",
   "version": "3.9.21"
  }
 },
 "nbformat": 4,
 "nbformat_minor": 5
}
