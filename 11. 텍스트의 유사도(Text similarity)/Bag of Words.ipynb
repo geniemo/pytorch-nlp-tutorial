{
 "cells": [
  {
   "cell_type": "code",
   "execution_count": 1,
   "id": "cfab52e2-d355-4df2-91c8-1bca65b3baf3",
   "metadata": {},
   "outputs": [],
   "source": [
    "from konlpy.tag import Okt"
   ]
  },
  {
   "cell_type": "code",
   "execution_count": 2,
   "id": "4191bc55-3d17-44c6-a557-aad3afe63e61",
   "metadata": {},
   "outputs": [],
   "source": [
    "okt = Okt()"
   ]
  },
  {
   "cell_type": "code",
   "execution_count": 3,
   "id": "4802c4b9-4189-4dc5-ba66-36f47f6bc574",
   "metadata": {},
   "outputs": [],
   "source": [
    "def build_bag_of_words(document):\n",
    "    document = document.replace(\".\", \"\")\n",
    "    tokenized_document = okt.morphs(document)\n",
    "\n",
    "    word_to_index = {}\n",
    "    bow = []\n",
    "\n",
    "    for word in tokenized_document:\n",
    "        if word not in word_to_index.keys():\n",
    "            word_to_index[word] = len(word_to_index)\n",
    "            bow.insert(len(word_to_index) - 1, 1)\n",
    "        else:\n",
    "            index = word_to_index[word]\n",
    "            bow[index] += 1\n",
    "\n",
    "    return word_to_index, bow"
   ]
  },
  {
   "cell_type": "code",
   "execution_count": 5,
   "id": "1ed15270-7e10-46dd-8fe3-232bf58ef8a1",
   "metadata": {},
   "outputs": [
    {
     "data": {
      "text/plain": [
       "({'정부': 0,\n",
       "  '가': 1,\n",
       "  '발표': 2,\n",
       "  '하는': 3,\n",
       "  '물가상승률': 4,\n",
       "  '과': 5,\n",
       "  '소비자': 6,\n",
       "  '느끼는': 7,\n",
       "  '은': 8,\n",
       "  '다르다': 9},\n",
       " [1, 2, 1, 1, 2, 1, 1, 1, 1, 1])"
      ]
     },
     "execution_count": 5,
     "metadata": {},
     "output_type": "execute_result"
    }
   ],
   "source": [
    "doc1 = \"정부가 발표하는 물가상승률과 소비자가 느끼는 물가상승률은 다르다.\"\n",
    "vocab, bow = build_bag_of_words(doc1)\n",
    "vocab, bow"
   ]
  },
  {
   "cell_type": "code",
   "execution_count": 7,
   "id": "caa8063a-117f-491f-806a-e8ac338a9f55",
   "metadata": {},
   "outputs": [
    {
     "data": {
      "text/plain": [
       "({'소비자': 0,\n",
       "  '는': 1,\n",
       "  '주로': 2,\n",
       "  '소비': 3,\n",
       "  '하는': 4,\n",
       "  '상품': 5,\n",
       "  '을': 6,\n",
       "  '기준': 7,\n",
       "  '으로': 8,\n",
       "  '물가상승률': 9,\n",
       "  '느낀다': 10},\n",
       " [1, 1, 1, 1, 1, 1, 2, 1, 1, 1, 1])"
      ]
     },
     "execution_count": 7,
     "metadata": {},
     "output_type": "execute_result"
    }
   ],
   "source": [
    "doc2 = \"소비자는 주로 소비하는 상품을 기준으로 물가상승률을 느낀다.\"\n",
    "vocab, bow = build_bag_of_words(doc2)\n",
    "vocab, bow"
   ]
  },
  {
   "cell_type": "code",
   "execution_count": 8,
   "id": "be23c304-d19d-4b11-a330-94a8f28441d2",
   "metadata": {},
   "outputs": [
    {
     "data": {
      "text/plain": [
       "({'정부': 0,\n",
       "  '가': 1,\n",
       "  '발표': 2,\n",
       "  '하는': 3,\n",
       "  '물가상승률': 4,\n",
       "  '과': 5,\n",
       "  '소비자': 6,\n",
       "  '느끼는': 7,\n",
       "  '은': 8,\n",
       "  '다르다': 9,\n",
       "  '는': 10,\n",
       "  '주로': 11,\n",
       "  '소비': 12,\n",
       "  '상품': 13,\n",
       "  '을': 14,\n",
       "  '기준': 15,\n",
       "  '으로': 16,\n",
       "  '느낀다': 17},\n",
       " [1, 2, 1, 2, 3, 1, 2, 1, 1, 1, 1, 1, 1, 1, 2, 1, 1, 1])"
      ]
     },
     "execution_count": 8,
     "metadata": {},
     "output_type": "execute_result"
    }
   ],
   "source": [
    "doc3 = doc1 + \" \" + doc2\n",
    "vocab, bow = build_bag_of_words(doc3)\n",
    "vocab, bow"
   ]
  },
  {
   "cell_type": "markdown",
   "id": "eb783294-2f3f-4fac-88c8-16a2edee559e",
   "metadata": {},
   "source": [
    "BoW는 종종 여러 문서의 단어 집합을 합친 뒤, 해당 단어 집합에 대한 각 문서의 BoW를 구하기도 한다. 가령, 문서 3에 대한 단어 집합을 기준으로 문서 1, 2의 BoW를 만들면 결과는 아래와 같다.\n",
    "\n",
    "문서3 단어 집합에 대한 문서1 BoW : [1, 2, 1, 1, 2, 1, 1, 1, 1, 1, 0, 0, 0, 0, 0,\n",
    "0, 0, 0]<br>\n",
    "문서3 단어 집합에 대한 문서2 BoW : [0, 0, 0, 1, 1, 0, 1, 0, 0, 0, 1, 1, 1, 1, 2,\n",
    "1, 1, 1]\n",
    "\n",
    "BoW는 주로 어떤 단어가 얼마나 등장했는지를 기준으로 문서가 어떤 성격을 가지는지 판단할 때 쓰인다."
   ]
  },
  {
   "cell_type": "markdown",
   "id": "4b15c55a-9e47-44e6-ad07-de046dddecc5",
   "metadata": {},
   "source": [
    "scikit-learn에서 단어의 빈도를 Count하여 Vector로 만드는 CountVectorizer 클래스를 지원한다. 이를 이용하면 영어에 대해 손쉽게 BoW를 만들 수 있다."
   ]
  },
  {
   "cell_type": "code",
   "execution_count": 9,
   "id": "0e15a1e1-7579-4145-a800-3b97be1b4e03",
   "metadata": {},
   "outputs": [],
   "source": [
    "from sklearn.feature_extraction.text import CountVectorizer"
   ]
  },
  {
   "cell_type": "code",
   "execution_count": 15,
   "id": "dd7f107b-4ce2-43dc-b158-430ac9390040",
   "metadata": {},
   "outputs": [
    {
     "name": "stdout",
     "output_type": "stream",
     "text": [
      "bow: [[1 1 2 1 2 1]]\n",
      "vocab: {'you': 4, 'know': 1, 'want': 3, 'your': 5, 'love': 2, 'because': 0}\n"
     ]
    }
   ],
   "source": [
    "corpus = [\"you know I want your love. because I love you.\"]\n",
    "vector = CountVectorizer()\n",
    "\n",
    "print(f\"bow: {vector.fit_transform(corpus).toarray()}\\nvocab: {vector.vocabulary_}\")"
   ]
  },
  {
   "cell_type": "markdown",
   "id": "a59c5542-ea9f-46a8-a1db-8fad456e61f8",
   "metadata": {},
   "source": [
    "결과에서 보면 알 수 있듯이 CountVectorizer는 길이가 2 이상인 문자에 대해서만 토큰으로 인식하므로 I가 사라진 것을 알 수 있다.\n",
    "\n",
    "BoW는 띄어쓰기 기준으로만 분리하므로 영어에서는 별 문제가 없지만 한국어에서는 제대로 된 BoW가 만들어질 수 없다."
   ]
  },
  {
   "cell_type": "markdown",
   "id": "1934a379-1434-495f-8241-9693bc16b78b",
   "metadata": {},
   "source": [
    "CountVectorizer에 불용어를 지정하면 불용어를 제외하고 BoW를 만들 수 있다."
   ]
  },
  {
   "cell_type": "code",
   "execution_count": 16,
   "id": "1f45e666-cf93-47a5-a54c-8ba061cc4fd0",
   "metadata": {},
   "outputs": [
    {
     "name": "stdout",
     "output_type": "stream",
     "text": [
      "bow: [[1 1 1 1 1]]\n",
      "vocab: {'family': 1, 'important': 2, 'thing': 4, 'it': 3, 'everything': 0}\n"
     ]
    }
   ],
   "source": [
    "text = [\"Family is not an important thing. It's everything.\"]\n",
    "# 사용자 직접 정의 불용어 사용\n",
    "vect = CountVectorizer(stop_words=[\"the\", \"a\", \"an\", \"is\", \"not\"])\n",
    "print(f\"bow: {vect.fit_transform(text).toarray()}\\nvocab: {vect.vocabulary_}\")"
   ]
  },
  {
   "cell_type": "code",
   "execution_count": 18,
   "id": "da13145b-088a-462f-a0c6-f62b9fd26b5e",
   "metadata": {},
   "outputs": [
    {
     "name": "stdout",
     "output_type": "stream",
     "text": [
      "bow: [[1 1 1]]\n",
      "vocab: {'family': 0, 'important': 1, 'thing': 2}\n"
     ]
    }
   ],
   "source": [
    "# CountVectorizer 제공 자체 불용어 사용\n",
    "vect = CountVectorizer(stop_words=\"english\")\n",
    "print(f\"bow: {vect.fit_transform(text).toarray()}\\nvocab: {vect.vocabulary_}\")"
   ]
  },
  {
   "cell_type": "code",
   "execution_count": 20,
   "id": "375e5fad-84f3-4eea-9524-c3f6ac0cf1f7",
   "metadata": {},
   "outputs": [
    {
     "name": "stdout",
     "output_type": "stream",
     "text": [
      "bow: [[1 1 1 1]]\n",
      "vocab: {'family': 1, 'important': 2, 'thing': 3, 'everything': 0}\n"
     ]
    }
   ],
   "source": [
    "from nltk.corpus import stopwords\n",
    "\n",
    "stop_words = stopwords.words(\"english\")\n",
    "vect = CountVectorizer(stop_words=stop_words)\n",
    "print(f\"bow: {vect.fit_transform(text).toarray()}\\nvocab: {vect.vocabulary_}\")"
   ]
  }
 ],
 "metadata": {
  "kernelspec": {
   "display_name": "Python 3 (ipykernel)",
   "language": "python",
   "name": "python3"
  },
  "language_info": {
   "codemirror_mode": {
    "name": "ipython",
    "version": 3
   },
   "file_extension": ".py",
   "mimetype": "text/x-python",
   "name": "python",
   "nbconvert_exporter": "python",
   "pygments_lexer": "ipython3",
   "version": "3.9.21"
  }
 },
 "nbformat": 4,
 "nbformat_minor": 5
}
