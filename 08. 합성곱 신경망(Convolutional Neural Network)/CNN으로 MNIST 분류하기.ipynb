{
 "cells": [
  {
   "cell_type": "markdown",
   "id": "5bcf1409-25a6-410d-b008-60c337e23908",
   "metadata": {},
   "source": [
    "모델의 아키텍처는 총 3개의 층으로 구성된다.\n",
    "\n",
    "1번 레이어: 합성곱층<br>\n",
    "합성곱(in_channel=1, out_channel=32, kernel_size=3, stride=1, padding=1) + ReLU<br>\n",
    "맥스풀링(kernel_size=2, stride=2)\n",
    "\n",
    "2번 레이어: 합성곱층<br>\n",
    "합성곱(in_channel=32, out_channel=64, kernel_size=3, stride=1, padding=1) + ReLU<br>\n",
    "맥스풀링(kernel_size=2, stride=2)\n",
    "\n",
    "3번 레이어: 전결합층(Fully-Connected Layer)<br>\n",
    "특성맵을 펼친다.<br>\n",
    "전결합층(뉴런 10개) + Softmax"
   ]
  },
  {
   "cell_type": "code",
   "execution_count": 1,
   "id": "394da203-7502-4465-bca3-2a5f832466bb",
   "metadata": {},
   "outputs": [],
   "source": [
    "import torch\n",
    "import torch.nn as nn\n",
    "import torch.nn.init\n",
    "import torchvision.datasets as dsets\n",
    "import torchvision.transforms as transforms"
   ]
  },
  {
   "cell_type": "code",
   "execution_count": 2,
   "id": "4e52a0fc-a979-41db-95cd-1cef5d0bb91c",
   "metadata": {},
   "outputs": [
    {
     "data": {
      "text/plain": [
       "'cuda'"
      ]
     },
     "execution_count": 2,
     "metadata": {},
     "output_type": "execute_result"
    }
   ],
   "source": [
    "device = \"cuda\" if torch.cuda.is_available() else \"cpu\"\n",
    "device"
   ]
  },
  {
   "cell_type": "code",
   "execution_count": 3,
   "id": "35bb1ddc-95cd-4002-a898-9f4fc528797d",
   "metadata": {},
   "outputs": [],
   "source": [
    "torch.manual_seed(7777)\n",
    "if device == \"cuda\":\n",
    "    torch.cuda.manual_seed_all(777)"
   ]
  },
  {
   "cell_type": "code",
   "execution_count": 4,
   "id": "37cd9220-c6d0-4894-b2fb-2f8f4d983f44",
   "metadata": {},
   "outputs": [],
   "source": [
    "lr = 1e-3\n",
    "training_epochs = 15\n",
    "batch_size = 100"
   ]
  },
  {
   "cell_type": "code",
   "execution_count": 5,
   "id": "94c3fae3-f5f3-422f-b0d8-bde22242e613",
   "metadata": {},
   "outputs": [],
   "source": [
    "mnist_train = dsets.MNIST(\n",
    "    root=\"../input/\", train=True, transform=transforms.ToTensor(), download=True\n",
    ")\n",
    "mnist_test = dsets.MNIST(\n",
    "    root=\"../input/\", train=False, transform=transforms.ToTensor(), download=True\n",
    ")"
   ]
  },
  {
   "cell_type": "code",
   "execution_count": 6,
   "id": "cf42ced3-bc42-48b9-b05b-37bfb0a633ce",
   "metadata": {},
   "outputs": [],
   "source": [
    "train_loader = torch.utils.data.DataLoader(\n",
    "    dataset=mnist_train, batch_size=batch_size, shuffle=True, drop_last=True\n",
    ")\n",
    "test_loader = torch.utils.data.DataLoader(\n",
    "    dataset=mnist_test, batch_size=batch_size, shuffle=False\n",
    ")"
   ]
  },
  {
   "cell_type": "code",
   "execution_count": 7,
   "id": "a638985f-65c3-4f4b-8024-207c8706cee2",
   "metadata": {},
   "outputs": [],
   "source": [
    "class CNN(nn.Module):\n",
    "    def __init__(self):\n",
    "        super().__init__()\n",
    "        self.layer1 = nn.Sequential(\n",
    "            nn.Conv2d(1, 32, kernel_size=3, stride=1, padding=1),\n",
    "            nn.ReLU(),\n",
    "            nn.MaxPool2d(kernel_size=2, stride=2),\n",
    "        )\n",
    "\n",
    "        self.layer2 = nn.Sequential(\n",
    "            nn.Conv2d(32, 64, kernel_size=3, stride=1, padding=1),\n",
    "            nn.ReLU(),\n",
    "            nn.MaxPool2d(kernel_size=2, stride=2),\n",
    "        )\n",
    "\n",
    "        self.fc = nn.Linear(7 * 7 * 64, 10, bias=True)\n",
    "\n",
    "        # 전결합층 한정 가중치 초기화\n",
    "        nn.init.xavier_uniform_(self.fc.weight)\n",
    "\n",
    "    def forward(self, x):\n",
    "        out = self.layer1(x)\n",
    "        out = self.layer2(out)\n",
    "        # 배치 차원만 남기고 Flatten\n",
    "        out = out.view(out.size(0), -1)\n",
    "        out = self.fc(out)\n",
    "        return out"
   ]
  },
  {
   "cell_type": "code",
   "execution_count": 8,
   "id": "07a255c0-c4b4-4592-9f5e-933398b5c7b8",
   "metadata": {},
   "outputs": [],
   "source": [
    "model = CNN().to(device)"
   ]
  },
  {
   "cell_type": "code",
   "execution_count": 9,
   "id": "a5eb3a15-f00e-4707-ac8d-6aef8bab3da0",
   "metadata": {},
   "outputs": [],
   "source": [
    "criterion = nn.CrossEntropyLoss().to(device)\n",
    "optimizer = torch.optim.Adam(model.parameters(), lr=lr)"
   ]
  },
  {
   "cell_type": "code",
   "execution_count": 10,
   "id": "021fbbb3-c15e-4671-97d2-664f671f888a",
   "metadata": {},
   "outputs": [
    {
     "data": {
      "text/plain": [
       "600"
      ]
     },
     "execution_count": 10,
     "metadata": {},
     "output_type": "execute_result"
    }
   ],
   "source": [
    "total_batch = len(train_loader)\n",
    "total_batch"
   ]
  },
  {
   "cell_type": "code",
   "execution_count": 11,
   "id": "02e08576-5dc3-4b4f-b408-60564a730ae5",
   "metadata": {},
   "outputs": [
    {
     "name": "stdout",
     "output_type": "stream",
     "text": [
      "[Epoch    1] cost = 0.222355321\n",
      "[Epoch    2] cost = 0.0612181798\n",
      "[Epoch    3] cost = 0.0432155654\n",
      "[Epoch    4] cost = 0.0353079364\n",
      "[Epoch    5] cost = 0.0299282055\n",
      "[Epoch    6] cost = 0.0238759629\n",
      "[Epoch    7] cost = 0.0209481567\n",
      "[Epoch    8] cost = 0.017400112\n",
      "[Epoch    9] cost = 0.0138331493\n",
      "[Epoch   10] cost = 0.0120316716\n",
      "[Epoch   11] cost = 0.00995096005\n",
      "[Epoch   12] cost = 0.00908031315\n",
      "[Epoch   13] cost = 0.00717559271\n",
      "[Epoch   14] cost = 0.0073594735\n",
      "[Epoch   15] cost = 0.00544247311\n"
     ]
    }
   ],
   "source": [
    "for epoch in range(training_epochs):\n",
    "    avg_cost = 0\n",
    "\n",
    "    for X, y in train_loader:\n",
    "        X = X.to(device)\n",
    "        y = y.to(device)\n",
    "\n",
    "        optimizer.zero_grad()\n",
    "        hypothesis = model(X)\n",
    "        cost = criterion(hypothesis, y)\n",
    "        cost.backward()\n",
    "        optimizer.step()\n",
    "\n",
    "        avg_cost += cost / total_batch\n",
    "\n",
    "    print(f\"[Epoch {epoch + 1:>4}] cost = {avg_cost:>.9}\")"
   ]
  },
  {
   "cell_type": "code",
   "execution_count": 12,
   "id": "d2e937bb-419d-4229-872b-79bd8e284dd1",
   "metadata": {},
   "outputs": [
    {
     "name": "stdout",
     "output_type": "stream",
     "text": [
      "Accuracy: 0.9896000027656555\n"
     ]
    }
   ],
   "source": [
    "with torch.no_grad():\n",
    "    accuracy = 0\n",
    "    for X, y in test_loader:\n",
    "        X = X.to(device)\n",
    "        y = y.to(device)\n",
    "\n",
    "        prediction = model(X)\n",
    "        correct_prediction = torch.argmax(prediction, dim=1) == y\n",
    "\n",
    "        accuracy += correct_prediction.float().sum()\n",
    "    accuracy /= len(mnist_test)\n",
    "    print(f\"Accuracy: {accuracy.item()}\")"
   ]
  }
 ],
 "metadata": {
  "kernelspec": {
   "display_name": "Python 3 (ipykernel)",
   "language": "python",
   "name": "python3"
  },
  "language_info": {
   "codemirror_mode": {
    "name": "ipython",
    "version": 3
   },
   "file_extension": ".py",
   "mimetype": "text/x-python",
   "name": "python",
   "nbconvert_exporter": "python",
   "pygments_lexer": "ipython3",
   "version": "3.9.21"
  }
 },
 "nbformat": 4,
 "nbformat_minor": 5
}
