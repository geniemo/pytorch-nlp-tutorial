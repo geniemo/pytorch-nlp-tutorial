{
 "cells": [
  {
   "cell_type": "markdown",
   "id": "95583c1c-3dbd-415f-89d9-bc0914757e55",
   "metadata": {},
   "source": [
    "# 영어로 Word2Vec 만들기"
   ]
  },
  {
   "cell_type": "code",
   "execution_count": 1,
   "id": "b2d24dd8-7cf6-43c7-b5fd-cb615bb7bd5f",
   "metadata": {},
   "outputs": [],
   "source": [
    "import re\n",
    "import urllib.request\n",
    "import zipfile\n",
    "\n",
    "from lxml import etree\n",
    "from nltk.tokenize import sent_tokenize, word_tokenize"
   ]
  },
  {
   "cell_type": "code",
   "execution_count": 2,
   "id": "ba9a9d18-df65-4a41-ba55-9d99e48503eb",
   "metadata": {},
   "outputs": [
    {
     "data": {
      "text/plain": [
       "('../input/ted_en-20160408.xml', <http.client.HTTPMessage at 0x1a7600e2790>)"
      ]
     },
     "execution_count": 2,
     "metadata": {},
     "output_type": "execute_result"
    }
   ],
   "source": [
    "# 데이터 다운로드\n",
    "urllib.request.urlretrieve(\n",
    "    \"https://raw.githubusercontent.com/ukairia777/tensorflow-nlp-tutorial/main/09.%20Word%20Embedding/dataset/ted_en-20160408.xml\",\n",
    "    filename=\"../input/ted_en-20160408.xml\",\n",
    ")"
   ]
  },
  {
   "cell_type": "markdown",
   "id": "354589c8-4001-4d62-a1a7-9132d322397e",
   "metadata": {},
   "source": [
    "데이터 파일은 xml로 돼있어 전처리가 필요하다. 전처리 작업을 통해 xml 문법을 제거하고 원하는 데이터만 가져오자."
   ]
  },
  {
   "cell_type": "code",
   "execution_count": 3,
   "id": "9f0ea716-790d-4b7e-8cf9-28228cd01a06",
   "metadata": {},
   "outputs": [
    {
     "data": {
      "text/plain": [
       "('Here are two reasons', 24222849)"
      ]
     },
     "execution_count": 3,
     "metadata": {},
     "output_type": "execute_result"
    }
   ],
   "source": [
    "targetXML = open(\"../input/ted_en-20160408.xml\", \"r\", encoding=\"UTF8\")\n",
    "target_text = etree.parse(targetXML)\n",
    "# xml 파일로부터 <content>와 </content> 사이 내용만 가져온다.\n",
    "parse_text = \"\\n\".join(target_text.xpath(\"//content/text()\"))\n",
    "parse_text[:20], len(parse_text)"
   ]
  },
  {
   "cell_type": "code",
   "execution_count": 4,
   "id": "3f48b95b-b604-4b47-9e5f-e31f7b51cc5c",
   "metadata": {},
   "outputs": [],
   "source": [
    "# 정규 표현식의 sub 모듈을 통해 content 중간의 (Audio), (Laughter) 등의 배경음 부분 제거\n",
    "content_text = re.sub(r\"\\([^)]*\\)\", \"\", parse_text)"
   ]
  },
  {
   "cell_type": "code",
   "execution_count": 5,
   "id": "80fad036-de75-4b19-a5db-28b44313e695",
   "metadata": {},
   "outputs": [],
   "source": [
    "# 입력 코퍼스에 대해 NLTK를 사용해 문장 토큰화\n",
    "sent_text = sent_tokenize(content_text)"
   ]
  },
  {
   "cell_type": "code",
   "execution_count": 6,
   "id": "86742684-77ac-4744-8401-99d629eebc12",
   "metadata": {},
   "outputs": [],
   "source": [
    "normalized_text = []\n",
    "for string in sent_text:\n",
    "    # 각 문장에 대해 구두점 제거, 대문자를 소문자로 변환\n",
    "    tokens = re.sub(r\"[^a-z0-9]+\", \" \", string.lower())\n",
    "    normalized_text.append(tokens)"
   ]
  },
  {
   "cell_type": "code",
   "execution_count": 7,
   "id": "8370b0b5-9b8e-4a90-941f-8c473ae872c5",
   "metadata": {},
   "outputs": [
    {
     "data": {
      "text/plain": [
       "([['here',\n",
       "   'are',\n",
       "   'two',\n",
       "   'reasons',\n",
       "   'companies',\n",
       "   'fail',\n",
       "   'they',\n",
       "   'only',\n",
       "   'do',\n",
       "   'more',\n",
       "   'of',\n",
       "   'the',\n",
       "   'same',\n",
       "   'or',\n",
       "   'they',\n",
       "   'only',\n",
       "   'do',\n",
       "   'what',\n",
       "   's',\n",
       "   'new'],\n",
       "  ['to',\n",
       "   'me',\n",
       "   'the',\n",
       "   'real',\n",
       "   'real',\n",
       "   'solution',\n",
       "   'to',\n",
       "   'quality',\n",
       "   'growth',\n",
       "   'is',\n",
       "   'figuring',\n",
       "   'out',\n",
       "   'the',\n",
       "   'balance',\n",
       "   'between',\n",
       "   'two',\n",
       "   'activities',\n",
       "   'exploration',\n",
       "   'and',\n",
       "   'exploitation'],\n",
       "  ['both',\n",
       "   'are',\n",
       "   'necessary',\n",
       "   'but',\n",
       "   'it',\n",
       "   'can',\n",
       "   'be',\n",
       "   'too',\n",
       "   'much',\n",
       "   'of',\n",
       "   'a',\n",
       "   'good',\n",
       "   'thing']],\n",
       " 273424)"
      ]
     },
     "execution_count": 7,
     "metadata": {},
     "output_type": "execute_result"
    }
   ],
   "source": [
    "# 각 문장에 대해 NLTK 이용해 단어 토큰화\n",
    "result = [word_tokenize(sentence) for sentence in normalized_text]\n",
    "result[:3], len(result)"
   ]
  },
  {
   "cell_type": "markdown",
   "id": "c1fc9f8f-b7d0-404d-baa1-19b28daf5c23",
   "metadata": {},
   "source": [
    "토큰화가 잘 수행되었다. Word2Vec 모델에 데이터를 훈련시키자."
   ]
  },
  {
   "cell_type": "code",
   "execution_count": 8,
   "id": "6e65fcae-c9c3-4c46-aab8-9a555bf1f1d7",
   "metadata": {},
   "outputs": [],
   "source": [
    "from gensim.models import KeyedVectors, Word2Vec"
   ]
  },
  {
   "cell_type": "code",
   "execution_count": 9,
   "id": "4b61b043-fc9b-4a45-a4ef-5843fe7cfb0c",
   "metadata": {},
   "outputs": [],
   "source": [
    "model = Word2Vec(\n",
    "    sentences=result,\n",
    "    # 임베딩 된 벡터 차원\n",
    "    vector_size=100,\n",
    "    # 컨텍스트 윈도우 크기\n",
    "    window=5,\n",
    "    # 단어 최소 빈도 수 제한 (빈도가 적은 단어는 학습에서 제외)\n",
    "    min_count=5,\n",
    "    # 학습을 위한 프로세스 수\n",
    "    workers=4,\n",
    "    # 0은 CBOW, 1은 Skip-gram\n",
    "    sg=0,\n",
    ")"
   ]
  },
  {
   "cell_type": "markdown",
   "id": "2b8f4404-b3d6-43c5-93e1-50d2e4e79840",
   "metadata": {},
   "source": [
    "학습을 진행하였다. Word2Vec은 입력한 단어에 대해 가장 유사한 단어들을 출력하는 model.wv.most_similar를 지원한다."
   ]
  },
  {
   "cell_type": "code",
   "execution_count": 10,
   "id": "c695686f-2abd-40b0-b3ca-47fc2b96ca14",
   "metadata": {},
   "outputs": [
    {
     "data": {
      "text/plain": [
       "[('woman', 0.8421722054481506),\n",
       " ('guy', 0.8199131488800049),\n",
       " ('boy', 0.7690280675888062),\n",
       " ('lady', 0.7625884413719177),\n",
       " ('girl', 0.756271481513977),\n",
       " ('soldier', 0.7358545660972595),\n",
       " ('gentleman', 0.7264915108680725),\n",
       " ('kid', 0.6969330906867981),\n",
       " ('poet', 0.6748313307762146),\n",
       " ('david', 0.6612922549247742)]"
      ]
     },
     "execution_count": 10,
     "metadata": {},
     "output_type": "execute_result"
    }
   ],
   "source": [
    "model_result = model.wv.most_similar(\"man\")\n",
    "model_result"
   ]
  },
  {
   "cell_type": "markdown",
   "id": "b0817fcb-eff6-461b-ad8e-541478073888",
   "metadata": {},
   "source": [
    "학습한 모델을 나중에 다시 사용할 수 있게 파일로 저장하고 로드해보자."
   ]
  },
  {
   "cell_type": "code",
   "execution_count": 11,
   "id": "b67c230a-2860-4690-a0df-aa6c1824971b",
   "metadata": {},
   "outputs": [],
   "source": [
    "model.wv.save_word2vec_format(\"eng_w2v\")  # 모델 저장\n",
    "loaded_model = KeyedVectors.load_word2vec_format(\"eng_w2v\")  # 모델 로드"
   ]
  },
  {
   "cell_type": "code",
   "execution_count": 12,
   "id": "28abbf80-c762-4834-bc6a-9e39bbc9d947",
   "metadata": {},
   "outputs": [
    {
     "data": {
      "text/plain": [
       "[('woman', 0.8421722054481506),\n",
       " ('guy', 0.8199131488800049),\n",
       " ('boy', 0.7690280675888062),\n",
       " ('lady', 0.7625884413719177),\n",
       " ('girl', 0.756271481513977),\n",
       " ('soldier', 0.7358545660972595),\n",
       " ('gentleman', 0.7264915108680725),\n",
       " ('kid', 0.6969330906867981),\n",
       " ('poet', 0.6748313307762146),\n",
       " ('david', 0.6612922549247742)]"
      ]
     },
     "execution_count": 12,
     "metadata": {},
     "output_type": "execute_result"
    }
   ],
   "source": [
    "loaded_model.most_similar(\"man\")"
   ]
  },
  {
   "cell_type": "markdown",
   "id": "dea53f63-04e5-454a-af7a-44c791948490",
   "metadata": {},
   "source": [
    "# 한국어 Word2Vec 만들기 (네이버 영화 리뷰)"
   ]
  },
  {
   "cell_type": "code",
   "execution_count": 27,
   "id": "22129a28-2357-4ff2-b24e-1efbc83ca781",
   "metadata": {},
   "outputs": [],
   "source": [
    "import matplotlib.pyplot as plt\n",
    "import pandas as pd\n",
    "from konlpy.tag import Okt\n",
    "from tqdm import tqdm"
   ]
  },
  {
   "cell_type": "code",
   "execution_count": 14,
   "id": "7a261ee9-605f-4160-a31c-3409328e1ee3",
   "metadata": {},
   "outputs": [
    {
     "data": {
      "text/plain": [
       "('../input/ratings.txt', <http.client.HTTPMessage at 0x1a73bcc2a00>)"
      ]
     },
     "execution_count": 14,
     "metadata": {},
     "output_type": "execute_result"
    }
   ],
   "source": [
    "urllib.request.urlretrieve(\n",
    "    \"https://raw.githubusercontent.com/e9t/nsmc/master/ratings.txt\",\n",
    "    filename=\"../input/ratings.txt\",\n",
    ")"
   ]
  },
  {
   "cell_type": "code",
   "execution_count": 16,
   "id": "a019dd3f-528e-4696-b701-1bbfbcb3fb96",
   "metadata": {},
   "outputs": [
    {
     "data": {
      "text/html": [
       "<div>\n",
       "<style scoped>\n",
       "    .dataframe tbody tr th:only-of-type {\n",
       "        vertical-align: middle;\n",
       "    }\n",
       "\n",
       "    .dataframe tbody tr th {\n",
       "        vertical-align: top;\n",
       "    }\n",
       "\n",
       "    .dataframe thead th {\n",
       "        text-align: right;\n",
       "    }\n",
       "</style>\n",
       "<table border=\"1\" class=\"dataframe\">\n",
       "  <thead>\n",
       "    <tr style=\"text-align: right;\">\n",
       "      <th></th>\n",
       "      <th>id</th>\n",
       "      <th>document</th>\n",
       "      <th>label</th>\n",
       "    </tr>\n",
       "  </thead>\n",
       "  <tbody>\n",
       "    <tr>\n",
       "      <th>0</th>\n",
       "      <td>8112052</td>\n",
       "      <td>어릴때보고 지금다시봐도 재밌어요ㅋㅋ</td>\n",
       "      <td>1</td>\n",
       "    </tr>\n",
       "    <tr>\n",
       "      <th>1</th>\n",
       "      <td>8132799</td>\n",
       "      <td>디자인을 배우는 학생으로, 외국디자이너와 그들이 일군 전통을 통해 발전해가는 문화산...</td>\n",
       "      <td>1</td>\n",
       "    </tr>\n",
       "    <tr>\n",
       "      <th>2</th>\n",
       "      <td>4655635</td>\n",
       "      <td>폴리스스토리 시리즈는 1부터 뉴까지 버릴께 하나도 없음.. 최고.</td>\n",
       "      <td>1</td>\n",
       "    </tr>\n",
       "    <tr>\n",
       "      <th>3</th>\n",
       "      <td>9251303</td>\n",
       "      <td>와.. 연기가 진짜 개쩔구나.. 지루할거라고 생각했는데 몰입해서 봤다.. 그래 이런...</td>\n",
       "      <td>1</td>\n",
       "    </tr>\n",
       "    <tr>\n",
       "      <th>4</th>\n",
       "      <td>10067386</td>\n",
       "      <td>안개 자욱한 밤하늘에 떠 있는 초승달 같은 영화.</td>\n",
       "      <td>1</td>\n",
       "    </tr>\n",
       "  </tbody>\n",
       "</table>\n",
       "</div>"
      ],
      "text/plain": [
       "         id                                           document  label\n",
       "0   8112052                                어릴때보고 지금다시봐도 재밌어요ㅋㅋ      1\n",
       "1   8132799  디자인을 배우는 학생으로, 외국디자이너와 그들이 일군 전통을 통해 발전해가는 문화산...      1\n",
       "2   4655635               폴리스스토리 시리즈는 1부터 뉴까지 버릴께 하나도 없음.. 최고.      1\n",
       "3   9251303  와.. 연기가 진짜 개쩔구나.. 지루할거라고 생각했는데 몰입해서 봤다.. 그래 이런...      1\n",
       "4  10067386                        안개 자욱한 밤하늘에 떠 있는 초승달 같은 영화.      1"
      ]
     },
     "execution_count": 16,
     "metadata": {},
     "output_type": "execute_result"
    }
   ],
   "source": [
    "train_data = pd.read_table(\"../input/ratings.txt\")\n",
    "train_data[:5]"
   ]
  },
  {
   "cell_type": "code",
   "execution_count": 17,
   "id": "3daf91c5-202a-4c29-a947-ef0cef5e43ff",
   "metadata": {},
   "outputs": [
    {
     "data": {
      "text/plain": [
       "200000"
      ]
     },
     "execution_count": 17,
     "metadata": {},
     "output_type": "execute_result"
    }
   ],
   "source": [
    "len(train_data)"
   ]
  },
  {
   "cell_type": "code",
   "execution_count": 19,
   "id": "8407e5d9-5300-4fb2-bd55-8aeb77fb756c",
   "metadata": {},
   "outputs": [
    {
     "data": {
      "text/plain": [
       "True"
      ]
     },
     "execution_count": 19,
     "metadata": {},
     "output_type": "execute_result"
    }
   ],
   "source": [
    "train_data.isnull().values.any()"
   ]
  },
  {
   "cell_type": "code",
   "execution_count": 20,
   "id": "7d23b31a-c24c-425a-a51a-326eae8b4dd0",
   "metadata": {},
   "outputs": [
    {
     "data": {
      "text/plain": [
       "False"
      ]
     },
     "execution_count": 20,
     "metadata": {},
     "output_type": "execute_result"
    }
   ],
   "source": [
    "train_data = train_data.dropna(how=\"any\")\n",
    "train_data.isnull().values.any()"
   ]
  },
  {
   "cell_type": "code",
   "execution_count": 21,
   "id": "8c76d2d9-bdc8-4e3c-90d5-54ae63ea2242",
   "metadata": {},
   "outputs": [
    {
     "data": {
      "text/plain": [
       "199992"
      ]
     },
     "execution_count": 21,
     "metadata": {},
     "output_type": "execute_result"
    }
   ],
   "source": [
    "len(train_data)"
   ]
  },
  {
   "cell_type": "markdown",
   "id": "16a945b7-4729-4f5f-8fa3-a7b11071016f",
   "metadata": {},
   "source": [
    "정규 표현식을 통해 한글이 아닌 경우 제거하자."
   ]
  },
  {
   "cell_type": "code",
   "execution_count": 22,
   "id": "9997e714-17d4-42df-81ed-63c551e3238c",
   "metadata": {},
   "outputs": [],
   "source": [
    "train_data[\"document\"] = train_data[\"document\"].str.replace(\n",
    "    \"[^ㄱ-ㅎㅏ-ㅣ가-힣 ]\", \"\", regex=True\n",
    ")"
   ]
  },
  {
   "cell_type": "code",
   "execution_count": 23,
   "id": "3dc5cd31-8ccd-49b3-af96-e0cddaa490db",
   "metadata": {},
   "outputs": [
    {
     "data": {
      "text/html": [
       "<div>\n",
       "<style scoped>\n",
       "    .dataframe tbody tr th:only-of-type {\n",
       "        vertical-align: middle;\n",
       "    }\n",
       "\n",
       "    .dataframe tbody tr th {\n",
       "        vertical-align: top;\n",
       "    }\n",
       "\n",
       "    .dataframe thead th {\n",
       "        text-align: right;\n",
       "    }\n",
       "</style>\n",
       "<table border=\"1\" class=\"dataframe\">\n",
       "  <thead>\n",
       "    <tr style=\"text-align: right;\">\n",
       "      <th></th>\n",
       "      <th>id</th>\n",
       "      <th>document</th>\n",
       "      <th>label</th>\n",
       "    </tr>\n",
       "  </thead>\n",
       "  <tbody>\n",
       "    <tr>\n",
       "      <th>0</th>\n",
       "      <td>8112052</td>\n",
       "      <td>어릴때보고 지금다시봐도 재밌어요ㅋㅋ</td>\n",
       "      <td>1</td>\n",
       "    </tr>\n",
       "    <tr>\n",
       "      <th>1</th>\n",
       "      <td>8132799</td>\n",
       "      <td>디자인을 배우는 학생으로 외국디자이너와 그들이 일군 전통을 통해 발전해가는 문화산업...</td>\n",
       "      <td>1</td>\n",
       "    </tr>\n",
       "    <tr>\n",
       "      <th>2</th>\n",
       "      <td>4655635</td>\n",
       "      <td>폴리스스토리 시리즈는 부터 뉴까지 버릴께 하나도 없음 최고</td>\n",
       "      <td>1</td>\n",
       "    </tr>\n",
       "    <tr>\n",
       "      <th>3</th>\n",
       "      <td>9251303</td>\n",
       "      <td>와 연기가 진짜 개쩔구나 지루할거라고 생각했는데 몰입해서 봤다 그래 이런게 진짜 영화지</td>\n",
       "      <td>1</td>\n",
       "    </tr>\n",
       "    <tr>\n",
       "      <th>4</th>\n",
       "      <td>10067386</td>\n",
       "      <td>안개 자욱한 밤하늘에 떠 있는 초승달 같은 영화</td>\n",
       "      <td>1</td>\n",
       "    </tr>\n",
       "  </tbody>\n",
       "</table>\n",
       "</div>"
      ],
      "text/plain": [
       "         id                                           document  label\n",
       "0   8112052                                어릴때보고 지금다시봐도 재밌어요ㅋㅋ      1\n",
       "1   8132799  디자인을 배우는 학생으로 외국디자이너와 그들이 일군 전통을 통해 발전해가는 문화산업...      1\n",
       "2   4655635                   폴리스스토리 시리즈는 부터 뉴까지 버릴께 하나도 없음 최고      1\n",
       "3   9251303   와 연기가 진짜 개쩔구나 지루할거라고 생각했는데 몰입해서 봤다 그래 이런게 진짜 영화지      1\n",
       "4  10067386                         안개 자욱한 밤하늘에 떠 있는 초승달 같은 영화      1"
      ]
     },
     "execution_count": 23,
     "metadata": {},
     "output_type": "execute_result"
    }
   ],
   "source": [
    "train_data[:5]"
   ]
  },
  {
   "cell_type": "markdown",
   "id": "935b333f-4780-45a5-80f8-ac6134b243df",
   "metadata": {},
   "source": [
    "학습 시 사용하지 않을 불용어를 제거하자."
   ]
  },
  {
   "cell_type": "code",
   "execution_count": 24,
   "id": "f93a9da3-9c26-44fc-a793-a87c2f7b4420",
   "metadata": {},
   "outputs": [],
   "source": [
    "stopwords = [\n",
    "    \"의\",\n",
    "    \"가\",\n",
    "    \"이\",\n",
    "    \"은\",\n",
    "    \"들\",\n",
    "    \"는\",\n",
    "    \"좀\",\n",
    "    \"잘\",\n",
    "    \"걍\",\n",
    "    \"과\",\n",
    "    \"도\",\n",
    "    \"를\",\n",
    "    \"으로\",\n",
    "    \"자\",\n",
    "    \"에\",\n",
    "    \"와\",\n",
    "    \"한\",\n",
    "    \"하다\",\n",
    "]"
   ]
  },
  {
   "cell_type": "code",
   "execution_count": 25,
   "id": "e7dc34bc-cc43-4ff6-a21f-10fc064b5204",
   "metadata": {},
   "outputs": [],
   "source": [
    "okt = Okt()"
   ]
  },
  {
   "cell_type": "code",
   "execution_count": 29,
   "id": "6542c67a-7ddd-429b-b275-566d75214684",
   "metadata": {},
   "outputs": [
    {
     "name": "stderr",
     "output_type": "stream",
     "text": [
      "100%|█████████████████████████████████████████████████████████████████████████| 199992/199992 [13:50<00:00, 240.91it/s]\n"
     ]
    }
   ],
   "source": [
    "tokenized_data = []\n",
    "for sentence in tqdm(train_data[\"document\"]):\n",
    "    # stem=True로 어간 추출을 해 단어 기본형 유지\n",
    "    tokenized_sentence = okt.morphs(sentence, stem=True)\n",
    "    stopwords_removed_sentence = [\n",
    "        word for word in tokenized_sentence if not word in stopwords\n",
    "    ]\n",
    "    tokenized_data.append(stopwords_removed_sentence)"
   ]
  },
  {
   "cell_type": "code",
   "execution_count": 30,
   "id": "7d01ef34-f9c1-4a70-8ed8-209ae26d02a5",
   "metadata": {},
   "outputs": [
    {
     "name": "stdout",
     "output_type": "stream",
     "text": [
      "리뷰 최대 길이: 72\n",
      "리뷰 평균 길이: 10.716703668146726\n"
     ]
    },
    {
     "data": {
      "image/png": "[encoded data removed]",
      "text/plain": [
       "<Figure size 640x480 with 1 Axes>"
      ]
     },
     "metadata": {},
     "output_type": "display_data"
    }
   ],
   "source": [
    "print(\n",
    "    (\n",
    "        f\"리뷰 최대 길이: {max(len(review) for review in tokenized_data)}\\n\"\n",
    "        f\"리뷰 평균 길이: {sum(map(len, tokenized_data)) / len(tokenized_data)}\"\n",
    "    )\n",
    ")\n",
    "plt.hist([len(review) for review in tokenized_data], bins=50)\n",
    "plt.xlabel(\"length of samples\")\n",
    "plt.ylabel(\"number of samples\")\n",
    "plt.show()"
   ]
  },
  {
   "cell_type": "markdown",
   "id": "69610341-7b4f-4973-8175-4fddda1498c2",
   "metadata": {},
   "source": [
    "Word2Vec으로 토큰화 된 네이버 영화 리뷰 데이터를 학습한다."
   ]
  },
  {
   "cell_type": "code",
   "execution_count": 31,
   "id": "e45583c4-162e-4585-a5f0-07e6b7108988",
   "metadata": {},
   "outputs": [],
   "source": [
    "model = Word2Vec(\n",
    "    sentences=tokenized_data, vector_size=100, window=5, min_count=5, workers=4, sg=0\n",
    ")"
   ]
  },
  {
   "cell_type": "code",
   "execution_count": 32,
   "id": "7b076df0-17d0-4a77-975a-4da0d227e683",
   "metadata": {},
   "outputs": [
    {
     "data": {
      "text/plain": [
       "(16477, 100)"
      ]
     },
     "execution_count": 32,
     "metadata": {},
     "output_type": "execute_result"
    }
   ],
   "source": [
    "model.wv.vectors.shape"
   ]
  },
  {
   "cell_type": "markdown",
   "id": "5d5ae587-32a2-4afe-a970-638306b3a973",
   "metadata": {},
   "source": [
    "16477개의 단어가 있고 각 단어는 100차원으로 구성되어 있다."
   ]
  },
  {
   "cell_type": "code",
   "execution_count": 33,
   "id": "ff56e659-5c26-4133-84cd-c15ebeedb397",
   "metadata": {},
   "outputs": [
    {
     "data": {
      "text/plain": [
       "[('안성기', 0.8505879640579224),\n",
       " ('박중훈', 0.836275577545166),\n",
       " ('양동근', 0.8357295989990234),\n",
       " ('김명민', 0.8321253657341003),\n",
       " ('김수현', 0.831449031829834),\n",
       " ('채민서', 0.8249853253364563),\n",
       " ('윤제문', 0.8245498538017273),\n",
       " ('최민수', 0.8245446681976318),\n",
       " ('한석규', 0.8174071907997131),\n",
       " ('이정재', 0.8157333731651306)]"
      ]
     },
     "execution_count": 33,
     "metadata": {},
     "output_type": "execute_result"
    }
   ],
   "source": [
    "model.wv.most_similar(\"최민식\")"
   ]
  },
  {
   "cell_type": "code",
   "execution_count": 34,
   "id": "f3183106-00fd-4a9e-ad16-672ca1fd61b8",
   "metadata": {},
   "outputs": [
    {
     "data": {
      "text/plain": [
       "[('슬래셔', 0.8806781768798828),\n",
       " ('무협', 0.8803909420967102),\n",
       " ('호러', 0.8603289127349854),\n",
       " ('느와르', 0.8525978326797485),\n",
       " ('블록버스터', 0.8237674236297607),\n",
       " ('물의', 0.811237633228302),\n",
       " ('멜로', 0.8107128143310547),\n",
       " ('물', 0.8054773807525635),\n",
       " ('무비', 0.8052991628646851),\n",
       " ('뱀파이어', 0.7958634495735168)]"
      ]
     },
     "execution_count": 34,
     "metadata": {},
     "output_type": "execute_result"
    }
   ],
   "source": [
    "model.wv.most_similar(\"히어로\")"
   ]
  },
  {
   "cell_type": "markdown",
   "id": "42de96fc-bcf6-4541-a7c0-25b14f8131ca",
   "metadata": {},
   "source": [
    "# 사전 훈련된 Word2Vec 임베딩(Pre-trained Word2Vec embedding)"
   ]
  },
  {
   "cell_type": "code",
   "execution_count": 35,
   "id": "48b77b1f-ba10-4d32-b397-18416f17b03b",
   "metadata": {},
   "outputs": [],
   "source": [
    "import gensim"
   ]
  },
  {
   "cell_type": "code",
   "execution_count": 36,
   "id": "bb6a5f7b-face-45e4-b875-6eaeaed970ac",
   "metadata": {},
   "outputs": [],
   "source": [
    "word2vec_model = gensim.models.KeyedVectors.load_word2vec_format(\n",
    "    \"../model/GoogleNews-vectors-negative300.bin.gz\", binary=True\n",
    ")"
   ]
  },
  {
   "cell_type": "code",
   "execution_count": 37,
   "id": "2f02f39f-c575-48d8-ae76-2a86e9c3c151",
   "metadata": {},
   "outputs": [
    {
     "data": {
      "text/plain": [
       "(3000000, 300)"
      ]
     },
     "execution_count": 37,
     "metadata": {},
     "output_type": "execute_result"
    }
   ],
   "source": [
    "word2vec_model.vectors.shape"
   ]
  },
  {
   "cell_type": "markdown",
   "id": "ef70945a-ac48-477a-bf23-2a2ee7405632",
   "metadata": {},
   "source": [
    "3백만 개의 단어가 있고 각 단어의 차원은 300이다."
   ]
  },
  {
   "cell_type": "code",
   "execution_count": 38,
   "id": "e3ea0079-f2b1-40a2-a526-b00dca0de253",
   "metadata": {},
   "outputs": [
    {
     "data": {
      "text/plain": [
       "0.40797034"
      ]
     },
     "execution_count": 38,
     "metadata": {},
     "output_type": "execute_result"
    }
   ],
   "source": [
    "word2vec_model.similarity(\"this\", \"is\")"
   ]
  },
  {
   "cell_type": "code",
   "execution_count": 39,
   "id": "20af1194-a6b3-420e-85e8-3e7b42d0d094",
   "metadata": {},
   "outputs": [
    {
     "data": {
      "text/plain": [
       "0.057204384"
      ]
     },
     "execution_count": 39,
     "metadata": {},
     "output_type": "execute_result"
    }
   ],
   "source": [
    "word2vec_model.similarity(\"post\", \"book\")"
   ]
  },
  {
   "cell_type": "code",
   "execution_count": 40,
   "id": "ab3b7f74-1846-4a88-93ed-000d29881d8c",
   "metadata": {
    "scrolled": true
   },
   "outputs": [
    {
     "data": {
      "text/plain": [
       "array([ 0.11279297, -0.02612305, -0.04492188,  0.06982422,  0.140625  ,\n",
       "        0.03039551, -0.04370117,  0.24511719,  0.08740234, -0.05053711,\n",
       "        0.23144531, -0.07470703,  0.21875   ,  0.03466797, -0.14550781,\n",
       "        0.05761719,  0.00671387, -0.00701904,  0.13183594, -0.25390625,\n",
       "        0.14355469, -0.140625  , -0.03564453, -0.21289062, -0.24804688,\n",
       "        0.04980469, -0.09082031,  0.14453125,  0.05712891, -0.10400391,\n",
       "       -0.19628906, -0.20507812, -0.27539062,  0.03063965,  0.20117188,\n",
       "        0.17382812,  0.09130859, -0.10107422,  0.22851562, -0.04077148,\n",
       "        0.02709961, -0.00106049,  0.02709961,  0.34179688, -0.13183594,\n",
       "       -0.078125  ,  0.02197266, -0.18847656, -0.17480469, -0.05566406,\n",
       "       -0.20898438,  0.04858398, -0.07617188, -0.15625   , -0.05419922,\n",
       "        0.01672363, -0.02722168, -0.11132812, -0.03588867, -0.18359375,\n",
       "        0.28710938,  0.01757812,  0.02185059, -0.05664062, -0.01251221,\n",
       "        0.01708984, -0.21777344, -0.06787109,  0.04711914, -0.00668335,\n",
       "        0.08544922, -0.02209473,  0.31835938,  0.01794434, -0.02246094,\n",
       "       -0.03051758, -0.09570312,  0.24414062,  0.20507812,  0.05419922,\n",
       "        0.29101562,  0.03637695,  0.04956055, -0.06689453,  0.09277344,\n",
       "       -0.10595703, -0.04370117,  0.19726562, -0.03015137,  0.05615234,\n",
       "        0.08544922, -0.09863281, -0.02392578, -0.08691406, -0.22460938,\n",
       "       -0.16894531,  0.09521484, -0.0612793 , -0.03015137, -0.265625  ,\n",
       "       -0.13378906,  0.00139618,  0.01794434,  0.10107422,  0.13964844,\n",
       "        0.06445312, -0.09765625, -0.11376953, -0.24511719, -0.15722656,\n",
       "        0.00457764,  0.12988281, -0.03540039, -0.08105469,  0.18652344,\n",
       "        0.03125   , -0.09326172, -0.04760742,  0.23730469,  0.11083984,\n",
       "        0.08691406,  0.01916504,  0.21386719, -0.0065918 , -0.08984375,\n",
       "       -0.02502441, -0.09863281, -0.05639648, -0.26757812,  0.19335938,\n",
       "       -0.08886719, -0.25976562,  0.05957031, -0.10742188,  0.09863281,\n",
       "        0.1484375 ,  0.04101562,  0.00340271, -0.06591797, -0.02941895,\n",
       "        0.20019531, -0.00521851,  0.02355957, -0.13671875, -0.12597656,\n",
       "       -0.10791016,  0.0067749 ,  0.15917969,  0.0145874 , -0.15136719,\n",
       "        0.07519531, -0.02905273,  0.01843262,  0.20800781,  0.25195312,\n",
       "       -0.11523438, -0.23535156,  0.04101562, -0.11035156,  0.02905273,\n",
       "        0.22460938, -0.04272461,  0.09667969,  0.11865234,  0.08007812,\n",
       "        0.07958984,  0.3125    , -0.14941406, -0.234375  ,  0.06079102,\n",
       "        0.06982422, -0.14355469, -0.05834961, -0.36914062, -0.10595703,\n",
       "        0.00738525,  0.24023438, -0.10400391, -0.02124023,  0.05712891,\n",
       "       -0.11621094, -0.16894531, -0.06396484, -0.12060547,  0.08105469,\n",
       "       -0.13769531, -0.08447266,  0.12792969, -0.15429688,  0.17871094,\n",
       "        0.2421875 , -0.06884766,  0.03320312,  0.04394531, -0.04589844,\n",
       "        0.03686523, -0.07421875, -0.01635742, -0.24121094, -0.08203125,\n",
       "       -0.01733398,  0.0291748 ,  0.10742188,  0.11279297,  0.12890625,\n",
       "        0.01416016, -0.28710938,  0.16503906, -0.25585938,  0.2109375 ,\n",
       "       -0.19238281,  0.22363281,  0.04541016,  0.00872803,  0.11376953,\n",
       "        0.375     ,  0.09765625,  0.06201172,  0.12109375, -0.24316406,\n",
       "        0.203125  ,  0.12158203,  0.08642578,  0.01782227,  0.17382812,\n",
       "        0.01855469,  0.03613281, -0.02124023, -0.02905273, -0.04541016,\n",
       "        0.1796875 ,  0.06494141, -0.13378906, -0.09228516,  0.02172852,\n",
       "        0.02099609,  0.07226562,  0.3046875 , -0.27539062, -0.30078125,\n",
       "        0.08691406, -0.22949219,  0.0546875 , -0.34179688, -0.00680542,\n",
       "       -0.0291748 , -0.03222656,  0.16210938,  0.01141357,  0.23339844,\n",
       "       -0.0859375 , -0.06494141,  0.15039062,  0.17675781,  0.08251953,\n",
       "       -0.26757812, -0.11669922,  0.01330566,  0.01818848,  0.10009766,\n",
       "       -0.09570312,  0.109375  , -0.16992188, -0.23046875, -0.22070312,\n",
       "        0.0625    ,  0.03662109, -0.125     ,  0.05151367, -0.18847656,\n",
       "        0.22949219,  0.26367188, -0.09814453,  0.06176758,  0.11669922,\n",
       "        0.23046875,  0.32617188,  0.02038574, -0.03735352, -0.12255859,\n",
       "        0.296875  , -0.25      , -0.08544922, -0.03149414,  0.38085938,\n",
       "        0.02929688, -0.265625  ,  0.42382812, -0.1484375 ,  0.14355469,\n",
       "       -0.03125   ,  0.00717163, -0.16601562, -0.15820312,  0.03637695,\n",
       "       -0.16796875, -0.01483154,  0.09667969, -0.05761719, -0.00515747],\n",
       "      dtype=float32)"
      ]
     },
     "execution_count": 40,
     "metadata": {},
     "output_type": "execute_result"
    }
   ],
   "source": [
    "word2vec_model[\"book\"]"
   ]
  }
 ],
 "metadata": {
  "kernelspec": {
   "display_name": "Python 3 (ipykernel)",
   "language": "python",
   "name": "python3"
  },
  "language_info": {
   "codemirror_mode": {
    "name": "ipython",
    "version": 3
   },
   "file_extension": ".py",
   "mimetype": "text/x-python",
   "name": "python",
   "nbconvert_exporter": "python",
   "pygments_lexer": "ipython3",
   "version": "3.9.21"
  }
 },
 "nbformat": 4,
 "nbformat_minor": 5
}
