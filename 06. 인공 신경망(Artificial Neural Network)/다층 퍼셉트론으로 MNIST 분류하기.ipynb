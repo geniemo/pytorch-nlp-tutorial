{
 "cells": [
  {
   "cell_type": "code",
   "execution_count": 1,
   "id": "0bb409e5-45e8-4065-8b25-c3883a70d3b2",
   "metadata": {},
   "outputs": [],
   "source": [
    "import torch\n",
    "import torch.nn as nn\n",
    "import torchvision.datasets as dsets\n",
    "import torchvision.transforms as transforms\n",
    "from torch.utils.data import DataLoader"
   ]
  },
  {
   "cell_type": "code",
   "execution_count": 2,
   "id": "45cd2ffb-c688-43dd-8f53-8a61f3af17c1",
   "metadata": {},
   "outputs": [
    {
     "data": {
      "text/plain": [
       "'cuda'"
      ]
     },
     "execution_count": 2,
     "metadata": {},
     "output_type": "execute_result"
    }
   ],
   "source": [
    "device = \"cuda\" if torch.cuda.is_available() else \"cpu\"\n",
    "device"
   ]
  },
  {
   "cell_type": "code",
   "execution_count": 3,
   "id": "99fcf8c3-8b17-4147-a56b-df92531a9de5",
   "metadata": {},
   "outputs": [],
   "source": [
    "torch.manual_seed(777)\n",
    "if device == \"cuda\":\n",
    "    torch.cuda.manual_seed_all(777)"
   ]
  },
  {
   "cell_type": "code",
   "execution_count": 4,
   "id": "014278f2-d821-46ba-8661-50dac06bef19",
   "metadata": {},
   "outputs": [],
   "source": [
    "mnist_train = dsets.MNIST(\n",
    "    root=\"../input\", train=True, transform=transforms.ToTensor(), download=True\n",
    ")\n",
    "mnist_test = dsets.MNIST(\n",
    "    root=\"../input\", train=False, transform=transforms.ToTensor(), download=True\n",
    ")"
   ]
  },
  {
   "cell_type": "code",
   "execution_count": 5,
   "id": "1de1dee4-4e8c-4fd4-a891-78db9a161834",
   "metadata": {},
   "outputs": [],
   "source": [
    "loader_train = DataLoader(\n",
    "    dataset=mnist_train, batch_size=64, shuffle=True, drop_last=True\n",
    ")\n",
    "loader_test = DataLoader(dataset=mnist_test, batch_size=64, shuffle=False)"
   ]
  },
  {
   "cell_type": "code",
   "execution_count": 6,
   "id": "0e742fed-ffad-402d-a183-c5d82b1fbedf",
   "metadata": {},
   "outputs": [
    {
     "data": {
      "text/plain": [
       "Sequential(\n",
       "  (0): Linear(in_features=784, out_features=100, bias=True)\n",
       "  (1): ReLU()\n",
       "  (2): Linear(in_features=100, out_features=100, bias=True)\n",
       "  (3): ReLU()\n",
       "  (4): Linear(in_features=100, out_features=10, bias=True)\n",
       ")"
      ]
     },
     "execution_count": 6,
     "metadata": {},
     "output_type": "execute_result"
    }
   ],
   "source": [
    "model = nn.Sequential(\n",
    "    nn.Linear(28 * 28, 100),\n",
    "    nn.ReLU(),\n",
    "    nn.Linear(100, 100),\n",
    "    nn.ReLU(),\n",
    "    nn.Linear(100, 10),\n",
    ").to(device)\n",
    "model"
   ]
  },
  {
   "cell_type": "code",
   "execution_count": 7,
   "id": "b4e949ed-3a06-4c5d-9b8e-3e9cbf0e2a1a",
   "metadata": {},
   "outputs": [],
   "source": [
    "loss_fn = nn.CrossEntropyLoss()\n",
    "optimizer = torch.optim.Adam(model.parameters(), lr=0.01)"
   ]
  },
  {
   "cell_type": "code",
   "execution_count": 8,
   "id": "73f87d3f-053d-4367-9eff-3c6e31da8cd2",
   "metadata": {},
   "outputs": [],
   "source": [
    "epochs = 3"
   ]
  },
  {
   "cell_type": "code",
   "execution_count": 9,
   "id": "1b68608f-f132-443b-9853-63063b25c357",
   "metadata": {},
   "outputs": [
    {
     "name": "stdout",
     "output_type": "stream",
     "text": [
      "Epoch    1/3 Cost: 0.159502\n",
      "Epoch    2/3 Cost: 0.055072\n",
      "Epoch    3/3 Cost: 0.046659\n"
     ]
    }
   ],
   "source": [
    "for epoch in range(epochs):\n",
    "    for data, targets in loader_train:\n",
    "        data = data.view(-1, 28 * 28).to(device)\n",
    "        optimizer.zero_grad()\n",
    "        y_pred = model(data)\n",
    "        loss = loss_fn(y_pred, targets.to(device))\n",
    "        loss.backward()\n",
    "        optimizer.step()\n",
    "\n",
    "    print(f\"Epoch {epoch + 1:4d}/{epochs} Cost: {loss.item():.6f}\")"
   ]
  },
  {
   "cell_type": "markdown",
   "id": "b5be9886-3390-453d-a667-f6b6856497be",
   "metadata": {},
   "source": [
    "model.eval()을 통해서 모델을 추론 모드로 전환해주면 Dropout, BatchNorm등의 동작을 평가용으로 변경한다."
   ]
  },
  {
   "cell_type": "code",
   "execution_count": 10,
   "id": "a323c9b8-cb6a-4949-b121-1b4d4a858467",
   "metadata": {},
   "outputs": [
    {
     "name": "stdout",
     "output_type": "stream",
     "text": [
      "Accuracy: 9569/10000 (96%)\n"
     ]
    }
   ],
   "source": [
    "model.eval()\n",
    "correct = 0\n",
    "\n",
    "with torch.no_grad():\n",
    "    for data, targets in loader_test:\n",
    "        data = data.view(-1, 28 * 28).to(device)\n",
    "        outputs = model(data)\n",
    "\n",
    "        _, predicted = torch.max(outputs.data, dim=1)\n",
    "        correct += predicted.eq(targets.data.view_as(predicted).to(device)).sum()\n",
    "\n",
    "data_num = len(loader_test.dataset)\n",
    "print(f\"Accuracy: {correct}/{data_num} ({100 * correct / data_num:.0f}%)\")"
   ]
  },
  {
   "cell_type": "code",
   "execution_count": 21,
   "id": "90bfef16-2d26-44dd-bff2-880d75ee1ad2",
   "metadata": {},
   "outputs": [
    {
     "name": "stdout",
     "output_type": "stream",
     "text": [
      "predicted: 4, target=4\n"
     ]
    },
    {
     "data": {
      "text/plain": [
       "<matplotlib.image.AxesImage at 0x223c440b340>"
      ]
     },
     "execution_count": 21,
     "metadata": {},
     "output_type": "execute_result"
    },
    {
     "data": {
      "image/png": "[encoded data removed]",
      "text/plain": [
       "<Figure size 640x480 with 1 Axes>"
      ]
     },
     "metadata": {},
     "output_type": "display_data"
    }
   ],
   "source": [
    "data, target = mnist_test[2615]\n",
    "output = model(data.view(-1, 28 * 28).to(device))\n",
    "print(f\"predicted: {torch.argmax(output, dim=1).item()}, target={target}\")\n",
    "\n",
    "import matplotlib.pyplot as plt\n",
    "\n",
    "plt.imshow(data.numpy().reshape(28, 28), cmap=\"gray\")"
   ]
  }
 ],
 "metadata": {
  "kernelspec": {
   "display_name": "Python 3 (ipykernel)",
   "language": "python",
   "name": "python3"
  },
  "language_info": {
   "codemirror_mode": {
    "name": "ipython",
    "version": 3
   },
   "file_extension": ".py",
   "mimetype": "text/x-python",
   "name": "python",
   "nbconvert_exporter": "python",
   "pygments_lexer": "ipython3",
   "version": "3.9.21"
  }
 },
 "nbformat": 4,
 "nbformat_minor": 5
}
