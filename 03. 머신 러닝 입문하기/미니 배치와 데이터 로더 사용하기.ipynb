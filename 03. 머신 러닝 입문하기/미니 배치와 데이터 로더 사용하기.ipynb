{
 "cells": [
  {
   "cell_type": "code",
   "execution_count": 4,
   "id": "9b26a82d-19c6-454f-8392-37ac4d848331",
   "metadata": {},
   "outputs": [],
   "source": [
    "import torch\n",
    "import torch.nn as nn\n",
    "import torch.nn.functional as F\n",
    "from torch.utils.data import DataLoader, TensorDataset"
   ]
  },
  {
   "cell_type": "code",
   "execution_count": 5,
   "id": "5ac7af46-5cd7-4efd-a718-7fb59cbca82b",
   "metadata": {},
   "outputs": [],
   "source": [
    "x_train = torch.FloatTensor(\n",
    "    [[73, 80, 75], [93, 88, 93], [89, 91, 90], [96, 98, 100], [73, 66, 70]]\n",
    ")\n",
    "y_train = torch.FloatTensor([[152], [185], [180], [196], [142]])"
   ]
  },
  {
   "cell_type": "code",
   "execution_count": 6,
   "id": "071f1a3b-bdd1-4afa-a819-e0fba1952082",
   "metadata": {},
   "outputs": [],
   "source": [
    "dataset = TensorDataset(x_train, y_train)"
   ]
  },
  {
   "cell_type": "markdown",
   "id": "450c98a1-2018-4930-9702-9ced55864921",
   "metadata": {},
   "source": [
    "데이터로더는 기본적으로 데이터셋, 미니 배치의 크기를 입력받고, 추가적으로 많이 사용되는 인자로 shuffle이 있다. 이걸 True로 설정하면 Epoch마다 데이터셋을 섞어 데이터가 학습되는 순서를 바꾼다. 모델이 데이터셋의 순서에 익숙해지는 것을 방지하므로 학습할 때는 이 옵션을 True를 주는 것을 권장한다."
   ]
  },
  {
   "cell_type": "code",
   "execution_count": 7,
   "id": "bcd92231-8da4-4d46-87bc-b37cb59a18ad",
   "metadata": {},
   "outputs": [],
   "source": [
    "dataloader = DataLoader(dataset, batch_size=2, shuffle=True)"
   ]
  },
  {
   "cell_type": "code",
   "execution_count": 8,
   "id": "5475e612-af4d-47ea-aa67-f82e56b5b163",
   "metadata": {},
   "outputs": [],
   "source": [
    "model = nn.Linear(3, 1)\n",
    "optimizer = torch.optim.SGD(model.parameters(), lr=1e-5)"
   ]
  },
  {
   "cell_type": "code",
   "execution_count": 9,
   "id": "0fd95770-1ad5-4baf-be7e-c8a14a95693d",
   "metadata": {},
   "outputs": [
    {
     "name": "stdout",
     "output_type": "stream",
     "text": [
      "Epoch    0/20 Batch 1/3 Cost: 15209.083984\n",
      "Epoch    0/20 Batch 2/3 Cost: 5218.063477\n",
      "Epoch    0/20 Batch 3/3 Cost: 1709.787720\n",
      "Epoch    1/20 Batch 1/3 Cost: 489.249084\n",
      "Epoch    1/20 Batch 2/3 Cost: 109.518723\n",
      "Epoch    1/20 Batch 3/3 Cost: 76.933853\n",
      "Epoch    2/20 Batch 1/3 Cost: 9.327806\n",
      "Epoch    2/20 Batch 2/3 Cost: 12.617147\n",
      "Epoch    2/20 Batch 3/3 Cost: 1.542234\n",
      "Epoch    3/20 Batch 1/3 Cost: 3.054048\n",
      "Epoch    3/20 Batch 2/3 Cost: 3.502664\n",
      "Epoch    3/20 Batch 3/3 Cost: 2.058955\n",
      "Epoch    4/20 Batch 1/3 Cost: 0.905724\n",
      "Epoch    4/20 Batch 2/3 Cost: 6.944593\n",
      "Epoch    4/20 Batch 3/3 Cost: 0.088870\n",
      "Epoch    5/20 Batch 1/3 Cost: 3.009543\n",
      "Epoch    5/20 Batch 2/3 Cost: 4.728069\n",
      "Epoch    5/20 Batch 3/3 Cost: 0.010652\n",
      "Epoch    6/20 Batch 1/3 Cost: 3.161973\n",
      "Epoch    6/20 Batch 2/3 Cost: 1.222678\n",
      "Epoch    6/20 Batch 3/3 Cost: 2.593625\n",
      "Epoch    7/20 Batch 1/3 Cost: 0.804061\n",
      "Epoch    7/20 Batch 2/3 Cost: 3.388931\n",
      "Epoch    7/20 Batch 3/3 Cost: 2.971278\n",
      "Epoch    8/20 Batch 1/3 Cost: 1.171653\n",
      "Epoch    8/20 Batch 2/3 Cost: 4.261547\n",
      "Epoch    8/20 Batch 3/3 Cost: 3.227718\n",
      "Epoch    9/20 Batch 1/3 Cost: 3.381815\n",
      "Epoch    9/20 Batch 2/3 Cost: 4.441204\n",
      "Epoch    9/20 Batch 3/3 Cost: 0.453243\n",
      "Epoch   10/20 Batch 1/3 Cost: 2.152840\n",
      "Epoch   10/20 Batch 2/3 Cost: 1.634979\n",
      "Epoch   10/20 Batch 3/3 Cost: 3.989082\n",
      "Epoch   11/20 Batch 1/3 Cost: 2.525715\n",
      "Epoch   11/20 Batch 2/3 Cost: 2.619143\n",
      "Epoch   11/20 Batch 3/3 Cost: 2.143488\n",
      "Epoch   12/20 Batch 1/3 Cost: 0.405564\n",
      "Epoch   12/20 Batch 2/3 Cost: 5.219274\n",
      "Epoch   12/20 Batch 3/3 Cost: 3.721810\n",
      "Epoch   13/20 Batch 1/3 Cost: 4.384174\n",
      "Epoch   13/20 Batch 2/3 Cost: 3.736631\n",
      "Epoch   13/20 Batch 3/3 Cost: 0.068817\n",
      "Epoch   14/20 Batch 1/3 Cost: 1.018405\n",
      "Epoch   14/20 Batch 2/3 Cost: 4.635193\n",
      "Epoch   14/20 Batch 3/3 Cost: 3.186347\n",
      "Epoch   15/20 Batch 1/3 Cost: 0.470256\n",
      "Epoch   15/20 Batch 2/3 Cost: 3.556060\n",
      "Epoch   15/20 Batch 3/3 Cost: 2.931643\n",
      "Epoch   16/20 Batch 1/3 Cost: 2.946927\n",
      "Epoch   16/20 Batch 2/3 Cost: 1.621889\n",
      "Epoch   16/20 Batch 3/3 Cost: 2.885374\n",
      "Epoch   17/20 Batch 1/3 Cost: 1.672514\n",
      "Epoch   17/20 Batch 2/3 Cost: 3.558635\n",
      "Epoch   17/20 Batch 3/3 Cost: 2.930127\n",
      "Epoch   18/20 Batch 1/3 Cost: 4.970803\n",
      "Epoch   18/20 Batch 2/3 Cost: 1.650194\n",
      "Epoch   18/20 Batch 3/3 Cost: 2.134160\n",
      "Epoch   19/20 Batch 1/3 Cost: 3.900511\n",
      "Epoch   19/20 Batch 2/3 Cost: 1.648441\n",
      "Epoch   19/20 Batch 3/3 Cost: 1.971364\n",
      "Epoch   20/20 Batch 1/3 Cost: 0.856477\n",
      "Epoch   20/20 Batch 2/3 Cost: 6.815463\n",
      "Epoch   20/20 Batch 3/3 Cost: 0.080940\n"
     ]
    }
   ],
   "source": [
    "nb_epochs = 20\n",
    "for epoch in range(nb_epochs + 1):\n",
    "    for batch_idx, samples in enumerate(dataloader):\n",
    "        x_train, y_train = samples\n",
    "\n",
    "        pred = model(x_train)\n",
    "\n",
    "        cost = F.mse_loss(pred, y_train)\n",
    "\n",
    "        optimizer.zero_grad()\n",
    "        cost.backward()\n",
    "        optimizer.step()\n",
    "\n",
    "        print(\n",
    "            \"Epoch {:4d}/{} Batch {}/{} Cost: {:.6f}\".format(\n",
    "                epoch, nb_epochs, batch_idx + 1, len(dataloader), cost.item()\n",
    "            )\n",
    "        )"
   ]
  },
  {
   "cell_type": "code",
   "execution_count": 10,
   "id": "9c29c94a-6467-41b3-a3e7-55943e801c7d",
   "metadata": {},
   "outputs": [
    {
     "data": {
      "text/plain": [
       "tensor([[153.5924]], grad_fn=<AddmmBackward0>)"
      ]
     },
     "execution_count": 10,
     "metadata": {},
     "output_type": "execute_result"
    }
   ],
   "source": [
    "new_var = torch.FloatTensor([[73, 80, 75]])\n",
    "pred_y = model(new_var)\n",
    "pred_y"
   ]
  },
  {
   "cell_type": "markdown",
   "id": "7b9decea-afa7-4deb-b803-4568f4f8efc0",
   "metadata": {},
   "source": [
    "커스텀 데이터셋을 만들어보자. 기본 뼈대는 아래와 같다.\n",
    "\n",
    "```python\n",
    "class CustomDataset(torch.utils.data.Dataset):\n",
    "    def __init__(self):\n",
    "        # 데이터셋 전처리\n",
    "    def __len__(self):\n",
    "        # 데이터셋의 길이 반환\n",
    "    def __getitem__(self, idx):\n",
    "        # 데이터셋에서 특정 1개의 샘플 반환\n",
    "```"
   ]
  },
  {
   "cell_type": "code",
   "execution_count": 11,
   "id": "6aa65137-ff7c-45e5-bceb-f62f4501e0dd",
   "metadata": {},
   "outputs": [],
   "source": [
    "class CustomDataset(torch.utils.data.Dataset):\n",
    "    def __init__(self):\n",
    "        # 데이터를 내부 변수로 저장\n",
    "        self.x_data = [\n",
    "            [73, 80, 75],\n",
    "            [93, 88, 93],\n",
    "            [89, 91, 90],\n",
    "            [96, 98, 100],\n",
    "            [73, 66, 70],\n",
    "        ]\n",
    "        self.y_data = [[152], [185], [180], [196], [142]]\n",
    "\n",
    "    def __len__(self):\n",
    "        return len(self.x_data)\n",
    "\n",
    "    def __getitem__(self, idx):\n",
    "        # 인덱스를 입력받아 그에 맵핑되는 입출력 데이터를 파이토치 Tensor 형태로 리턴\n",
    "        x = torch.FloatTensor(self.x_data[idx])\n",
    "        y = torch.FloatTensor(self.y_data[idx])\n",
    "        return x, y"
   ]
  },
  {
   "cell_type": "code",
   "execution_count": 15,
   "id": "c7cf9e96-783d-4326-8e21-f651739fa8b5",
   "metadata": {},
   "outputs": [],
   "source": [
    "dataset = CustomDataset()\n",
    "dataloader = DataLoader(dataset, batch_size=2, shuffle=True)"
   ]
  },
  {
   "cell_type": "code",
   "execution_count": 18,
   "id": "38171f75-2ed8-4d9f-a11e-da8466c04c52",
   "metadata": {},
   "outputs": [],
   "source": [
    "model = nn.Linear(3, 1)\n",
    "optimizer = torch.optim.SGD(model.parameters(), lr=1e-5)"
   ]
  },
  {
   "cell_type": "code",
   "execution_count": 19,
   "id": "6e6750f9-23fc-4b43-97b4-62ed9990dc7c",
   "metadata": {},
   "outputs": [
    {
     "name": "stdout",
     "output_type": "stream",
     "text": [
      "Epoch    0/20 Batch 1/3 Cost: 89092.062500\n",
      "Epoch    0/20 Batch 2/3 Cost: 15883.230469\n",
      "Epoch    0/20 Batch 3/3 Cost: 3720.680664\n",
      "Epoch    1/20 Batch 1/3 Cost: 1985.317261\n",
      "Epoch    1/20 Batch 2/3 Cost: 1510.697998\n",
      "Epoch    1/20 Batch 3/3 Cost: 264.306549\n",
      "Epoch    2/20 Batch 1/3 Cost: 77.199295\n",
      "Epoch    2/20 Batch 2/3 Cost: 22.750198\n",
      "Epoch    2/20 Batch 3/3 Cost: 8.984626\n",
      "Epoch    3/20 Batch 1/3 Cost: 2.644949\n",
      "Epoch    3/20 Batch 2/3 Cost: 0.112910\n",
      "Epoch    3/20 Batch 3/3 Cost: 2.275892\n",
      "Epoch    4/20 Batch 1/3 Cost: 0.830917\n",
      "Epoch    4/20 Batch 2/3 Cost: 0.345325\n",
      "Epoch    4/20 Batch 3/3 Cost: 0.895838\n",
      "Epoch    5/20 Batch 1/3 Cost: 0.820602\n",
      "Epoch    5/20 Batch 2/3 Cost: 0.631627\n",
      "Epoch    5/20 Batch 3/3 Cost: 0.558730\n",
      "Epoch    6/20 Batch 1/3 Cost: 1.652012\n",
      "Epoch    6/20 Batch 2/3 Cost: 0.859275\n",
      "Epoch    6/20 Batch 3/3 Cost: 0.025043\n",
      "Epoch    7/20 Batch 1/3 Cost: 0.119547\n",
      "Epoch    7/20 Batch 2/3 Cost: 1.554239\n",
      "Epoch    7/20 Batch 3/3 Cost: 0.921554\n",
      "Epoch    8/20 Batch 1/3 Cost: 1.402433\n",
      "Epoch    8/20 Batch 2/3 Cost: 0.545277\n",
      "Epoch    8/20 Batch 3/3 Cost: 0.438126\n",
      "Epoch    9/20 Batch 1/3 Cost: 0.072497\n",
      "Epoch    9/20 Batch 2/3 Cost: 1.025628\n",
      "Epoch    9/20 Batch 3/3 Cost: 1.165185\n",
      "Epoch   10/20 Batch 1/3 Cost: 0.406494\n",
      "Epoch   10/20 Batch 2/3 Cost: 1.284770\n",
      "Epoch   10/20 Batch 3/3 Cost: 1.061589\n",
      "Epoch   11/20 Batch 1/3 Cost: 0.900443\n",
      "Epoch   11/20 Batch 2/3 Cost: 0.468815\n",
      "Epoch   11/20 Batch 3/3 Cost: 0.853148\n",
      "Epoch   12/20 Batch 1/3 Cost: 1.248040\n",
      "Epoch   12/20 Batch 2/3 Cost: 0.541151\n",
      "Epoch   12/20 Batch 3/3 Cost: 1.013442\n",
      "Epoch   13/20 Batch 1/3 Cost: 0.802871\n",
      "Epoch   13/20 Batch 2/3 Cost: 0.869442\n",
      "Epoch   13/20 Batch 3/3 Cost: 0.043981\n",
      "Epoch   14/20 Batch 1/3 Cost: 0.823876\n",
      "Epoch   14/20 Batch 2/3 Cost: 0.325543\n",
      "Epoch   14/20 Batch 3/3 Cost: 1.008594\n",
      "Epoch   15/20 Batch 1/3 Cost: 0.903095\n",
      "Epoch   15/20 Batch 2/3 Cost: 0.230550\n",
      "Epoch   15/20 Batch 3/3 Cost: 1.102378\n",
      "Epoch   16/20 Batch 1/3 Cost: 0.664686\n",
      "Epoch   16/20 Batch 2/3 Cost: 0.854491\n",
      "Epoch   16/20 Batch 3/3 Cost: 0.002473\n",
      "Epoch   17/20 Batch 1/3 Cost: 0.633261\n",
      "Epoch   17/20 Batch 2/3 Cost: 0.820012\n",
      "Epoch   17/20 Batch 3/3 Cost: 0.006840\n",
      "Epoch   18/20 Batch 1/3 Cost: 0.951385\n",
      "Epoch   18/20 Batch 2/3 Cost: 0.731596\n",
      "Epoch   18/20 Batch 3/3 Cost: 0.565594\n",
      "Epoch   19/20 Batch 1/3 Cost: 0.949454\n",
      "Epoch   19/20 Batch 2/3 Cost: 0.681263\n",
      "Epoch   19/20 Batch 3/3 Cost: 0.000114\n",
      "Epoch   20/20 Batch 1/3 Cost: 0.851430\n",
      "Epoch   20/20 Batch 2/3 Cost: 0.233968\n",
      "Epoch   20/20 Batch 3/3 Cost: 1.112784\n"
     ]
    }
   ],
   "source": [
    "nb_epochs = 20\n",
    "for epoch in range(nb_epochs + 1):\n",
    "    for batch_idx, samples in enumerate(dataloader):\n",
    "        x_train, y_train = samples\n",
    "\n",
    "        pred = model(x_train)\n",
    "\n",
    "        cost = F.mse_loss(pred, y_train)\n",
    "\n",
    "        optimizer.zero_grad()\n",
    "        cost.backward()\n",
    "        optimizer.step()\n",
    "\n",
    "        print(\n",
    "            \"Epoch {:4d}/{} Batch {}/{} Cost: {:.6f}\".format(\n",
    "                epoch, nb_epochs, batch_idx + 1, len(dataloader), cost.item()\n",
    "            )\n",
    "        )"
   ]
  },
  {
   "cell_type": "code",
   "execution_count": 20,
   "id": "2653a517-5c1d-4f22-8224-351434ee95c8",
   "metadata": {},
   "outputs": [
    {
     "data": {
      "text/plain": [
       "tensor([[152.3259]], grad_fn=<AddmmBackward0>)"
      ]
     },
     "execution_count": 20,
     "metadata": {},
     "output_type": "execute_result"
    }
   ],
   "source": [
    "new_var = torch.FloatTensor([[73, 80, 75]])\n",
    "pred_y = model(new_var)\n",
    "pred_y"
   ]
  }
 ],
 "metadata": {
  "kernelspec": {
   "display_name": "Python 3 (ipykernel)",
   "language": "python",
   "name": "python3"
  },
  "language_info": {
   "codemirror_mode": {
    "name": "ipython",
    "version": 3
   },
   "file_extension": ".py",
   "mimetype": "text/x-python",
   "name": "python",
   "nbconvert_exporter": "python",
   "pygments_lexer": "ipython3",
   "version": "3.9.21"
  }
 },
 "nbformat": 4,
 "nbformat_minor": 5
}
