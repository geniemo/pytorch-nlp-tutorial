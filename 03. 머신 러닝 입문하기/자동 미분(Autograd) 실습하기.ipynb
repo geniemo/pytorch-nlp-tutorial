{
 "cells": [
  {
   "cell_type": "markdown",
   "id": "f9b9ae89-d2e1-40d7-9975-72bd46512391",
   "metadata": {},
   "source": [
    "텐서에는 requires_grad 라는 속성이 있는데, 이걸 True로 설정하면 자동 미분 기능이 적용된다. 이게 적용된 텐서에 연산을 하면 계산 그래프가 생성되며 backward 함수 호출 시 그래프로부터 자동으로 미분이 계산된다.\n",
    "\n",
    "파이토치의 학습 과정을 더 잘 이해하기 위해 자동 미분에 대해 실습을 해보자. 임의로 $2w^2+5$라는 식을 세워보고 $w$에 대해 미분해보자."
   ]
  },
  {
   "cell_type": "code",
   "execution_count": 1,
   "id": "ee4e8cde-e31f-408a-971a-765d57c5e634",
   "metadata": {},
   "outputs": [],
   "source": [
    "import torch"
   ]
  },
  {
   "cell_type": "markdown",
   "id": "380d6c46-013c-46de-9f06-ec215f46313a",
   "metadata": {},
   "source": [
    "스칼라 텐서 w에 requires_grad=True를 설정한다. 이렇게 하면 backward() 이후 w.grad에 w에 대한 미분값이 저장된다."
   ]
  },
  {
   "cell_type": "code",
   "execution_count": 2,
   "id": "9fd6380e-3f8f-45d3-bf65-99bc4952927f",
   "metadata": {},
   "outputs": [
    {
     "data": {
      "text/plain": [
       "tensor(2., requires_grad=True)"
      ]
     },
     "execution_count": 2,
     "metadata": {},
     "output_type": "execute_result"
    }
   ],
   "source": [
    "w = torch.tensor(2.0, requires_grad=True)\n",
    "w"
   ]
  },
  {
   "cell_type": "code",
   "execution_count": 3,
   "id": "b3988c87-b9f1-40e6-ac9c-ce00a971feb4",
   "metadata": {},
   "outputs": [],
   "source": [
    "y = w**2\n",
    "z = 2 * y + 5"
   ]
  },
  {
   "cell_type": "markdown",
   "id": "6044e89d-80de-4300-a4cc-be9bd90f58ae",
   "metadata": {},
   "source": [
    "위 수식을 w에 대해서 미분해야 한다. backward()를 호출해 해당 수식의 w에 대한 기울기를 계산한다."
   ]
  },
  {
   "cell_type": "code",
   "execution_count": 4,
   "id": "30681e29-df79-4d28-931f-c2c7b88adb93",
   "metadata": {},
   "outputs": [],
   "source": [
    "z.backward()"
   ]
  },
  {
   "cell_type": "code",
   "execution_count": 5,
   "id": "ecf0f6bb-5270-4844-8e41-de58e1334556",
   "metadata": {},
   "outputs": [
    {
     "data": {
      "text/plain": [
       "tensor(8.)"
      ]
     },
     "execution_count": 5,
     "metadata": {},
     "output_type": "execute_result"
    }
   ],
   "source": [
    "w.grad"
   ]
  }
 ],
 "metadata": {
  "kernelspec": {
   "display_name": "Python 3 (ipykernel)",
   "language": "python",
   "name": "python3"
  },
  "language_info": {
   "codemirror_mode": {
    "name": "ipython",
    "version": 3
   },
   "file_extension": ".py",
   "mimetype": "text/x-python",
   "name": "python",
   "nbconvert_exporter": "python",
   "pygments_lexer": "ipython3",
   "version": "3.9.21"
  }
 },
 "nbformat": 4,
 "nbformat_minor": 5
}
