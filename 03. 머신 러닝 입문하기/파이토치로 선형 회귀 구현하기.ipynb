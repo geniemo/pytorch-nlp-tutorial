{
 "cells": [
  {
   "cell_type": "code",
   "execution_count": 1,
   "id": "e11045a0-d650-4bd3-8e9a-01f11b31a8ee",
   "metadata": {},
   "outputs": [],
   "source": [
    "import torch\n",
    "import torch.nn as nn\n",
    "import torch.nn.functional as F\n",
    "import torch.optim as optim"
   ]
  },
  {
   "cell_type": "code",
   "execution_count": 2,
   "id": "6ef045b8-4fb4-4b1e-96be-f416463c78e0",
   "metadata": {},
   "outputs": [
    {
     "data": {
      "text/plain": [
       "<torch._C.Generator at 0x1d5602fafd0>"
      ]
     },
     "execution_count": 2,
     "metadata": {},
     "output_type": "execute_result"
    }
   ],
   "source": [
    "torch.manual_seed(1)"
   ]
  },
  {
   "cell_type": "code",
   "execution_count": 3,
   "id": "ba5b68fb-907b-4308-b955-e9b0a4c4400c",
   "metadata": {},
   "outputs": [],
   "source": [
    "x_train = torch.FloatTensor([[1], [2], [3]])\n",
    "y_train = torch.FloatTensor([[2], [4], [6]])"
   ]
  },
  {
   "cell_type": "code",
   "execution_count": 4,
   "id": "6c4d6acf-0500-4a28-8ac6-9804d1b4e018",
   "metadata": {},
   "outputs": [],
   "source": [
    "# 가중치 W를 0으로 초기화하고, 학습을 통해 값이 변경되는 변수임을 명시\n",
    "W = torch.zeros(1, requires_grad=True)\n",
    "b = torch.zeros(1, requires_grad=True)"
   ]
  },
  {
   "cell_type": "code",
   "execution_count": 5,
   "id": "e49c1d58-b43d-42da-b935-6c1c1b135dfd",
   "metadata": {},
   "outputs": [],
   "source": [
    "nb_epochs = 2000\n",
    "lr = 0.01"
   ]
  },
  {
   "cell_type": "code",
   "execution_count": 6,
   "id": "9d522646-5a59-48ef-8949-155188a52803",
   "metadata": {},
   "outputs": [],
   "source": [
    "optimizer = optim.SGD([W, b], lr=lr)"
   ]
  },
  {
   "cell_type": "code",
   "execution_count": 7,
   "id": "8b3363fd-b3f9-48d1-a1ca-5ceef2b4ec4f",
   "metadata": {},
   "outputs": [
    {
     "name": "stdout",
     "output_type": "stream",
     "text": [
      "Epoch    0/2000 W: 0.187 b: 0.080 Cost: 18.666666\n",
      "Epoch  100/2000 W: 1.746 b: 0.578 Cost: 0.048171\n",
      "Epoch  200/2000 W: 1.800 b: 0.454 Cost: 0.029767\n",
      "Epoch  300/2000 W: 1.843 b: 0.357 Cost: 0.018394\n",
      "Epoch  400/2000 W: 1.876 b: 0.281 Cost: 0.011366\n",
      "Epoch  500/2000 W: 1.903 b: 0.221 Cost: 0.007024\n",
      "Epoch  600/2000 W: 1.924 b: 0.174 Cost: 0.004340\n",
      "Epoch  700/2000 W: 1.940 b: 0.136 Cost: 0.002682\n",
      "Epoch  800/2000 W: 1.953 b: 0.107 Cost: 0.001657\n",
      "Epoch  900/2000 W: 1.963 b: 0.084 Cost: 0.001024\n",
      "Epoch 1000/2000 W: 1.971 b: 0.066 Cost: 0.000633\n",
      "Epoch 1100/2000 W: 1.977 b: 0.052 Cost: 0.000391\n",
      "Epoch 1200/2000 W: 1.982 b: 0.041 Cost: 0.000242\n",
      "Epoch 1300/2000 W: 1.986 b: 0.032 Cost: 0.000149\n",
      "Epoch 1400/2000 W: 1.989 b: 0.025 Cost: 0.000092\n",
      "Epoch 1500/2000 W: 1.991 b: 0.020 Cost: 0.000057\n",
      "Epoch 1600/2000 W: 1.993 b: 0.016 Cost: 0.000035\n",
      "Epoch 1700/2000 W: 1.995 b: 0.012 Cost: 0.000022\n",
      "Epoch 1800/2000 W: 1.996 b: 0.010 Cost: 0.000013\n",
      "Epoch 1900/2000 W: 1.997 b: 0.008 Cost: 0.000008\n",
      "Epoch 2000/2000 W: 1.997 b: 0.006 Cost: 0.000005\n"
     ]
    }
   ],
   "source": [
    "for epoch in range(nb_epochs + 1):\n",
    "    # H(x) 계산\n",
    "    H = x_train * W + b\n",
    "\n",
    "    # cost 계산\n",
    "    cost = torch.mean((H - y_train) ** 2)\n",
    "\n",
    "    # cost로 H(x) 개선\n",
    "    optimizer.zero_grad()  # gradient 초기화\n",
    "    cost.backward()  # 비용 함수를 미분해 gradient 계산\n",
    "    optimizer.step()  # W와 b 업데이트\n",
    "\n",
    "    if epoch % 100 == 0:\n",
    "        print(\n",
    "            f\"Epoch {epoch:4d}/{nb_epochs} W: {W.item():.3f} b: {b.item():.3f} Cost: {cost.item():.6f}\"\n",
    "        )"
   ]
  }
 ],
 "metadata": {
  "kernelspec": {
   "display_name": "Python 3 (ipykernel)",
   "language": "python",
   "name": "python3"
  },
  "language_info": {
   "codemirror_mode": {
    "name": "ipython",
    "version": 3
   },
   "file_extension": ".py",
   "mimetype": "text/x-python",
   "name": "python",
   "nbconvert_exporter": "python",
   "pygments_lexer": "ipython3",
   "version": "3.9.21"
  }
 },
 "nbformat": 4,
 "nbformat_minor": 5
}
