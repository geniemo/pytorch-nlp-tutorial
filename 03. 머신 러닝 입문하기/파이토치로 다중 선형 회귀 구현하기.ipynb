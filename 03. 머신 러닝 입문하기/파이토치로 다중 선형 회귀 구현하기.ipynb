{
 "cells": [
  {
   "cell_type": "code",
   "execution_count": 4,
   "id": "96b38a8f-a290-4e30-bd4a-4685143cf9a6",
   "metadata": {},
   "outputs": [],
   "source": [
    "import torch\n",
    "import torch.optim as optim"
   ]
  },
  {
   "cell_type": "code",
   "execution_count": 2,
   "id": "54c4cef7-37e7-4dc8-9cdc-e3167ac0465c",
   "metadata": {},
   "outputs": [
    {
     "data": {
      "text/plain": [
       "(torch.Size([5, 3]), torch.Size([5, 1]))"
      ]
     },
     "execution_count": 2,
     "metadata": {},
     "output_type": "execute_result"
    }
   ],
   "source": [
    "x_train = torch.FloatTensor(\n",
    "    [[73, 80, 75], [93, 88, 93], [89, 91, 80], [96, 98, 100], [73, 66, 70]]\n",
    ")\n",
    "y_train = torch.FloatTensor([[152], [185], [180], [196], [142]])\n",
    "\n",
    "x_train.shape, y_train.shape"
   ]
  },
  {
   "cell_type": "code",
   "execution_count": 3,
   "id": "56a01dba-4e12-488a-bcc9-aeba236fe8bd",
   "metadata": {},
   "outputs": [],
   "source": [
    "W = torch.zeros((3, 1), requires_grad=True)\n",
    "b = torch.zeros(1, requires_grad=True)"
   ]
  },
  {
   "cell_type": "code",
   "execution_count": 5,
   "id": "58276a01-d254-4fff-a862-f538e0d7e805",
   "metadata": {},
   "outputs": [],
   "source": [
    "optimizer = optim.SGD([W, b], lr=1e-5)"
   ]
  },
  {
   "cell_type": "code",
   "execution_count": 6,
   "id": "a3221ea5-0b20-4182-b6db-5202e02b5bf2",
   "metadata": {},
   "outputs": [],
   "source": [
    "nb_epochs = 20"
   ]
  },
  {
   "cell_type": "code",
   "execution_count": 8,
   "id": "01fb5b84-00cf-475a-a808-4d7962e44d04",
   "metadata": {
    "scrolled": true
   },
   "outputs": [
    {
     "name": "stdout",
     "output_type": "stream",
     "text": [
      "Epoch    0/20 hypothesis: tensor([66.7178, 80.1701, 76.1025, 86.0194, 61.1565]), Cost: 9537.694336\n",
      "Epoch    1/20 hypothesis: tensor([104.5421, 125.6208, 119.2478, 134.7861,  95.8280]), Cost: 3069.590820\n",
      "Epoch    2/20 hypothesis: tensor([125.9858, 151.3882, 143.7087, 162.4333, 115.4844]), Cost: 990.670288\n",
      "Epoch    3/20 hypothesis: tensor([138.1429, 165.9963, 157.5768, 178.1071, 126.6283]), Cost: 322.481964\n",
      "Epoch    4/20 hypothesis: tensor([145.0350, 174.2780, 165.4395, 186.9928, 132.9461]), Cost: 107.717064\n",
      "Epoch    5/20 hypothesis: tensor([148.9423, 178.9731, 169.8976, 192.0301, 136.5279]), Cost: 38.687401\n",
      "Epoch    6/20 hypothesis: tensor([151.1574, 181.6347, 172.4254, 194.8856, 138.5585]), Cost: 16.499046\n",
      "Epoch    7/20 hypothesis: tensor([152.4131, 183.1435, 173.8590, 196.5042, 139.7097]), Cost: 9.365656\n",
      "Epoch    8/20 hypothesis: tensor([153.1250, 183.9988, 174.6723, 197.4216, 140.3625]), Cost: 7.071105\n",
      "Epoch    9/20 hypothesis: tensor([153.5285, 184.4835, 175.1338, 197.9415, 140.7325]), Cost: 6.331867\n",
      "Epoch   10/20 hypothesis: tensor([153.7572, 184.7582, 175.3958, 198.2360, 140.9424]), Cost: 6.092532\n",
      "Epoch   11/20 hypothesis: tensor([153.8868, 184.9138, 175.5449, 198.4026, 141.0614]), Cost: 6.013823\n",
      "Epoch   12/20 hypothesis: tensor([153.9602, 185.0019, 175.6299, 198.4969, 141.1288]), Cost: 5.986775\n",
      "Epoch   13/20 hypothesis: tensor([154.0017, 185.0517, 175.6785, 198.5501, 141.1671]), Cost: 5.976314\n",
      "Epoch   14/20 hypothesis: tensor([154.0252, 185.0798, 175.7065, 198.5800, 141.1888]), Cost: 5.971213\n",
      "Epoch   15/20 hypothesis: tensor([154.0385, 185.0956, 175.7229, 198.5966, 141.2012]), Cost: 5.967797\n",
      "Epoch   16/20 hypothesis: tensor([154.0459, 185.1045, 175.7326, 198.6058, 141.2082]), Cost: 5.964961\n",
      "Epoch   17/20 hypothesis: tensor([154.0501, 185.1094, 175.7386, 198.6108, 141.2122]), Cost: 5.962292\n",
      "Epoch   18/20 hypothesis: tensor([154.0524, 185.1120, 175.7424, 198.6134, 141.2145]), Cost: 5.959693\n",
      "Epoch   19/20 hypothesis: tensor([154.0536, 185.1134, 175.7451, 198.6146, 141.2158]), Cost: 5.957091\n",
      "Epoch   20/20 hypothesis: tensor([154.0543, 185.1140, 175.7470, 198.6150, 141.2166]), Cost: 5.954541\n"
     ]
    }
   ],
   "source": [
    "for epoch in range(nb_epochs + 1):\n",
    "    H = x_train.matmul(W) + b\n",
    "\n",
    "    cost = torch.mean((H - y_train) ** 2)\n",
    "\n",
    "    optimizer.zero_grad()\n",
    "    cost.backward()\n",
    "    optimizer.step()\n",
    "\n",
    "    print(\n",
    "        f\"Epoch {epoch:4d}/{nb_epochs} hypothesis: {H.squeeze().detach()}, Cost: {cost.item():.6f}\"\n",
    "    )"
   ]
  },
  {
   "cell_type": "code",
   "execution_count": 9,
   "id": "70f4c750-79a0-4470-8d51-320fd11657c9",
   "metadata": {},
   "outputs": [
    {
     "name": "stdout",
     "output_type": "stream",
     "text": [
      "new_input: [75.0, 85.0, 72.0] prediction: 156.80615234375\n"
     ]
    }
   ],
   "source": [
    "# torch.no_grad()를 사용해 계산 그래프를 생성하지 않도록 해 성능 향상\n",
    "with torch.no_grad():\n",
    "    new_input = torch.FloatTensor([[75, 85, 72]])\n",
    "    prediction = new_input.matmul(W) + b\n",
    "    print(f\"new_input: {new_input.squeeze().tolist()} prediction: {prediction.item()}\")"
   ]
  }
 ],
 "metadata": {
  "kernelspec": {
   "display_name": "Python 3 (ipykernel)",
   "language": "python",
   "name": "python3"
  },
  "language_info": {
   "codemirror_mode": {
    "name": "ipython",
    "version": 3
   },
   "file_extension": ".py",
   "mimetype": "text/x-python",
   "name": "python",
   "nbconvert_exporter": "python",
   "pygments_lexer": "ipython3",
   "version": "3.9.21"
  }
 },
 "nbformat": 4,
 "nbformat_minor": 5
}
