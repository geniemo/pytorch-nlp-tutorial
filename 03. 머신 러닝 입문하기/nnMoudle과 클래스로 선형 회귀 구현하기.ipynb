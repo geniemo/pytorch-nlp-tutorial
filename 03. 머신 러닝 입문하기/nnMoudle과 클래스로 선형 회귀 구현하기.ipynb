{
 "cells": [
  {
   "cell_type": "code",
   "execution_count": 1,
   "id": "731fffed-2327-4207-8a9d-e59dddd04f83",
   "metadata": {},
   "outputs": [],
   "source": [
    "import torch\n",
    "import torch.nn as nn\n",
    "import torch.nn.functional as F"
   ]
  },
  {
   "cell_type": "code",
   "execution_count": 2,
   "id": "b77f6a21-b026-40e8-948a-2b7674ba6421",
   "metadata": {},
   "outputs": [
    {
     "data": {
      "text/plain": [
       "<torch._C.Generator at 0x166054c6050>"
      ]
     },
     "execution_count": 2,
     "metadata": {},
     "output_type": "execute_result"
    }
   ],
   "source": [
    "torch.manual_seed(1)"
   ]
  },
  {
   "cell_type": "markdown",
   "id": "c120c39c-6d9a-410a-99e1-a8d076bafef3",
   "metadata": {},
   "source": [
    "# 단순 선형 회귀"
   ]
  },
  {
   "cell_type": "code",
   "execution_count": 3,
   "id": "7445730f-2d0e-4dd5-94c7-95a81ced0cf8",
   "metadata": {},
   "outputs": [],
   "source": [
    "x_train = torch.FloatTensor([[1], [2], [3]])\n",
    "y_train = torch.FloatTensor([[2], [4], [6]])"
   ]
  },
  {
   "cell_type": "code",
   "execution_count": 4,
   "id": "96d181d2-fae4-4ec0-b059-f5f6b450ffa4",
   "metadata": {},
   "outputs": [],
   "source": [
    "model = nn.Linear(in_features=1, out_features=1)"
   ]
  },
  {
   "cell_type": "markdown",
   "id": "ac83362b-10da-4181-b904-893e2d6a7dcd",
   "metadata": {},
   "source": [
    "하나의 입력 x에 대해 하나의 출력 y를 가지므로 입출력 차원 모두 1을 사용하였다. model에는 가중치 W와 편향 b가 저장되어 있는데 이 건 model.parameters()로 불러올 수 있다."
   ]
  },
  {
   "cell_type": "code",
   "execution_count": 5,
   "id": "19803b63-6f1f-4eb4-983c-0ceb4cf05651",
   "metadata": {},
   "outputs": [
    {
     "name": "stdout",
     "output_type": "stream",
     "text": [
      "[Parameter containing:\n",
      "tensor([[0.5153]], requires_grad=True), Parameter containing:\n",
      "tensor([-0.4414], requires_grad=True)]\n"
     ]
    }
   ],
   "source": [
    "print(list(model.parameters()))"
   ]
  },
  {
   "cell_type": "code",
   "execution_count": 6,
   "id": "1f509a3e-0345-4633-aeca-2a945eee5dab",
   "metadata": {},
   "outputs": [],
   "source": [
    "optimizer = torch.optim.SGD(model.parameters(), lr=0.01)"
   ]
  },
  {
   "cell_type": "code",
   "execution_count": 7,
   "id": "7af74e94-eddd-4e60-9f20-62f2809cda16",
   "metadata": {},
   "outputs": [
    {
     "name": "stdout",
     "output_type": "stream",
     "text": [
      "Epoch    0/2000 Cost: 13.103541\n",
      "Epoch  100/2000 Cost: 0.002791\n",
      "Epoch  200/2000 Cost: 0.001724\n",
      "Epoch  300/2000 Cost: 0.001066\n",
      "Epoch  400/2000 Cost: 0.000658\n",
      "Epoch  500/2000 Cost: 0.000407\n",
      "Epoch  600/2000 Cost: 0.000251\n",
      "Epoch  700/2000 Cost: 0.000155\n",
      "Epoch  800/2000 Cost: 0.000096\n",
      "Epoch  900/2000 Cost: 0.000059\n",
      "Epoch 1000/2000 Cost: 0.000037\n",
      "Epoch 1100/2000 Cost: 0.000023\n",
      "Epoch 1200/2000 Cost: 0.000014\n",
      "Epoch 1300/2000 Cost: 0.000009\n",
      "Epoch 1400/2000 Cost: 0.000005\n",
      "Epoch 1500/2000 Cost: 0.000003\n",
      "Epoch 1600/2000 Cost: 0.000002\n",
      "Epoch 1700/2000 Cost: 0.000001\n",
      "Epoch 1800/2000 Cost: 0.000001\n",
      "Epoch 1900/2000 Cost: 0.000000\n",
      "Epoch 2000/2000 Cost: 0.000000\n"
     ]
    }
   ],
   "source": [
    "nb_epochs = 2000\n",
    "\n",
    "for epoch in range(nb_epochs + 1):\n",
    "    pred = model(x_train)\n",
    "\n",
    "    cost = F.mse_loss(pred, y_train)\n",
    "\n",
    "    optimizer.zero_grad()\n",
    "    cost.backward()\n",
    "    optimizer.step()\n",
    "\n",
    "    if epoch % 100 == 0:\n",
    "        print(f\"Epoch {epoch:4d}/{nb_epochs} Cost: {cost.item():.6f}\")"
   ]
  },
  {
   "cell_type": "code",
   "execution_count": 8,
   "id": "d8f7bf9d-7408-457d-853a-bd6b7c2a1e21",
   "metadata": {},
   "outputs": [
    {
     "data": {
      "text/plain": [
       "tensor([[7.9989]], grad_fn=<AddmmBackward0>)"
      ]
     },
     "execution_count": 8,
     "metadata": {},
     "output_type": "execute_result"
    }
   ],
   "source": [
    "new_var = torch.FloatTensor([[4.0]])\n",
    "pred_y = model(new_var)\n",
    "pred_y"
   ]
  },
  {
   "cell_type": "code",
   "execution_count": 9,
   "id": "93ed7956-d140-4d57-b927-a4b78a9ec62c",
   "metadata": {},
   "outputs": [
    {
     "name": "stdout",
     "output_type": "stream",
     "text": [
      "[Parameter containing:\n",
      "tensor([[1.9994]], requires_grad=True), Parameter containing:\n",
      "tensor([0.0014], requires_grad=True)]\n"
     ]
    }
   ],
   "source": [
    "print(list(model.parameters()))"
   ]
  },
  {
   "cell_type": "markdown",
   "id": "7c18402f-fa98-49b7-bf45-14c67ea47e3f",
   "metadata": {},
   "source": [
    "# 다중 선형 회귀"
   ]
  },
  {
   "cell_type": "code",
   "execution_count": 10,
   "id": "7d29e7f7-aa57-4887-b767-aa5fc1373cfc",
   "metadata": {},
   "outputs": [],
   "source": [
    "x_train = torch.FloatTensor(\n",
    "    [[73, 80, 75], [93, 88, 93], [89, 91, 90], [96, 98, 100], [73, 66, 70]]\n",
    ")\n",
    "y_train = torch.FloatTensor([[152], [185], [180], [196], [142]])"
   ]
  },
  {
   "cell_type": "code",
   "execution_count": 11,
   "id": "31cdb819-05a6-4264-b0a0-3218b7e85fb0",
   "metadata": {},
   "outputs": [],
   "source": [
    "model = nn.Linear(3, 1)"
   ]
  },
  {
   "cell_type": "code",
   "execution_count": 12,
   "id": "491d9185-c57d-4469-b58c-2cc626c65923",
   "metadata": {},
   "outputs": [
    {
     "name": "stdout",
     "output_type": "stream",
     "text": [
      "[Parameter containing:\n",
      "tensor([[-0.1119,  0.2710, -0.5435]], requires_grad=True), Parameter containing:\n",
      "tensor([0.3462], requires_grad=True)]\n"
     ]
    }
   ],
   "source": [
    "print(list(model.parameters()))"
   ]
  },
  {
   "cell_type": "code",
   "execution_count": 13,
   "id": "6a2b79a1-0f2c-4730-a7e3-499b1c35194f",
   "metadata": {},
   "outputs": [],
   "source": [
    "optimizer = torch.optim.SGD(model.parameters(), lr=1e-5)"
   ]
  },
  {
   "cell_type": "code",
   "execution_count": 14,
   "id": "3d260dbf-1272-4d5b-a39d-59ee49442140",
   "metadata": {},
   "outputs": [
    {
     "name": "stdout",
     "output_type": "stream",
     "text": [
      "Epoch    0/2000 Cost: 42134.707031\n",
      "Epoch  100/2000 Cost: 5.960090\n",
      "Epoch  200/2000 Cost: 5.654707\n",
      "Epoch  300/2000 Cost: 5.365413\n",
      "Epoch  400/2000 Cost: 5.091413\n",
      "Epoch  500/2000 Cost: 4.831860\n",
      "Epoch  600/2000 Cost: 4.585968\n",
      "Epoch  700/2000 Cost: 4.353065\n",
      "Epoch  800/2000 Cost: 4.132451\n",
      "Epoch  900/2000 Cost: 3.923481\n",
      "Epoch 1000/2000 Cost: 3.725512\n",
      "Epoch 1100/2000 Cost: 3.537961\n",
      "Epoch 1200/2000 Cost: 3.360339\n",
      "Epoch 1300/2000 Cost: 3.192072\n",
      "Epoch 1400/2000 Cost: 3.032686\n",
      "Epoch 1500/2000 Cost: 2.881712\n",
      "Epoch 1600/2000 Cost: 2.738675\n",
      "Epoch 1700/2000 Cost: 2.603187\n",
      "Epoch 1800/2000 Cost: 2.474835\n",
      "Epoch 1900/2000 Cost: 2.353291\n",
      "Epoch 2000/2000 Cost: 2.238128\n"
     ]
    }
   ],
   "source": [
    "nb_epochs = 2000\n",
    "\n",
    "for epoch in range(nb_epochs + 1):\n",
    "    pred = model(x_train)\n",
    "\n",
    "    cost = F.mse_loss(pred, y_train)\n",
    "\n",
    "    optimizer.zero_grad()\n",
    "    cost.backward()\n",
    "    optimizer.step()\n",
    "\n",
    "    if epoch % 100 == 0:\n",
    "        print(f\"Epoch {epoch:4d}/{nb_epochs} Cost: {cost.item():.6f}\")"
   ]
  },
  {
   "cell_type": "code",
   "execution_count": 15,
   "id": "5c69fb7c-2f6d-4408-a8b4-898c7ea15aca",
   "metadata": {},
   "outputs": [
    {
     "data": {
      "text/plain": [
       "tensor([[153.7184]], grad_fn=<AddmmBackward0>)"
      ]
     },
     "execution_count": 15,
     "metadata": {},
     "output_type": "execute_result"
    }
   ],
   "source": [
    "new_var = torch.FloatTensor([[73, 80, 75]])\n",
    "pred_y = model(new_var)\n",
    "pred_y"
   ]
  },
  {
   "cell_type": "code",
   "execution_count": 16,
   "id": "bda392fe-f061-4754-92d6-b8a6c10e2b94",
   "metadata": {},
   "outputs": [
    {
     "data": {
      "text/plain": [
       "[Parameter containing:\n",
       " tensor([[0.8541, 0.8475, 0.3096]], requires_grad=True),\n",
       " Parameter containing:\n",
       " tensor([0.3568], requires_grad=True)]"
      ]
     },
     "execution_count": 16,
     "metadata": {},
     "output_type": "execute_result"
    }
   ],
   "source": [
    "list(model.parameters())"
   ]
  },
  {
   "cell_type": "markdown",
   "id": "1cf7de24-5098-486d-b092-1318686f20fa",
   "metadata": {},
   "source": [
    "# 클래스로 구현하기"
   ]
  },
  {
   "cell_type": "code",
   "execution_count": 17,
   "id": "94204ece-b46f-48dd-b3a2-8ba436ceba1a",
   "metadata": {},
   "outputs": [],
   "source": [
    "class LinearRegressionModel(nn.Module):\n",
    "    def __init__(self):\n",
    "        super().__init__()\n",
    "        self.linear = nn.Linear(1, 1)\n",
    "\n",
    "    def forward(self, x):\n",
    "        return self.linear(x)"
   ]
  },
  {
   "cell_type": "code",
   "execution_count": 18,
   "id": "b798f21a-d6c4-475c-beb9-08f9800e9c86",
   "metadata": {},
   "outputs": [],
   "source": [
    "class MultivariateLinearRegressionModel(nn.Module):\n",
    "    def __init__(self):\n",
    "        super().__init__()\n",
    "        self.linear = nn.Linear(3, 1)\n",
    "\n",
    "    def forward(self, x):\n",
    "        return self.linear(x)"
   ]
  }
 ],
 "metadata": {
  "kernelspec": {
   "display_name": "Python 3 (ipykernel)",
   "language": "python",
   "name": "python3"
  },
  "language_info": {
   "codemirror_mode": {
    "name": "ipython",
    "version": 3
   },
   "file_extension": ".py",
   "mimetype": "text/x-python",
   "name": "python",
   "nbconvert_exporter": "python",
   "pygments_lexer": "ipython3",
   "version": "3.9.21"
  }
 },
 "nbformat": 4,
 "nbformat_minor": 5
}
