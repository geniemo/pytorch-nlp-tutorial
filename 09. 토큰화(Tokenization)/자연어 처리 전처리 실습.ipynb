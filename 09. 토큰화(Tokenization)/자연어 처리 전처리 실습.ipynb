{
 "cells": [
  {
   "cell_type": "markdown",
   "id": "a985a61a-76c9-4617-9cd8-89a732eb9326",
   "metadata": {},
   "source": [
    "# 토큰화"
   ]
  },
  {
   "cell_type": "markdown",
   "id": "e96e6302-c0cd-4a70-9fdf-b25340abfeda",
   "metadata": {},
   "source": [
    "## spaCy 사용하기"
   ]
  },
  {
   "cell_type": "code",
   "execution_count": 1,
   "id": "d7f29718-9e6c-40c3-bdc3-dbe7e4483ba5",
   "metadata": {},
   "outputs": [],
   "source": [
    "import spacy"
   ]
  },
  {
   "cell_type": "code",
   "execution_count": 2,
   "id": "4194e1a6-d30a-40b2-9609-e93a8e55ab6d",
   "metadata": {},
   "outputs": [],
   "source": [
    "en_text = \"A Dog Run back corner near spare bedrooms\""
   ]
  },
  {
   "cell_type": "code",
   "execution_count": 3,
   "id": "154afe61-5ded-457f-8ff5-92cb5ab447d0",
   "metadata": {},
   "outputs": [],
   "source": [
    "spacy_en = spacy.load(\"en_core_web_sm\")"
   ]
  },
  {
   "cell_type": "code",
   "execution_count": 4,
   "id": "660242bf-1c04-4f10-b927-0ce75c4bc3c8",
   "metadata": {},
   "outputs": [],
   "source": [
    "def tokenize(en_text):\n",
    "    return [tok.text for tok in spacy_en.tokenizer(en_text)]"
   ]
  },
  {
   "cell_type": "code",
   "execution_count": 5,
   "id": "48fe4ea2-07df-4cf8-a874-b99a8513091d",
   "metadata": {},
   "outputs": [
    {
     "data": {
      "text/plain": [
       "['A', 'Dog', 'Run', 'back', 'corner', 'near', 'spare', 'bedrooms']"
      ]
     },
     "execution_count": 5,
     "metadata": {},
     "output_type": "execute_result"
    }
   ],
   "source": [
    "tokenize(en_text)"
   ]
  },
  {
   "cell_type": "markdown",
   "id": "354e7902-a315-4a23-b659-fb2ac9ecfd6b",
   "metadata": {},
   "source": [
    "## NLTK 사용하기"
   ]
  },
  {
   "cell_type": "code",
   "execution_count": 6,
   "id": "9ef5ffd4-7323-48cc-9bdf-d36298a23dc2",
   "metadata": {},
   "outputs": [],
   "source": [
    "import nltk"
   ]
  },
  {
   "cell_type": "code",
   "execution_count": 7,
   "id": "d3fe2c8c-a21d-4d67-988b-07568e53e236",
   "metadata": {},
   "outputs": [
    {
     "name": "stderr",
     "output_type": "stream",
     "text": [
      "[nltk_data] Downloading package punkt to\n",
      "[nltk_data]     C:\\Users\\jiweo\\AppData\\Roaming\\nltk_data...\n",
      "[nltk_data]   Package punkt is already up-to-date!\n"
     ]
    },
    {
     "data": {
      "text/plain": [
       "True"
      ]
     },
     "execution_count": 7,
     "metadata": {},
     "output_type": "execute_result"
    }
   ],
   "source": [
    "nltk.download(\"punkt\")"
   ]
  },
  {
   "cell_type": "code",
   "execution_count": 8,
   "id": "83dcddf1-3cb5-4035-badb-b56f26ecf297",
   "metadata": {},
   "outputs": [],
   "source": [
    "from nltk.tokenize import word_tokenize"
   ]
  },
  {
   "cell_type": "code",
   "execution_count": 9,
   "id": "7ae3d5af-5885-4837-9e30-1335421d8b1c",
   "metadata": {},
   "outputs": [
    {
     "data": {
      "text/plain": [
       "['A', 'Dog', 'Run', 'back', 'corner', 'near', 'spare', 'bedrooms']"
      ]
     },
     "execution_count": 9,
     "metadata": {},
     "output_type": "execute_result"
    }
   ],
   "source": [
    "word_tokenize(en_text)"
   ]
  },
  {
   "cell_type": "markdown",
   "id": "7fadbf6c-1b36-4acc-9bcf-ecbb4bfaba2b",
   "metadata": {},
   "source": [
    "## 한국어 토큰화"
   ]
  },
  {
   "cell_type": "markdown",
   "id": "42fa2647-4a11-4003-8ece-70317814143f",
   "metadata": {},
   "source": [
    "### 형태소 토큰화"
   ]
  },
  {
   "cell_type": "code",
   "execution_count": 10,
   "id": "b73b1c5f-7034-4209-a657-c2a03754f5e1",
   "metadata": {
    "scrolled": true
   },
   "outputs": [
    {
     "name": "stdout",
     "output_type": "stream",
     "text": [
      "Requirement already satisfied: konlpy in c:\\users\\jiweo\\anaconda3\\envs\\pytorch-nlp-tutorial\\lib\\site-packages (0.6.0)\n",
      "Requirement already satisfied: JPype1>=0.7.0 in c:\\users\\jiweo\\anaconda3\\envs\\pytorch-nlp-tutorial\\lib\\site-packages (from konlpy) (1.5.1)\n",
      "Requirement already satisfied: lxml>=4.1.0 in c:\\users\\jiweo\\anaconda3\\envs\\pytorch-nlp-tutorial\\lib\\site-packages (from konlpy) (5.3.0)\n",
      "Requirement already satisfied: numpy>=1.6 in c:\\users\\jiweo\\anaconda3\\envs\\pytorch-nlp-tutorial\\lib\\site-packages (from konlpy) (1.26.4)\n",
      "Requirement already satisfied: packaging in c:\\users\\jiweo\\anaconda3\\envs\\pytorch-nlp-tutorial\\lib\\site-packages (from JPype1>=0.7.0->konlpy) (24.2)\n",
      "Requirement already satisfied: mecab-python in c:\\users\\jiweo\\anaconda3\\envs\\pytorch-nlp-tutorial\\lib\\site-packages (1.0.0)\n",
      "Requirement already satisfied: mecab-python3 in c:\\users\\jiweo\\anaconda3\\envs\\pytorch-nlp-tutorial\\lib\\site-packages (from mecab-python) (1.0.10)\n"
     ]
    }
   ],
   "source": [
    "!pip install konlpy\n",
    "!pip install mecab-python"
   ]
  },
  {
   "cell_type": "code",
   "execution_count": 11,
   "id": "846b3fa1-5914-4ab7-8d27-32b24ccd9b7b",
   "metadata": {},
   "outputs": [],
   "source": [
    "from konlpy.tag import Okt"
   ]
  },
  {
   "cell_type": "code",
   "execution_count": 12,
   "id": "b5e4cb7d-4b62-4f69-b939-cbac43c8de73",
   "metadata": {},
   "outputs": [],
   "source": [
    "ko_text = \"사과의 놀라운 효능이라는 글을 봤어. 그래서 오늘 사과를 먹으려고 했는데 사과가 썩어서 슈퍼에 가서 사과랑 오렌지 사왔어\""
   ]
  },
  {
   "cell_type": "code",
   "execution_count": 13,
   "id": "ab35714d-5fd9-4b12-b9c6-f28fada4e2c8",
   "metadata": {},
   "outputs": [],
   "source": [
    "okt = Okt()"
   ]
  },
  {
   "cell_type": "code",
   "execution_count": 14,
   "id": "9797bba6-4f35-44de-8e57-da9afa44f286",
   "metadata": {
    "scrolled": true
   },
   "outputs": [
    {
     "data": {
      "text/plain": [
       "['사과',\n",
       " '의',\n",
       " '놀라운',\n",
       " '효능',\n",
       " '이라는',\n",
       " '글',\n",
       " '을',\n",
       " '봤어',\n",
       " '.',\n",
       " '그래서',\n",
       " '오늘',\n",
       " '사과',\n",
       " '를',\n",
       " '먹으려고',\n",
       " '했는데',\n",
       " '사과',\n",
       " '가',\n",
       " '썩어서',\n",
       " '슈퍼',\n",
       " '에',\n",
       " '가서',\n",
       " '사과',\n",
       " '랑',\n",
       " '오렌지',\n",
       " '사왔어']"
      ]
     },
     "execution_count": 14,
     "metadata": {},
     "output_type": "execute_result"
    }
   ],
   "source": [
    "okt.morphs(ko_text)"
   ]
  },
  {
   "cell_type": "markdown",
   "id": "041fdf29-99cd-4596-90f1-ebbb51e62cbc",
   "metadata": {},
   "source": [
    "위에서 단어 또는 형태소 토큰화를 했는데 그보다 더 작은 단위인 문자 단위로 토큰화 하는 경우도 있다."
   ]
  },
  {
   "cell_type": "code",
   "execution_count": 15,
   "id": "75fc3660-39aa-48f9-bd7f-cbe514b8b418",
   "metadata": {
    "scrolled": true
   },
   "outputs": [
    {
     "data": {
      "text/plain": [
       "['A',\n",
       " ' ',\n",
       " 'D',\n",
       " 'o',\n",
       " 'g',\n",
       " ' ',\n",
       " 'R',\n",
       " 'u',\n",
       " 'n',\n",
       " ' ',\n",
       " 'b',\n",
       " 'a',\n",
       " 'c',\n",
       " 'k',\n",
       " ' ',\n",
       " 'c',\n",
       " 'o',\n",
       " 'r',\n",
       " 'n',\n",
       " 'e',\n",
       " 'r',\n",
       " ' ',\n",
       " 'n',\n",
       " 'e',\n",
       " 'a',\n",
       " 'r',\n",
       " ' ',\n",
       " 's',\n",
       " 'p',\n",
       " 'a',\n",
       " 'r',\n",
       " 'e',\n",
       " ' ',\n",
       " 'b',\n",
       " 'e',\n",
       " 'd',\n",
       " 'r',\n",
       " 'o',\n",
       " 'o',\n",
       " 'm',\n",
       " 's']"
      ]
     },
     "execution_count": 15,
     "metadata": {},
     "output_type": "execute_result"
    }
   ],
   "source": [
    "list(en_text)"
   ]
  },
  {
   "cell_type": "markdown",
   "id": "36717701-88ee-4934-a354-2fd57100bfaf",
   "metadata": {},
   "source": [
    "# 단어 집합(Vocabulary) 생성"
   ]
  },
  {
   "cell_type": "code",
   "execution_count": 16,
   "id": "a61b8f50-fcc9-4a66-8997-2fe5cc233fff",
   "metadata": {},
   "outputs": [],
   "source": [
    "import urllib.request\n",
    "\n",
    "import matplotlib.pyplot as plt\n",
    "import numpy as np\n",
    "import pandas as pd\n",
    "from nltk import FreqDist"
   ]
  },
  {
   "cell_type": "code",
   "execution_count": 18,
   "id": "a6917e21-5bc9-4968-afc9-beb001d7787a",
   "metadata": {},
   "outputs": [
    {
     "data": {
      "text/html": [
       "<div>\n",
       "<style scoped>\n",
       "    .dataframe tbody tr th:only-of-type {\n",
       "        vertical-align: middle;\n",
       "    }\n",
       "\n",
       "    .dataframe tbody tr th {\n",
       "        vertical-align: top;\n",
       "    }\n",
       "\n",
       "    .dataframe thead th {\n",
       "        text-align: right;\n",
       "    }\n",
       "</style>\n",
       "<table border=\"1\" class=\"dataframe\">\n",
       "  <thead>\n",
       "    <tr style=\"text-align: right;\">\n",
       "      <th></th>\n",
       "      <th>id</th>\n",
       "      <th>document</th>\n",
       "      <th>label</th>\n",
       "    </tr>\n",
       "  </thead>\n",
       "  <tbody>\n",
       "    <tr>\n",
       "      <th>0</th>\n",
       "      <td>8112052</td>\n",
       "      <td>어릴때보고 지금다시봐도 재밌어요ㅋㅋ</td>\n",
       "      <td>1</td>\n",
       "    </tr>\n",
       "    <tr>\n",
       "      <th>1</th>\n",
       "      <td>8132799</td>\n",
       "      <td>디자인을 배우는 학생으로, 외국디자이너와 그들이 일군 전통을 통해 발전해가는 문화산...</td>\n",
       "      <td>1</td>\n",
       "    </tr>\n",
       "    <tr>\n",
       "      <th>2</th>\n",
       "      <td>4655635</td>\n",
       "      <td>폴리스스토리 시리즈는 1부터 뉴까지 버릴께 하나도 없음.. 최고.</td>\n",
       "      <td>1</td>\n",
       "    </tr>\n",
       "    <tr>\n",
       "      <th>3</th>\n",
       "      <td>9251303</td>\n",
       "      <td>와.. 연기가 진짜 개쩔구나.. 지루할거라고 생각했는데 몰입해서 봤다.. 그래 이런...</td>\n",
       "      <td>1</td>\n",
       "    </tr>\n",
       "    <tr>\n",
       "      <th>4</th>\n",
       "      <td>10067386</td>\n",
       "      <td>안개 자욱한 밤하늘에 떠 있는 초승달 같은 영화.</td>\n",
       "      <td>1</td>\n",
       "    </tr>\n",
       "    <tr>\n",
       "      <th>5</th>\n",
       "      <td>2190435</td>\n",
       "      <td>사랑을 해본사람이라면 처음부터 끝까지 웃을수 있는영화</td>\n",
       "      <td>1</td>\n",
       "    </tr>\n",
       "    <tr>\n",
       "      <th>6</th>\n",
       "      <td>9279041</td>\n",
       "      <td>완전 감동입니다 다시봐도 감동</td>\n",
       "      <td>1</td>\n",
       "    </tr>\n",
       "    <tr>\n",
       "      <th>7</th>\n",
       "      <td>7865729</td>\n",
       "      <td>개들의 전쟁2 나오나요? 나오면 1빠로 보고 싶음</td>\n",
       "      <td>1</td>\n",
       "    </tr>\n",
       "    <tr>\n",
       "      <th>8</th>\n",
       "      <td>7477618</td>\n",
       "      <td>굿</td>\n",
       "      <td>1</td>\n",
       "    </tr>\n",
       "    <tr>\n",
       "      <th>9</th>\n",
       "      <td>9250537</td>\n",
       "      <td>바보가 아니라 병 쉰 인듯</td>\n",
       "      <td>1</td>\n",
       "    </tr>\n",
       "  </tbody>\n",
       "</table>\n",
       "</div>"
      ],
      "text/plain": [
       "         id                                           document  label\n",
       "0   8112052                                어릴때보고 지금다시봐도 재밌어요ㅋㅋ      1\n",
       "1   8132799  디자인을 배우는 학생으로, 외국디자이너와 그들이 일군 전통을 통해 발전해가는 문화산...      1\n",
       "2   4655635               폴리스스토리 시리즈는 1부터 뉴까지 버릴께 하나도 없음.. 최고.      1\n",
       "3   9251303  와.. 연기가 진짜 개쩔구나.. 지루할거라고 생각했는데 몰입해서 봤다.. 그래 이런...      1\n",
       "4  10067386                        안개 자욱한 밤하늘에 떠 있는 초승달 같은 영화.      1\n",
       "5   2190435                      사랑을 해본사람이라면 처음부터 끝까지 웃을수 있는영화      1\n",
       "6   9279041                                   완전 감동입니다 다시봐도 감동      1\n",
       "7   7865729                        개들의 전쟁2 나오나요? 나오면 1빠로 보고 싶음      1\n",
       "8   7477618                                                  굿      1\n",
       "9   9250537                                     바보가 아니라 병 쉰 인듯      1"
      ]
     },
     "execution_count": 18,
     "metadata": {},
     "output_type": "execute_result"
    }
   ],
   "source": [
    "urllib.request.urlretrieve(\n",
    "    \"https://raw.githubusercontent.com/e9t/nsmc/master/ratings.txt\",\n",
    "    filename=\"../input/ratings.txt\",\n",
    ")\n",
    "data = pd.read_table(\"../input/ratings.txt\")  # 데이터프레임에 저장\n",
    "data[:10]"
   ]
  },
  {
   "cell_type": "code",
   "execution_count": 19,
   "id": "d27142d4-2275-4cfc-8402-891981095ecb",
   "metadata": {},
   "outputs": [],
   "source": [
    "sample_data = data[:100]"
   ]
  },
  {
   "cell_type": "code",
   "execution_count": 20,
   "id": "9e676c16-e5ee-46af-9e0c-5e14f11ec940",
   "metadata": {},
   "outputs": [
    {
     "name": "stderr",
     "output_type": "stream",
     "text": [
      "C:\\Users\\jiweo\\AppData\\Local\\Temp\\ipykernel_6984\\3031624743.py:1: SettingWithCopyWarning: \n",
      "A value is trying to be set on a copy of a slice from a DataFrame.\n",
      "Try using .loc[row_indexer,col_indexer] = value instead\n",
      "\n",
      "See the caveats in the documentation: https://pandas.pydata.org/pandas-docs/stable/user_guide/indexing.html#returning-a-view-versus-a-copy\n",
      "  sample_data[\"document\"] = sample_data[\"document\"].str.replace(\n"
     ]
    },
    {
     "data": {
      "text/html": [
       "<div>\n",
       "<style scoped>\n",
       "    .dataframe tbody tr th:only-of-type {\n",
       "        vertical-align: middle;\n",
       "    }\n",
       "\n",
       "    .dataframe tbody tr th {\n",
       "        vertical-align: top;\n",
       "    }\n",
       "\n",
       "    .dataframe thead th {\n",
       "        text-align: right;\n",
       "    }\n",
       "</style>\n",
       "<table border=\"1\" class=\"dataframe\">\n",
       "  <thead>\n",
       "    <tr style=\"text-align: right;\">\n",
       "      <th></th>\n",
       "      <th>id</th>\n",
       "      <th>document</th>\n",
       "      <th>label</th>\n",
       "    </tr>\n",
       "  </thead>\n",
       "  <tbody>\n",
       "    <tr>\n",
       "      <th>0</th>\n",
       "      <td>8112052</td>\n",
       "      <td>어릴때보고 지금다시봐도 재밌어요ㅋㅋ</td>\n",
       "      <td>1</td>\n",
       "    </tr>\n",
       "    <tr>\n",
       "      <th>1</th>\n",
       "      <td>8132799</td>\n",
       "      <td>디자인을 배우는 학생으로 외국디자이너와 그들이 일군 전통을 통해 발전해가는 문화산업...</td>\n",
       "      <td>1</td>\n",
       "    </tr>\n",
       "    <tr>\n",
       "      <th>2</th>\n",
       "      <td>4655635</td>\n",
       "      <td>폴리스스토리 시리즈는 부터 뉴까지 버릴께 하나도 없음 최고</td>\n",
       "      <td>1</td>\n",
       "    </tr>\n",
       "    <tr>\n",
       "      <th>3</th>\n",
       "      <td>9251303</td>\n",
       "      <td>와 연기가 진짜 개쩔구나 지루할거라고 생각했는데 몰입해서 봤다 그래 이런게 진짜 영화지</td>\n",
       "      <td>1</td>\n",
       "    </tr>\n",
       "    <tr>\n",
       "      <th>4</th>\n",
       "      <td>10067386</td>\n",
       "      <td>안개 자욱한 밤하늘에 떠 있는 초승달 같은 영화</td>\n",
       "      <td>1</td>\n",
       "    </tr>\n",
       "    <tr>\n",
       "      <th>5</th>\n",
       "      <td>2190435</td>\n",
       "      <td>사랑을 해본사람이라면 처음부터 끝까지 웃을수 있는영화</td>\n",
       "      <td>1</td>\n",
       "    </tr>\n",
       "    <tr>\n",
       "      <th>6</th>\n",
       "      <td>9279041</td>\n",
       "      <td>완전 감동입니다 다시봐도 감동</td>\n",
       "      <td>1</td>\n",
       "    </tr>\n",
       "    <tr>\n",
       "      <th>7</th>\n",
       "      <td>7865729</td>\n",
       "      <td>개들의 전쟁 나오나요 나오면 빠로 보고 싶음</td>\n",
       "      <td>1</td>\n",
       "    </tr>\n",
       "    <tr>\n",
       "      <th>8</th>\n",
       "      <td>7477618</td>\n",
       "      <td>굿</td>\n",
       "      <td>1</td>\n",
       "    </tr>\n",
       "    <tr>\n",
       "      <th>9</th>\n",
       "      <td>9250537</td>\n",
       "      <td>바보가 아니라 병 쉰 인듯</td>\n",
       "      <td>1</td>\n",
       "    </tr>\n",
       "  </tbody>\n",
       "</table>\n",
       "</div>"
      ],
      "text/plain": [
       "         id                                           document  label\n",
       "0   8112052                                어릴때보고 지금다시봐도 재밌어요ㅋㅋ      1\n",
       "1   8132799  디자인을 배우는 학생으로 외국디자이너와 그들이 일군 전통을 통해 발전해가는 문화산업...      1\n",
       "2   4655635                   폴리스스토리 시리즈는 부터 뉴까지 버릴께 하나도 없음 최고      1\n",
       "3   9251303   와 연기가 진짜 개쩔구나 지루할거라고 생각했는데 몰입해서 봤다 그래 이런게 진짜 영화지      1\n",
       "4  10067386                         안개 자욱한 밤하늘에 떠 있는 초승달 같은 영화      1\n",
       "5   2190435                      사랑을 해본사람이라면 처음부터 끝까지 웃을수 있는영화      1\n",
       "6   9279041                                   완전 감동입니다 다시봐도 감동      1\n",
       "7   7865729                           개들의 전쟁 나오나요 나오면 빠로 보고 싶음      1\n",
       "8   7477618                                                  굿      1\n",
       "9   9250537                                     바보가 아니라 병 쉰 인듯      1"
      ]
     },
     "execution_count": 20,
     "metadata": {},
     "output_type": "execute_result"
    }
   ],
   "source": [
    "sample_data[\"document\"] = sample_data[\"document\"].str.replace(\n",
    "    \"[^ㄱ-ㅎㅏ-ㅣ가-힣 ]\", \"\", regex=True\n",
    ")  # 한글과 공백 제외 모두 제거\n",
    "sample_data[:10]"
   ]
  },
  {
   "cell_type": "code",
   "execution_count": 21,
   "id": "8b8aafc8-0813-49ea-a389-cbed67bf87c0",
   "metadata": {},
   "outputs": [],
   "source": [
    "# 불용어 정의\n",
    "stopwords = [\n",
    "    \"의\",\n",
    "    \"가\",\n",
    "    \"이\",\n",
    "    \"은\",\n",
    "    \"들\",\n",
    "    \"는\",\n",
    "    \"좀\",\n",
    "    \"잘\",\n",
    "    \"걍\",\n",
    "    \"과\",\n",
    "    \"도\",\n",
    "    \"를\",\n",
    "    \"으로\",\n",
    "    \"자\",\n",
    "    \"에\",\n",
    "    \"와\",\n",
    "    \"한\",\n",
    "    \"하다\",\n",
    "]"
   ]
  },
  {
   "cell_type": "code",
   "execution_count": 27,
   "id": "3c8e2c03-a58b-44fe-9e4b-e6bb4245efff",
   "metadata": {},
   "outputs": [],
   "source": [
    "from konlpy.tag import Mecab"
   ]
  },
  {
   "cell_type": "code",
   "execution_count": 30,
   "id": "12446b21-6961-45fd-bc23-ce4cf6beb2a4",
   "metadata": {},
   "outputs": [],
   "source": [
    "tokenizer = Mecab(dicpath=\"C:/MeCab/mecab-ko-dic\")"
   ]
  },
  {
   "cell_type": "code",
   "execution_count": 31,
   "id": "0dacfe1b-68d6-45d8-8ea8-03b0ecc24a95",
   "metadata": {
    "scrolled": true
   },
   "outputs": [
    {
     "data": {
      "text/plain": [
       "[['어릴', '때', '보', '고', '지금', '다시', '봐도', '재밌', '어요', 'ㅋㅋ'],\n",
       " ['디자인',\n",
       "  '을',\n",
       "  '배우',\n",
       "  '학생',\n",
       "  '외국',\n",
       "  '디자이너',\n",
       "  '그',\n",
       "  '일군',\n",
       "  '전통',\n",
       "  '을',\n",
       "  '통해',\n",
       "  '발전',\n",
       "  '해',\n",
       "  '문화',\n",
       "  '산업',\n",
       "  '부러웠',\n",
       "  '는데',\n",
       "  '사실',\n",
       "  '우리',\n",
       "  '나라',\n",
       "  '에서',\n",
       "  '그',\n",
       "  '어려운',\n",
       "  '시절',\n",
       "  '끝',\n",
       "  '까지',\n",
       "  '열정',\n",
       "  '을',\n",
       "  '지킨',\n",
       "  '노라노',\n",
       "  '같',\n",
       "  '전통',\n",
       "  '있',\n",
       "  '어',\n",
       "  '저',\n",
       "  '같',\n",
       "  '사람',\n",
       "  '꿈',\n",
       "  '을',\n",
       "  '꾸',\n",
       "  '고',\n",
       "  '이뤄나갈',\n",
       "  '수',\n",
       "  '있',\n",
       "  '다는',\n",
       "  '것',\n",
       "  '감사',\n",
       "  '합니다'],\n",
       " ['폴리스', '스토리', '시리즈', '부터', '뉴', '까지', '버릴', '께', '하나', '없', '음', '최고'],\n",
       " ['연기',\n",
       "  '진짜',\n",
       "  '개',\n",
       "  '쩔',\n",
       "  '구나',\n",
       "  '지루',\n",
       "  '할거',\n",
       "  '라고',\n",
       "  '생각',\n",
       "  '했',\n",
       "  '는데',\n",
       "  '몰입',\n",
       "  '해서',\n",
       "  '봤',\n",
       "  '다',\n",
       "  '그래',\n",
       "  '이런',\n",
       "  '게',\n",
       "  '진짜',\n",
       "  '영화',\n",
       "  '지'],\n",
       " ['안개', '자욱', '밤하늘', '떠', '있', '초승달', '같', '영화'],\n",
       " ['사랑',\n",
       "  '을',\n",
       "  '해',\n",
       "  '본',\n",
       "  '사람',\n",
       "  '라면',\n",
       "  '처음',\n",
       "  '부터',\n",
       "  '끝',\n",
       "  '까지',\n",
       "  '웃',\n",
       "  '을',\n",
       "  '수',\n",
       "  '있',\n",
       "  '영화'],\n",
       " ['완전', '감동', '입니다', '다시', '봐도', '감동'],\n",
       " ['개', '전쟁', '나오', '나요', '나오', '면', '빠', '로', '보', '고', '싶', '음'],\n",
       " ['굿'],\n",
       " ['바보', '아니', '라', '병', '쉰', '인', '듯']]"
      ]
     },
     "execution_count": 31,
     "metadata": {},
     "output_type": "execute_result"
    }
   ],
   "source": [
    "tokenized = []\n",
    "for sentence in sample_data[\"document\"]:\n",
    "    temp = tokenizer.morphs(sentence)\n",
    "    temp = [word for word in temp if not word in stopwords]\n",
    "    tokenized.append(temp)\n",
    "\n",
    "tokenized[:10]"
   ]
  },
  {
   "cell_type": "code",
   "execution_count": 32,
   "id": "091aa175-2a1e-4b7e-8251-74eadad41fa1",
   "metadata": {},
   "outputs": [
    {
     "data": {
      "text/plain": [
       "664"
      ]
     },
     "execution_count": 32,
     "metadata": {},
     "output_type": "execute_result"
    }
   ],
   "source": [
    "vocab = FreqDist(np.hstack(tokenized))\n",
    "len(vocab)"
   ]
  },
  {
   "cell_type": "code",
   "execution_count": 33,
   "id": "b9c65268-1123-436f-82b8-a45b88e19c1f",
   "metadata": {},
   "outputs": [
    {
     "data": {
      "text/plain": [
       "10"
      ]
     },
     "execution_count": 33,
     "metadata": {},
     "output_type": "execute_result"
    }
   ],
   "source": [
    "vocab[\"재밌\"]"
   ]
  },
  {
   "cell_type": "code",
   "execution_count": 34,
   "id": "5fe29cd6-b690-4621-b732-54681a131bb6",
   "metadata": {},
   "outputs": [
    {
     "data": {
      "text/plain": [
       "500"
      ]
     },
     "execution_count": 34,
     "metadata": {},
     "output_type": "execute_result"
    }
   ],
   "source": [
    "vocab_size = 500\n",
    "vocab = vocab.most_common(vocab_size)\n",
    "len(vocab)"
   ]
  },
  {
   "cell_type": "markdown",
   "id": "a8751d02-2ebc-48a7-9b7a-25c70547857b",
   "metadata": {},
   "source": [
    "# 각 단어에 고유한 정수 부여"
   ]
  },
  {
   "cell_type": "code",
   "execution_count": 35,
   "id": "62806694-ff12-4cb5-aa0e-96f3b89cba7b",
   "metadata": {},
   "outputs": [],
   "source": [
    "word_to_index = {word[0]: index + 2 for index, word in enumerate(vocab)}\n",
    "word_to_index[\"pad\"] = 1  # 패딩용 인덱스\n",
    "word_to_index[\"unk\"] = 0  # 단어 집합에 없는 단어를 위한 인덱스"
   ]
  },
  {
   "cell_type": "code",
   "execution_count": 36,
   "id": "b7c36968-ba3e-4165-a901-3a023f2ffdbc",
   "metadata": {},
   "outputs": [],
   "source": [
    "encoded = []\n",
    "for line in tokenized:\n",
    "    temp = []\n",
    "    for w in line:\n",
    "        try:\n",
    "            temp.append(word_to_index[w])\n",
    "        except KeyError:\n",
    "            temp.append(word_to_index[\"unk\"])\n",
    "\n",
    "    encoded.append(temp)"
   ]
  },
  {
   "cell_type": "code",
   "execution_count": 37,
   "id": "5cec1f72-251f-4c37-8736-1646fff059c5",
   "metadata": {
    "scrolled": true
   },
   "outputs": [
    {
     "data": {
      "text/plain": [
       "[[78, 27, 9, 4, 50, 41, 79, 16, 28, 29],\n",
       " [188,\n",
       "  5,\n",
       "  80,\n",
       "  189,\n",
       "  190,\n",
       "  191,\n",
       "  42,\n",
       "  192,\n",
       "  114,\n",
       "  5,\n",
       "  193,\n",
       "  194,\n",
       "  21,\n",
       "  115,\n",
       "  195,\n",
       "  196,\n",
       "  13,\n",
       "  51,\n",
       "  81,\n",
       "  116,\n",
       "  30,\n",
       "  42,\n",
       "  197,\n",
       "  117,\n",
       "  118,\n",
       "  31,\n",
       "  198,\n",
       "  5,\n",
       "  199,\n",
       "  200,\n",
       "  17,\n",
       "  114,\n",
       "  7,\n",
       "  82,\n",
       "  52,\n",
       "  17,\n",
       "  43,\n",
       "  201,\n",
       "  5,\n",
       "  202,\n",
       "  4,\n",
       "  203,\n",
       "  14,\n",
       "  7,\n",
       "  83,\n",
       "  32,\n",
       "  204,\n",
       "  84],\n",
       " [205, 119, 206, 53, 207, 31, 208, 209, 54, 10, 25, 11],\n",
       " [44,\n",
       "  33,\n",
       "  120,\n",
       "  210,\n",
       "  211,\n",
       "  212,\n",
       "  213,\n",
       "  68,\n",
       "  45,\n",
       "  34,\n",
       "  13,\n",
       "  214,\n",
       "  121,\n",
       "  15,\n",
       "  2,\n",
       "  215,\n",
       "  69,\n",
       "  8,\n",
       "  33,\n",
       "  3,\n",
       "  35],\n",
       " [216, 217, 218, 219, 7, 220, 17, 3],\n",
       " [122, 5, 21, 36, 43, 123, 124, 53, 118, 31, 85, 5, 14, 7, 3],\n",
       " [125, 37, 221, 41, 79, 37],\n",
       " [120, 222, 55, 223, 55, 86, 224, 46, 9, 4, 47, 25],\n",
       " [56],\n",
       " [225, 87, 88, 226, 227, 57, 89]]"
      ]
     },
     "execution_count": 37,
     "metadata": {},
     "output_type": "execute_result"
    }
   ],
   "source": [
    "encoded[:10]"
   ]
  },
  {
   "cell_type": "markdown",
   "id": "dfcda14e-725f-4eb8-8463-2632bd60553f",
   "metadata": {},
   "source": [
    "# 길이가 다른 문장들을 동일한 길이로 바꿔주는 패딩"
   ]
  },
  {
   "cell_type": "code",
   "execution_count": 38,
   "id": "816e985b-d850-4b74-bf55-a42181cce6fe",
   "metadata": {},
   "outputs": [
    {
     "name": "stdout",
     "output_type": "stream",
     "text": [
      "리뷰 최대 길이: 63\n",
      "리뷰 최소 길이: 1\n",
      "리뷰 평균 길이: 13.9\n"
     ]
    },
    {
     "data": {
      "image/png": "[encoded data removed]",
      "text/plain": [
       "<Figure size 640x480 with 1 Axes>"
      ]
     },
     "metadata": {},
     "output_type": "display_data"
    }
   ],
   "source": [
    "max_len = max(len(l) for l in encoded)\n",
    "print(\n",
    "    (\n",
    "        f\"리뷰 최대 길이: {max_len}\\n\"\n",
    "        f\"리뷰 최소 길이: {min(len(l) for l in encoded)}\\n\"\n",
    "        f\"리뷰 평균 길이: {sum(map(len, encoded))/len(encoded)}\"\n",
    "    )\n",
    ")\n",
    "plt.hist([len(s) for s in encoded], bins=50)\n",
    "plt.xlabel(\"length of sample\")\n",
    "plt.ylabel(\"number of sample\")\n",
    "plt.show()"
   ]
  },
  {
   "cell_type": "code",
   "execution_count": 39,
   "id": "7d558cea-2730-49b7-8e8e-158b679207b4",
   "metadata": {},
   "outputs": [],
   "source": [
    "for line in encoded:\n",
    "    if len(line) < max_len:\n",
    "        line += [word_to_index[\"pad\"]] * (max_len - len(line))"
   ]
  },
  {
   "cell_type": "code",
   "execution_count": 40,
   "id": "26638006-5e66-4684-bfa6-c45dfe42b82a",
   "metadata": {},
   "outputs": [
    {
     "name": "stdout",
     "output_type": "stream",
     "text": [
      "리뷰 최대 길이: 63\n",
      "리뷰 최소 길이: 63\n",
      "리뷰 평균 길이: 63.0\n"
     ]
    }
   ],
   "source": [
    "print(\n",
    "    (\n",
    "        f\"리뷰 최대 길이: {max_len}\\n\"\n",
    "        f\"리뷰 최소 길이: {min(len(l) for l in encoded)}\\n\"\n",
    "        f\"리뷰 평균 길이: {sum(map(len, encoded))/len(encoded)}\"\n",
    "    )\n",
    ")"
   ]
  },
  {
   "cell_type": "code",
   "execution_count": 41,
   "id": "10e370fd-6179-45cb-bff8-0aab8b5dcba6",
   "metadata": {
    "scrolled": true
   },
   "outputs": [
    {
     "data": {
      "text/plain": [
       "[[78,\n",
       "  27,\n",
       "  9,\n",
       "  4,\n",
       "  50,\n",
       "  41,\n",
       "  79,\n",
       "  16,\n",
       "  28,\n",
       "  29,\n",
       "  1,\n",
       "  1,\n",
       "  1,\n",
       "  1,\n",
       "  1,\n",
       "  1,\n",
       "  1,\n",
       "  1,\n",
       "  1,\n",
       "  1,\n",
       "  1,\n",
       "  1,\n",
       "  1,\n",
       "  1,\n",
       "  1,\n",
       "  1,\n",
       "  1,\n",
       "  1,\n",
       "  1,\n",
       "  1,\n",
       "  1,\n",
       "  1,\n",
       "  1,\n",
       "  1,\n",
       "  1,\n",
       "  1,\n",
       "  1,\n",
       "  1,\n",
       "  1,\n",
       "  1,\n",
       "  1,\n",
       "  1,\n",
       "  1,\n",
       "  1,\n",
       "  1,\n",
       "  1,\n",
       "  1,\n",
       "  1,\n",
       "  1,\n",
       "  1,\n",
       "  1,\n",
       "  1,\n",
       "  1,\n",
       "  1,\n",
       "  1,\n",
       "  1,\n",
       "  1,\n",
       "  1,\n",
       "  1,\n",
       "  1,\n",
       "  1,\n",
       "  1,\n",
       "  1],\n",
       " [188,\n",
       "  5,\n",
       "  80,\n",
       "  189,\n",
       "  190,\n",
       "  191,\n",
       "  42,\n",
       "  192,\n",
       "  114,\n",
       "  5,\n",
       "  193,\n",
       "  194,\n",
       "  21,\n",
       "  115,\n",
       "  195,\n",
       "  196,\n",
       "  13,\n",
       "  51,\n",
       "  81,\n",
       "  116,\n",
       "  30,\n",
       "  42,\n",
       "  197,\n",
       "  117,\n",
       "  118,\n",
       "  31,\n",
       "  198,\n",
       "  5,\n",
       "  199,\n",
       "  200,\n",
       "  17,\n",
       "  114,\n",
       "  7,\n",
       "  82,\n",
       "  52,\n",
       "  17,\n",
       "  43,\n",
       "  201,\n",
       "  5,\n",
       "  202,\n",
       "  4,\n",
       "  203,\n",
       "  14,\n",
       "  7,\n",
       "  83,\n",
       "  32,\n",
       "  204,\n",
       "  84,\n",
       "  1,\n",
       "  1,\n",
       "  1,\n",
       "  1,\n",
       "  1,\n",
       "  1,\n",
       "  1,\n",
       "  1,\n",
       "  1,\n",
       "  1,\n",
       "  1,\n",
       "  1,\n",
       "  1,\n",
       "  1,\n",
       "  1],\n",
       " [205,\n",
       "  119,\n",
       "  206,\n",
       "  53,\n",
       "  207,\n",
       "  31,\n",
       "  208,\n",
       "  209,\n",
       "  54,\n",
       "  10,\n",
       "  25,\n",
       "  11,\n",
       "  1,\n",
       "  1,\n",
       "  1,\n",
       "  1,\n",
       "  1,\n",
       "  1,\n",
       "  1,\n",
       "  1,\n",
       "  1,\n",
       "  1,\n",
       "  1,\n",
       "  1,\n",
       "  1,\n",
       "  1,\n",
       "  1,\n",
       "  1,\n",
       "  1,\n",
       "  1,\n",
       "  1,\n",
       "  1,\n",
       "  1,\n",
       "  1,\n",
       "  1,\n",
       "  1,\n",
       "  1,\n",
       "  1,\n",
       "  1,\n",
       "  1,\n",
       "  1,\n",
       "  1,\n",
       "  1,\n",
       "  1,\n",
       "  1,\n",
       "  1,\n",
       "  1,\n",
       "  1,\n",
       "  1,\n",
       "  1,\n",
       "  1,\n",
       "  1,\n",
       "  1,\n",
       "  1,\n",
       "  1,\n",
       "  1,\n",
       "  1,\n",
       "  1,\n",
       "  1,\n",
       "  1,\n",
       "  1,\n",
       "  1,\n",
       "  1]]"
      ]
     },
     "execution_count": 41,
     "metadata": {},
     "output_type": "execute_result"
    }
   ],
   "source": [
    "encoded[:3]"
   ]
  },
  {
   "cell_type": "markdown",
   "id": "89a43793-fcd2-4020-be6c-7def0226b460",
   "metadata": {},
   "source": [
    "이렇게 매핑한 각 정수를 고유한 단어 벡터로 바꾸는 작업이 필요하다. 그 방법으로는 크게 원-핫 인코딩과 워드 임베딩이 있는데 주로 워드 임베딩이 사용된다."
   ]
  }
 ],
 "metadata": {
  "kernelspec": {
   "display_name": "Python 3 (ipykernel)",
   "language": "python",
   "name": "python3"
  },
  "language_info": {
   "codemirror_mode": {
    "name": "ipython",
    "version": 3
   },
   "file_extension": ".py",
   "mimetype": "text/x-python",
   "name": "python",
   "nbconvert_exporter": "python",
   "pygments_lexer": "ipython3",
   "version": "3.11.9"
  }
 },
 "nbformat": 4,
 "nbformat_minor": 5
}
