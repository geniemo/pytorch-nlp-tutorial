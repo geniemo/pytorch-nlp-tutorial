{
 "cells": [
  {
   "cell_type": "code",
   "execution_count": 1,
   "id": "860454ab-773b-4b10-8524-f39871f754ea",
   "metadata": {},
   "outputs": [],
   "source": [
    "import re"
   ]
  },
  {
   "cell_type": "markdown",
   "id": "a4fa3e65-1852-46cc-aaee-26648f30270f",
   "metadata": {},
   "source": [
    "compile하고 search로 확인한다. search는 매치되지 않으면 아무 것도 리턴하지 않는다."
   ]
  },
  {
   "cell_type": "markdown",
   "id": "fb2ff01b-6600-4931-9e1d-f61d8b9c6c06",
   "metadata": {},
   "source": [
    "# 기호 예제"
   ]
  },
  {
   "cell_type": "markdown",
   "id": "64f16ba6-4aba-44ca-807d-242c43a24de5",
   "metadata": {},
   "source": [
    "#### . 기호"
   ]
  },
  {
   "cell_type": "code",
   "execution_count": 2,
   "id": "554c8f8e-c9be-444f-b570-4db4e96a1bb9",
   "metadata": {},
   "outputs": [],
   "source": [
    "r = re.compile(\"a.c\")"
   ]
  },
  {
   "cell_type": "code",
   "execution_count": 3,
   "id": "aae5a4b1-66cf-4e5e-be5a-c240b4eda374",
   "metadata": {},
   "outputs": [],
   "source": [
    "r.search(\"kkk\")"
   ]
  },
  {
   "cell_type": "code",
   "execution_count": 4,
   "id": "3f4b74b5-30cf-4e1b-9d9e-6ca5657964de",
   "metadata": {},
   "outputs": [
    {
     "data": {
      "text/plain": [
       "<re.Match object; span=(0, 3), match='abc'>"
      ]
     },
     "execution_count": 4,
     "metadata": {},
     "output_type": "execute_result"
    }
   ],
   "source": [
    "r.search(\"abc\")"
   ]
  },
  {
   "cell_type": "markdown",
   "id": "2f52ee2a-fc91-45a3-a59a-255f199a544f",
   "metadata": {},
   "source": [
    "#### ? 기호"
   ]
  },
  {
   "cell_type": "code",
   "execution_count": 5,
   "id": "ae5fcbb6-edd2-4249-99a6-fbe5a15fc777",
   "metadata": {},
   "outputs": [],
   "source": [
    "r = re.compile(\"ab?c\")"
   ]
  },
  {
   "cell_type": "code",
   "execution_count": 7,
   "id": "9638fc8c-1da7-400e-975f-f596bad9fce8",
   "metadata": {},
   "outputs": [],
   "source": [
    "r.search(\"abbc\")"
   ]
  },
  {
   "cell_type": "code",
   "execution_count": 8,
   "id": "e2dc0c5a-8e3e-452e-b0a3-57c3041c563d",
   "metadata": {},
   "outputs": [
    {
     "data": {
      "text/plain": [
       "<re.Match object; span=(0, 3), match='abc'>"
      ]
     },
     "execution_count": 8,
     "metadata": {},
     "output_type": "execute_result"
    }
   ],
   "source": [
    "r.search(\"abc\")"
   ]
  },
  {
   "cell_type": "code",
   "execution_count": 9,
   "id": "3cc97303-67b7-4cc3-9053-f717f79dbbcf",
   "metadata": {},
   "outputs": [
    {
     "data": {
      "text/plain": [
       "<re.Match object; span=(0, 2), match='ac'>"
      ]
     },
     "execution_count": 9,
     "metadata": {},
     "output_type": "execute_result"
    }
   ],
   "source": [
    "r.search(\"ac\")"
   ]
  },
  {
   "cell_type": "markdown",
   "id": "134186aa-b382-4df4-92bc-9c36e41ff783",
   "metadata": {},
   "source": [
    "#### \\* 기호"
   ]
  },
  {
   "cell_type": "code",
   "execution_count": 10,
   "id": "4c987931-fe68-4411-bff5-b9a0ff55bb5e",
   "metadata": {},
   "outputs": [],
   "source": [
    "r = re.compile(\"ab*c\")"
   ]
  },
  {
   "cell_type": "code",
   "execution_count": 11,
   "id": "71e7973d-85fb-433d-b7fa-dbe9e9e0e81b",
   "metadata": {},
   "outputs": [],
   "source": [
    "r.search(\"a\")"
   ]
  },
  {
   "cell_type": "code",
   "execution_count": 12,
   "id": "cc9f5349-c5df-41f6-aa36-40b7491242a7",
   "metadata": {},
   "outputs": [
    {
     "data": {
      "text/plain": [
       "<re.Match object; span=(0, 2), match='ac'>"
      ]
     },
     "execution_count": 12,
     "metadata": {},
     "output_type": "execute_result"
    }
   ],
   "source": [
    "r.search(\"ac\")"
   ]
  },
  {
   "cell_type": "code",
   "execution_count": 13,
   "id": "469838bd-108a-4126-9538-c54f43782ecd",
   "metadata": {},
   "outputs": [
    {
     "data": {
      "text/plain": [
       "<re.Match object; span=(0, 3), match='abc'>"
      ]
     },
     "execution_count": 13,
     "metadata": {},
     "output_type": "execute_result"
    }
   ],
   "source": [
    "r.search(\"abc\")"
   ]
  },
  {
   "cell_type": "code",
   "execution_count": 14,
   "id": "d0240791-f8ac-419c-81b8-699e18249ba7",
   "metadata": {},
   "outputs": [
    {
     "data": {
      "text/plain": [
       "<re.Match object; span=(0, 13), match='abbbbbbbbbbbc'>"
      ]
     },
     "execution_count": 14,
     "metadata": {},
     "output_type": "execute_result"
    }
   ],
   "source": [
    "r.search(\"abbbbbbbbbbbc\")"
   ]
  },
  {
   "cell_type": "markdown",
   "id": "b7ea9e46-2205-4393-8c85-116c88473981",
   "metadata": {},
   "source": [
    "#### \\+ 기호"
   ]
  },
  {
   "cell_type": "code",
   "execution_count": 15,
   "id": "d4119582-d383-41c9-9895-351125c913f7",
   "metadata": {},
   "outputs": [],
   "source": [
    "r = re.compile(\"ab+c\")"
   ]
  },
  {
   "cell_type": "code",
   "execution_count": 16,
   "id": "569a274d-3377-4fed-9a4b-87a87d9dfdde",
   "metadata": {},
   "outputs": [],
   "source": [
    "r.search(\"ac\")"
   ]
  },
  {
   "cell_type": "code",
   "execution_count": 17,
   "id": "f3c0312c-729f-46b7-870a-7a33a1744b89",
   "metadata": {},
   "outputs": [
    {
     "data": {
      "text/plain": [
       "<re.Match object; span=(0, 3), match='abc'>"
      ]
     },
     "execution_count": 17,
     "metadata": {},
     "output_type": "execute_result"
    }
   ],
   "source": [
    "r.search(\"abc\")"
   ]
  },
  {
   "cell_type": "code",
   "execution_count": 18,
   "id": "49e70a48-e72a-4d9f-bc29-33481205d407",
   "metadata": {},
   "outputs": [
    {
     "data": {
      "text/plain": [
       "<re.Match object; span=(0, 7), match='abbbbbc'>"
      ]
     },
     "execution_count": 18,
     "metadata": {},
     "output_type": "execute_result"
    }
   ],
   "source": [
    "r.search(\"abbbbbc\")"
   ]
  },
  {
   "cell_type": "markdown",
   "id": "30d7a2c8-af9c-48de-acf3-9fd22dc2638d",
   "metadata": {},
   "source": [
    "#### ^ 기호"
   ]
  },
  {
   "cell_type": "code",
   "execution_count": 19,
   "id": "4b2562ed-c577-461a-87d6-d24636de0583",
   "metadata": {},
   "outputs": [],
   "source": [
    "r = re.compile(\"^ab\")"
   ]
  },
  {
   "cell_type": "code",
   "execution_count": 20,
   "id": "1fc81363-e21c-431a-8836-e8fb0098988d",
   "metadata": {},
   "outputs": [],
   "source": [
    "r.search(\"bbc\")"
   ]
  },
  {
   "cell_type": "code",
   "execution_count": 21,
   "id": "1fec8e23-fd53-4e4b-a408-17064ca9acc7",
   "metadata": {},
   "outputs": [],
   "source": [
    "r.search(\"zab\")"
   ]
  },
  {
   "cell_type": "code",
   "execution_count": 22,
   "id": "13612b4f-d0db-4f59-8e49-58caae1e7310",
   "metadata": {},
   "outputs": [
    {
     "data": {
      "text/plain": [
       "<re.Match object; span=(0, 2), match='ab'>"
      ]
     },
     "execution_count": 22,
     "metadata": {},
     "output_type": "execute_result"
    }
   ],
   "source": [
    "r.search(\"ab\")"
   ]
  },
  {
   "cell_type": "code",
   "execution_count": 23,
   "id": "b2da0640-7bb6-4039-b83b-90a6ba41020b",
   "metadata": {},
   "outputs": [
    {
     "data": {
      "text/plain": [
       "<re.Match object; span=(0, 2), match='ab'>"
      ]
     },
     "execution_count": 23,
     "metadata": {},
     "output_type": "execute_result"
    }
   ],
   "source": [
    "r.search(\"abasdjiqdwiedojq\")"
   ]
  },
  {
   "cell_type": "markdown",
   "id": "13d26821-10a0-4529-bfd9-554695c031cd",
   "metadata": {},
   "source": [
    "#### {숫자} 기호"
   ]
  },
  {
   "cell_type": "code",
   "execution_count": 24,
   "id": "57db966a-004e-42b1-a599-01a0538f54f0",
   "metadata": {},
   "outputs": [],
   "source": [
    "r = re.compile(\"ab{2}c\")"
   ]
  },
  {
   "cell_type": "code",
   "execution_count": 25,
   "id": "e691d26b-0e98-4c80-ac65-da9034209bc2",
   "metadata": {},
   "outputs": [],
   "source": [
    "r.search(\"ac\")"
   ]
  },
  {
   "cell_type": "code",
   "execution_count": 26,
   "id": "23d38e7f-18c9-492e-9475-a77d42f6e41e",
   "metadata": {},
   "outputs": [],
   "source": [
    "r.search(\"abc\")"
   ]
  },
  {
   "cell_type": "code",
   "execution_count": 27,
   "id": "b3d5fbea-ffb0-40ca-ac6e-7bc4f3d24562",
   "metadata": {},
   "outputs": [
    {
     "data": {
      "text/plain": [
       "<re.Match object; span=(0, 4), match='abbc'>"
      ]
     },
     "execution_count": 27,
     "metadata": {},
     "output_type": "execute_result"
    }
   ],
   "source": [
    "r.search(\"abbc\")"
   ]
  },
  {
   "cell_type": "code",
   "execution_count": 28,
   "id": "6e348dbc-339e-41c7-9a1a-f75e5f72d671",
   "metadata": {},
   "outputs": [],
   "source": [
    "r.search(\"abbbc\")"
   ]
  },
  {
   "cell_type": "markdown",
   "id": "7a918a6a-0760-4d3a-aaef-6b6d2eb87af6",
   "metadata": {},
   "source": [
    "#### {숫자1, 숫자2} 기호"
   ]
  },
  {
   "cell_type": "code",
   "execution_count": 29,
   "id": "e61c4009-2dca-4f55-82e3-a3cdc27383f0",
   "metadata": {},
   "outputs": [],
   "source": [
    "r = re.compile(\"ab{2,8}c\")"
   ]
  },
  {
   "cell_type": "code",
   "execution_count": 30,
   "id": "38f578fd-69b0-4ea8-85af-628579fc67f6",
   "metadata": {},
   "outputs": [],
   "source": [
    "r.search(\"ac\")"
   ]
  },
  {
   "cell_type": "code",
   "execution_count": 31,
   "id": "efe05485-98a3-47aa-8f83-6df61d81f4a7",
   "metadata": {},
   "outputs": [],
   "source": [
    "r.search(\"abc\")"
   ]
  },
  {
   "cell_type": "code",
   "execution_count": 32,
   "id": "3b403ee5-e3e9-43b0-8054-e4c402e08308",
   "metadata": {},
   "outputs": [],
   "source": [
    "r.search(\"abbbbbbbbbc\")"
   ]
  },
  {
   "cell_type": "code",
   "execution_count": 33,
   "id": "6418f4a7-cf53-4077-af11-97e0fa6901c1",
   "metadata": {},
   "outputs": [
    {
     "data": {
      "text/plain": [
       "<re.Match object; span=(0, 5), match='abbbc'>"
      ]
     },
     "execution_count": 33,
     "metadata": {},
     "output_type": "execute_result"
    }
   ],
   "source": [
    "r.search(\"abbbc\")"
   ]
  },
  {
   "cell_type": "code",
   "execution_count": 34,
   "id": "9dc60b87-a7b4-45d2-b067-c544257ecf8c",
   "metadata": {},
   "outputs": [
    {
     "data": {
      "text/plain": [
       "<re.Match object; span=(0, 8), match='abbbbbbc'>"
      ]
     },
     "execution_count": 34,
     "metadata": {},
     "output_type": "execute_result"
    }
   ],
   "source": [
    "r.search(\"abbbbbbc\")"
   ]
  },
  {
   "cell_type": "markdown",
   "id": "7d3834c3-4a2d-4982-967d-ae17a328c819",
   "metadata": {},
   "source": [
    "#### {숫자,} 기호"
   ]
  },
  {
   "cell_type": "code",
   "execution_count": 35,
   "id": "41255806-10c9-4d55-8516-6fe8367aa278",
   "metadata": {},
   "outputs": [],
   "source": [
    "r = re.compile(\"a{2,}bc\")"
   ]
  },
  {
   "cell_type": "code",
   "execution_count": 37,
   "id": "7bc4be59-8fef-4ee2-81da-548d38305ae7",
   "metadata": {},
   "outputs": [],
   "source": [
    "r.search(\"bc\")"
   ]
  },
  {
   "cell_type": "code",
   "execution_count": 38,
   "id": "53a2ce9c-5598-4c14-a0ea-8823f9822c50",
   "metadata": {},
   "outputs": [],
   "source": [
    "r.search(\"aa\")"
   ]
  },
  {
   "cell_type": "code",
   "execution_count": 39,
   "id": "67cb5702-26f1-4a31-9a7d-6e6f50e7d94a",
   "metadata": {},
   "outputs": [
    {
     "data": {
      "text/plain": [
       "<re.Match object; span=(0, 4), match='aabc'>"
      ]
     },
     "execution_count": 39,
     "metadata": {},
     "output_type": "execute_result"
    }
   ],
   "source": [
    "r.search(\"aabc\")"
   ]
  },
  {
   "cell_type": "markdown",
   "id": "11f875cd-4c82-4a5f-8b54-aeef8eb66830",
   "metadata": {},
   "source": [
    "#### [   ] 기호"
   ]
  },
  {
   "cell_type": "code",
   "execution_count": 40,
   "id": "c8a0a746-7f7f-4f11-b217-53ca91bf246c",
   "metadata": {},
   "outputs": [],
   "source": [
    "r = re.compile(\"[abc]\")"
   ]
  },
  {
   "cell_type": "code",
   "execution_count": 41,
   "id": "43fe444b-d3f6-4be0-a38d-7c390b7223ff",
   "metadata": {},
   "outputs": [],
   "source": [
    "r.search(\"zzz\")"
   ]
  },
  {
   "cell_type": "code",
   "execution_count": 42,
   "id": "bf9b7505-3c14-43e1-a375-afa8f690d4cc",
   "metadata": {},
   "outputs": [
    {
     "data": {
      "text/plain": [
       "<re.Match object; span=(0, 1), match='a'>"
      ]
     },
     "execution_count": 42,
     "metadata": {},
     "output_type": "execute_result"
    }
   ],
   "source": [
    "r.search(\"a\")"
   ]
  },
  {
   "cell_type": "code",
   "execution_count": 43,
   "id": "5c040bea-d8dc-4294-a045-c051b3601663",
   "metadata": {},
   "outputs": [
    {
     "data": {
      "text/plain": [
       "<re.Match object; span=(0, 1), match='a'>"
      ]
     },
     "execution_count": 43,
     "metadata": {},
     "output_type": "execute_result"
    }
   ],
   "source": [
    "r.search(\"aaaaaaa\")"
   ]
  },
  {
   "cell_type": "code",
   "execution_count": 45,
   "id": "dfb95343-7cf9-4fa1-ad3e-5d45c45de314",
   "metadata": {},
   "outputs": [
    {
     "data": {
      "text/plain": [
       "<re.Match object; span=(0, 1), match='b'>"
      ]
     },
     "execution_count": 45,
     "metadata": {},
     "output_type": "execute_result"
    }
   ],
   "source": [
    "r.search(\"baac\")"
   ]
  },
  {
   "cell_type": "code",
   "execution_count": 46,
   "id": "3a0aba6d-bb16-46e9-96c8-42e27252c492",
   "metadata": {},
   "outputs": [],
   "source": [
    "r = re.compile(\"[a-z]\")"
   ]
  },
  {
   "cell_type": "code",
   "execution_count": 47,
   "id": "ac8ca496-c56b-45ce-aa69-2052ccd7beac",
   "metadata": {},
   "outputs": [],
   "source": [
    "r.search(\"AAA\")"
   ]
  },
  {
   "cell_type": "code",
   "execution_count": 48,
   "id": "0951261f-3f64-4568-9d31-0c1dd218aa8b",
   "metadata": {},
   "outputs": [],
   "source": [
    "r.search(\"111\")"
   ]
  },
  {
   "cell_type": "code",
   "execution_count": 49,
   "id": "31b02fb3-a1a5-452e-b1f3-2aac5171e1b0",
   "metadata": {},
   "outputs": [
    {
     "data": {
      "text/plain": [
       "<re.Match object; span=(0, 1), match='a'>"
      ]
     },
     "execution_count": 49,
     "metadata": {},
     "output_type": "execute_result"
    }
   ],
   "source": [
    "r.search(\"aBC\")"
   ]
  },
  {
   "cell_type": "markdown",
   "id": "d2b4dffb-a7fe-4022-a512-9caa5ab92c3c",
   "metadata": {},
   "source": [
    "#### \\[^문자\\] 기호"
   ]
  },
  {
   "cell_type": "code",
   "execution_count": 50,
   "id": "2a002e02-f751-41e0-9370-feb28ee6fffb",
   "metadata": {},
   "outputs": [],
   "source": [
    "r = re.compile(\"[^abc]\")"
   ]
  },
  {
   "cell_type": "code",
   "execution_count": 51,
   "id": "74b458ce-1d91-476c-b203-dc486e353d92",
   "metadata": {},
   "outputs": [],
   "source": [
    "r.search(\"a\")"
   ]
  },
  {
   "cell_type": "code",
   "execution_count": 52,
   "id": "7ab4a682-1fbe-4227-8586-c646a3ca1e52",
   "metadata": {},
   "outputs": [],
   "source": [
    "r.search(\"ab\")"
   ]
  },
  {
   "cell_type": "code",
   "execution_count": 53,
   "id": "0be96794-89d1-483e-9207-68c9f35cade5",
   "metadata": {},
   "outputs": [
    {
     "data": {
      "text/plain": [
       "<re.Match object; span=(0, 1), match='d'>"
      ]
     },
     "execution_count": 53,
     "metadata": {},
     "output_type": "execute_result"
    }
   ],
   "source": [
    "r.search(\"d\")"
   ]
  },
  {
   "cell_type": "code",
   "execution_count": 54,
   "id": "b95090f6-6915-4400-93a0-685300f58b02",
   "metadata": {},
   "outputs": [
    {
     "data": {
      "text/plain": [
       "<re.Match object; span=(2, 3), match='1'>"
      ]
     },
     "execution_count": 54,
     "metadata": {},
     "output_type": "execute_result"
    }
   ],
   "source": [
    "r.search(\"ab1\")"
   ]
  },
  {
   "cell_type": "markdown",
   "id": "0284a21e-fc56-4e8a-8659-e57cfef51d52",
   "metadata": {},
   "source": [
    "# 모듈 함수 예제"
   ]
  },
  {
   "cell_type": "markdown",
   "id": "1a2ca66a-ee23-467f-a96d-ab78e73ec0d9",
   "metadata": {},
   "source": [
    "#### re.match()와 re.search()의 차이"
   ]
  },
  {
   "cell_type": "code",
   "execution_count": 55,
   "id": "ebfffbda-48a9-4ab5-9459-dd9d45c72d31",
   "metadata": {},
   "outputs": [],
   "source": [
    "r = re.compile(\"ab.\")"
   ]
  },
  {
   "cell_type": "code",
   "execution_count": 56,
   "id": "e9ad8ae0-a0de-45aa-82f8-55a902b76901",
   "metadata": {},
   "outputs": [],
   "source": [
    "r.match(\"kkkabc\")"
   ]
  },
  {
   "cell_type": "code",
   "execution_count": 57,
   "id": "61b6104b-6cee-484d-b566-42e9775a44a2",
   "metadata": {},
   "outputs": [
    {
     "data": {
      "text/plain": [
       "<re.Match object; span=(3, 6), match='abc'>"
      ]
     },
     "execution_count": 57,
     "metadata": {},
     "output_type": "execute_result"
    }
   ],
   "source": [
    "r.search(\"kkkabc\")"
   ]
  },
  {
   "cell_type": "markdown",
   "id": "9ca6919f-b7d6-45da-96e5-f5b25f59e34f",
   "metadata": {},
   "source": [
    "match는 문자열의 첫 부분부터 매치하는지 확인. search는 정규 표현식 전체에 대해 문자열 매치하는지 확인."
   ]
  },
  {
   "cell_type": "markdown",
   "id": "b8ec0291-c3f3-4e6b-8572-2818a871c262",
   "metadata": {},
   "source": [
    "#### re.split()"
   ]
  },
  {
   "cell_type": "code",
   "execution_count": 58,
   "id": "043eea4f-a8b4-458f-b69d-1f3cb780ddff",
   "metadata": {},
   "outputs": [
    {
     "data": {
      "text/plain": [
       "['사과', '딸기', '수박', '메론', '바나나']"
      ]
     },
     "execution_count": 58,
     "metadata": {},
     "output_type": "execute_result"
    }
   ],
   "source": [
    "text = \"사과 딸기 수박 메론 바나나\"\n",
    "re.split(\" \", text)"
   ]
  },
  {
   "cell_type": "markdown",
   "id": "4bc7afdf-2c27-4997-8307-ec89ad0267a2",
   "metadata": {},
   "source": [
    "split() 함수는 입력된 정규 표현식 기준 문자열 분리해 리스트로 리턴"
   ]
  },
  {
   "cell_type": "markdown",
   "id": "cddfca96-1aa3-4d2c-a184-d33faec50eca",
   "metadata": {},
   "source": [
    "#### re.findall()"
   ]
  },
  {
   "cell_type": "code",
   "execution_count": 59,
   "id": "6457d95e-f578-4dba-841b-4204a022d640",
   "metadata": {},
   "outputs": [
    {
     "data": {
      "text/plain": [
       "['010', '1234', '1234', '30']"
      ]
     },
     "execution_count": 59,
     "metadata": {},
     "output_type": "execute_result"
    }
   ],
   "source": [
    "text = \"\"\"이름 : 김철수\n",
    "전화번호 : 010 - 1234 - 1234\n",
    "나이 : 30\n",
    "성별 : 남\"\"\"\n",
    "\n",
    "re.findall(\"\\d+\", text)"
   ]
  },
  {
   "cell_type": "code",
   "execution_count": 60,
   "id": "15fe0230-75cd-4875-b623-d5bbda7fdc4a",
   "metadata": {},
   "outputs": [
    {
     "data": {
      "text/plain": [
       "[]"
      ]
     },
     "execution_count": 60,
     "metadata": {},
     "output_type": "execute_result"
    }
   ],
   "source": [
    "re.findall(\"\\d+\", \"숫자가 없는 문자열\")"
   ]
  },
  {
   "cell_type": "markdown",
   "id": "a2227578-ee8b-40b5-bcc1-d8d225a8877b",
   "metadata": {},
   "source": [
    "#### re.sub()"
   ]
  },
  {
   "cell_type": "markdown",
   "id": "7caec3c0-6c92-4f0f-8546-f4005f88a5ad",
   "metadata": {},
   "source": [
    "sub()는 아래와 같은 정제 작업에 많이 사용된다."
   ]
  },
  {
   "cell_type": "code",
   "execution_count": 61,
   "id": "ff524a7c-dbf7-47c4-a45a-38e367710f6d",
   "metadata": {},
   "outputs": [
    {
     "data": {
      "text/plain": [
       "'Regular expression   A regular expression  regex or regexp     sometimes called a rational expression        is  in theoretical computer science and formal language theory  a sequence of characters that define a search pattern '"
      ]
     },
     "execution_count": 61,
     "metadata": {},
     "output_type": "execute_result"
    }
   ],
   "source": [
    "text = (\n",
    "    \"Regular expression : A regular expression, regex or regexp[1] (sometimes\"\n",
    "    \" called a rational expression)[2][3] is, in theoretical computer science and\"\n",
    "    \" formal language theory, a sequence of characters that define a search pattern.\"\n",
    ")\n",
    "\n",
    "re.sub(\"[^a-zA-Z]\", \" \", text)"
   ]
  },
  {
   "cell_type": "markdown",
   "id": "d90f9f52-d234-4f25-ac39-169892939d07",
   "metadata": {},
   "source": [
    "# 정규 표현식 텍스트 전처리 예제"
   ]
  },
  {
   "cell_type": "code",
   "execution_count": 62,
   "id": "c6b13450-af2a-409d-a8ba-2e56a7bc2a1e",
   "metadata": {},
   "outputs": [],
   "source": [
    "text = \"\"\"100 John PROF\n",
    "101 James STUD\n",
    "102 Mac STUD\"\"\""
   ]
  },
  {
   "cell_type": "markdown",
   "id": "69290103-32d2-4b7a-90e0-f29f74fe35c3",
   "metadata": {},
   "source": [
    "공백 기준으로 값을 분리"
   ]
  },
  {
   "cell_type": "code",
   "execution_count": 63,
   "id": "496a3476-d4b7-4e56-81b3-d08a46d46efa",
   "metadata": {},
   "outputs": [
    {
     "data": {
      "text/plain": [
       "['100', 'John', 'PROF', '101', 'James', 'STUD', '102', 'Mac', 'STUD']"
      ]
     },
     "execution_count": 63,
     "metadata": {},
     "output_type": "execute_result"
    }
   ],
   "source": [
    "re.split(\"\\s+\", text)"
   ]
  },
  {
   "cell_type": "markdown",
   "id": "e01eafe5-4084-4d53-839f-ceeaf9a0403c",
   "metadata": {},
   "source": [
    "숫자에 해당하는 값을 찾기"
   ]
  },
  {
   "cell_type": "code",
   "execution_count": 64,
   "id": "0a4c8e1b-61af-49f9-b7cc-f3775ae0a945",
   "metadata": {},
   "outputs": [
    {
     "data": {
      "text/plain": [
       "['100', '101', '102']"
      ]
     },
     "execution_count": 64,
     "metadata": {},
     "output_type": "execute_result"
    }
   ],
   "source": [
    "re.findall(\"\\d+\", text)"
   ]
  },
  {
   "cell_type": "markdown",
   "id": "c2ca96ef-3cf1-48dc-a732-a177b9286847",
   "metadata": {},
   "source": [
    "대문자가 연속 네번 등장"
   ]
  },
  {
   "cell_type": "code",
   "execution_count": 65,
   "id": "bb5110a0-2ada-4b6e-9be8-e8b52c3ea314",
   "metadata": {},
   "outputs": [
    {
     "data": {
      "text/plain": [
       "['PROF', 'STUD', 'STUD']"
      ]
     },
     "execution_count": 65,
     "metadata": {},
     "output_type": "execute_result"
    }
   ],
   "source": [
    "re.findall(\"[A-Z]{4}\", text)"
   ]
  },
  {
   "cell_type": "markdown",
   "id": "4b21169f-4b8a-473c-9243-9ed892757f29",
   "metadata": {},
   "source": [
    "이름에 대한 행의 값"
   ]
  },
  {
   "cell_type": "code",
   "execution_count": 66,
   "id": "43a34c5c-92c1-4a54-bb93-b4effb59067f",
   "metadata": {},
   "outputs": [
    {
     "data": {
      "text/plain": [
       "['John', 'James', 'Mac']"
      ]
     },
     "execution_count": 66,
     "metadata": {},
     "output_type": "execute_result"
    }
   ],
   "source": [
    "re.findall(\"[A-Z][a-z]+\", text)"
   ]
  },
  {
   "cell_type": "markdown",
   "id": "d38dcb04-8b5a-4c80-9c0b-cca668008214",
   "metadata": {},
   "source": [
    "# 정규 표현식을 이용한 토큰화"
   ]
  },
  {
   "cell_type": "code",
   "execution_count": 67,
   "id": "12d0080d-f4cd-4f68-901d-58f08df622bb",
   "metadata": {},
   "outputs": [],
   "source": [
    "from nltk.tokenize import RegexpTokenizer"
   ]
  },
  {
   "cell_type": "code",
   "execution_count": 68,
   "id": "1725f9f9-977e-416c-a94c-a6730e1a886b",
   "metadata": {},
   "outputs": [],
   "source": [
    "text = (\n",
    "    \"Don't be fooled by the dark sounding name, Mr. Jone's Orphanage is as\"\n",
    "    \" cheery as cheery goes for a pastry shop\"\n",
    ")"
   ]
  },
  {
   "cell_type": "markdown",
   "id": "a59ed68a-2411-4f34-8976-cff32f33aee9",
   "metadata": {},
   "source": [
    "tokenizer1은 문자 또는 숫자가 한개 이상인 경우를 기준으로 토큰화한다.\n",
    "\n",
    "tokenizer2는 공백을 기준으로 토큰화한다. gaps=True는 해당 정규 표현식을 토큰으로 나누기 위한 기준으로 사용한다는 의미이다."
   ]
  },
  {
   "cell_type": "code",
   "execution_count": 69,
   "id": "bf38ca05-cf64-4298-a139-56991cb6a62d",
   "metadata": {},
   "outputs": [
    {
     "data": {
      "text/plain": [
       "['Don',\n",
       " 't',\n",
       " 'be',\n",
       " 'fooled',\n",
       " 'by',\n",
       " 'the',\n",
       " 'dark',\n",
       " 'sounding',\n",
       " 'name',\n",
       " 'Mr',\n",
       " 'Jone',\n",
       " 's',\n",
       " 'Orphanage',\n",
       " 'is',\n",
       " 'as',\n",
       " 'cheery',\n",
       " 'as',\n",
       " 'cheery',\n",
       " 'goes',\n",
       " 'for',\n",
       " 'a',\n",
       " 'pastry',\n",
       " 'shop']"
      ]
     },
     "execution_count": 69,
     "metadata": {},
     "output_type": "execute_result"
    }
   ],
   "source": [
    "tokenizer1 = RegexpTokenizer(\"[\\w]+\")\n",
    "tokenizer1.tokenize(text)"
   ]
  },
  {
   "cell_type": "code",
   "execution_count": 70,
   "id": "e973e6f5-f86e-4eed-a301-76d075b84a21",
   "metadata": {},
   "outputs": [
    {
     "data": {
      "text/plain": [
       "[\"Don't\",\n",
       " 'be',\n",
       " 'fooled',\n",
       " 'by',\n",
       " 'the',\n",
       " 'dark',\n",
       " 'sounding',\n",
       " 'name,',\n",
       " 'Mr.',\n",
       " \"Jone's\",\n",
       " 'Orphanage',\n",
       " 'is',\n",
       " 'as',\n",
       " 'cheery',\n",
       " 'as',\n",
       " 'cheery',\n",
       " 'goes',\n",
       " 'for',\n",
       " 'a',\n",
       " 'pastry',\n",
       " 'shop']"
      ]
     },
     "execution_count": 70,
     "metadata": {},
     "output_type": "execute_result"
    }
   ],
   "source": [
    "tokenizer2 = RegexpTokenizer(\"\\s+\", gaps=True)\n",
    "tokenizer2.tokenize(text)"
   ]
  }
 ],
 "metadata": {
  "kernelspec": {
   "display_name": "Python 3 (ipykernel)",
   "language": "python",
   "name": "python3"
  },
  "language_info": {
   "codemirror_mode": {
    "name": "ipython",
    "version": 3
   },
   "file_extension": ".py",
   "mimetype": "text/x-python",
   "name": "python",
   "nbconvert_exporter": "python",
   "pygments_lexer": "ipython3",
   "version": "3.9.21"
  }
 },
 "nbformat": 4,
 "nbformat_minor": 5
}
