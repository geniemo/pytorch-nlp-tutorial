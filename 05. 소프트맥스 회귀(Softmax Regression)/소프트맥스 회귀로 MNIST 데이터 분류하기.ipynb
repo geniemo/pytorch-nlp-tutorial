{
 "cells": [
  {
   "cell_type": "code",
   "execution_count": 1,
   "id": "478793d5-d114-4eaf-b77f-9cb83bc6a24f",
   "metadata": {},
   "outputs": [],
   "source": [
    "import random\n",
    "\n",
    "import matplotlib.pyplot as plt\n",
    "import torch\n",
    "import torch.nn as nn\n",
    "import torchvision.datasets as dsets\n",
    "import torchvision.transforms as transforms\n",
    "from torch.utils.data import DataLoader"
   ]
  },
  {
   "cell_type": "code",
   "execution_count": 2,
   "id": "24b62655-5882-42e0-8ff0-de117e501755",
   "metadata": {},
   "outputs": [
    {
     "data": {
      "text/plain": [
       "'cuda'"
      ]
     },
     "execution_count": 2,
     "metadata": {},
     "output_type": "execute_result"
    }
   ],
   "source": [
    "device = \"cuda\" if torch.cuda.is_available() else \"cpu\"\n",
    "device"
   ]
  },
  {
   "cell_type": "code",
   "execution_count": 3,
   "id": "664c6375-f07e-4249-8d9f-8e41f36b1e9a",
   "metadata": {},
   "outputs": [],
   "source": [
    "random.seed(777)\n",
    "torch.manual_seed(777)\n",
    "if device == \"cuda\":\n",
    "    torch.cuda.manual_seed_all(777)"
   ]
  },
  {
   "cell_type": "code",
   "execution_count": 4,
   "id": "b2c8a1b4-ea0c-40e7-943e-e71821b0b7d1",
   "metadata": {},
   "outputs": [],
   "source": [
    "training_epochs = 15\n",
    "batch_size = 100"
   ]
  },
  {
   "cell_type": "code",
   "execution_count": 7,
   "id": "0aeb1bc1-6364-4812-a9ef-567bd227e9e1",
   "metadata": {},
   "outputs": [],
   "source": [
    "mnist_train = dsets.MNIST(\n",
    "    root=\"../input\", train=True, transform=transforms.ToTensor(), download=True\n",
    ")\n",
    "mnist_test = dsets.MNIST(\n",
    "    root=\"../input\", train=False, transform=transforms.ToTensor(), download=True\n",
    ")"
   ]
  },
  {
   "cell_type": "markdown",
   "id": "58a3b7ca-4bea-44bb-a7de-133f5d951536",
   "metadata": {},
   "source": [
    "drop_last를 하는 이유를 이해하기 위해 1000개의 데이터가 있을 때 배치 크기가 128이라고 해보자. 이렇게 하면 마지막 배치 크기는 104이다. 이 배치를 그냥 사용 시에 다른 미니배치보다 개수가 적은 마지막 미니배치가 상대적으로 과대평가될 수 있다."
   ]
  },
  {
   "cell_type": "code",
   "execution_count": 8,
   "id": "8747aadc-6729-4701-a9b4-64629294d37e",
   "metadata": {},
   "outputs": [],
   "source": [
    "data_loader = DataLoader(\n",
    "    dataset=mnist_train, batch_size=batch_size, shuffle=True, drop_last=True\n",
    ")"
   ]
  },
  {
   "cell_type": "code",
   "execution_count": 9,
   "id": "14bf7c26-7457-4d4e-9096-c7bbb959ead4",
   "metadata": {},
   "outputs": [],
   "source": [
    "linear = nn.Linear(784, 10).to(device)"
   ]
  },
  {
   "cell_type": "code",
   "execution_count": 10,
   "id": "c79c66a1-2ba9-40cb-b3f1-ccb8ee7b0052",
   "metadata": {},
   "outputs": [],
   "source": [
    "criterion = nn.CrossEntropyLoss().to(device)\n",
    "optimizer = torch.optim.SGD(linear.parameters(), lr=0.1)"
   ]
  },
  {
   "cell_type": "code",
   "execution_count": 12,
   "id": "e0191384-93bc-4b1a-98e1-29ffc97318da",
   "metadata": {},
   "outputs": [
    {
     "name": "stdout",
     "output_type": "stream",
     "text": [
      "Epoch: 0001 cost=0.535701573\n",
      "Epoch: 0002 cost=0.359403193\n",
      "Epoch: 0003 cost=0.331129968\n",
      "Epoch: 0004 cost=0.316610843\n",
      "Epoch: 0005 cost=0.307287753\n",
      "Epoch: 0006 cost=0.300151169\n",
      "Epoch: 0007 cost=0.295128852\n",
      "Epoch: 0008 cost=0.290526152\n",
      "Epoch: 0009 cost=0.287431419\n",
      "Epoch: 0010 cost=0.284428835\n",
      "Epoch: 0011 cost=0.281726122\n",
      "Epoch: 0012 cost=0.279582173\n",
      "Epoch: 0013 cost=0.277621865\n",
      "Epoch: 0014 cost=0.275999993\n",
      "Epoch: 0015 cost=0.274319857\n",
      "Learning finished\n"
     ]
    }
   ],
   "source": [
    "for epoch in range(training_epochs):\n",
    "    avg_cost = 0\n",
    "    total_batch = len(data_loader)\n",
    "\n",
    "    for X, y in data_loader:\n",
    "        X = X.view(-1, 28 * 28).to(device)\n",
    "        y = y.to(device)\n",
    "\n",
    "        hypothesis = linear(X)\n",
    "\n",
    "        optimizer.zero_grad()\n",
    "        cost = criterion(hypothesis, y)\n",
    "        cost.backward()\n",
    "        optimizer.step()\n",
    "\n",
    "        avg_cost += cost / total_batch\n",
    "\n",
    "    print(f\"Epoch: {epoch + 1:04d} cost={avg_cost:.9f}\")\n",
    "\n",
    "print(\"Learning finished\")"
   ]
  },
  {
   "cell_type": "code",
   "execution_count": 24,
   "id": "2aef83f8-2a40-454a-a5d7-963f05f3daf9",
   "metadata": {},
   "outputs": [
    {
     "name": "stdout",
     "output_type": "stream",
     "text": [
      "Accuracy: 0.8833000063896179\n",
      "Label: 8\n",
      "Prediction: 8\n"
     ]
    },
    {
     "data": {
      "image/png": "[encoded data removed]",
      "text/plain": [
       "<Figure size 640x480 with 1 Axes>"
      ]
     },
     "metadata": {},
     "output_type": "display_data"
    }
   ],
   "source": [
    "with torch.no_grad():\n",
    "    X_test = mnist_test.test_data.view(-1, 28 * 28).float().to(device)\n",
    "    y_test = mnist_test.test_labels.to(device)\n",
    "\n",
    "    pred = linear(X_test)\n",
    "    correct_pred = torch.argmax(pred, dim=1) == y_test\n",
    "    accuracy = correct_pred.float().mean()\n",
    "    print(f\"Accuracy: {accuracy.item()}\")\n",
    "\n",
    "    r = random.randint(0, len(mnist_test) - 1)\n",
    "    X_single_data = mnist_test.test_data[r : r + 1].view(-1, 28 * 28).float().to(device)\n",
    "    y_single_data = mnist_test.test_labels[r : r + 1].to(device)\n",
    "\n",
    "    print(f\"Label: {y_single_data.item()}\")\n",
    "    single_pred = linear(X_single_data)\n",
    "    print(f\"Prediction: {torch.argmax(single_pred, 1).item()}\")\n",
    "\n",
    "    plt.imshow(\n",
    "        mnist_test.test_data[r : r + 1].view(28, 28),\n",
    "        cmap=\"Greys\",\n",
    "        interpolation=\"nearest\",\n",
    "    )\n",
    "    plt.show()"
   ]
  }
 ],
 "metadata": {
  "kernelspec": {
   "display_name": "Python 3 (ipykernel)",
   "language": "python",
   "name": "python3"
  },
  "language_info": {
   "codemirror_mode": {
    "name": "ipython",
    "version": 3
   },
   "file_extension": ".py",
   "mimetype": "text/x-python",
   "name": "python",
   "nbconvert_exporter": "python",
   "pygments_lexer": "ipython3",
   "version": "3.9.21"
  }
 },
 "nbformat": 4,
 "nbformat_minor": 5
}
