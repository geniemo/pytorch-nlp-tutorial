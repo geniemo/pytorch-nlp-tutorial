{
 "cells": [
  {
   "cell_type": "code",
   "execution_count": 1,
   "id": "56a24977-e363-499a-a818-3ec736d1d66b",
   "metadata": {},
   "outputs": [],
   "source": [
    "import numpy as np"
   ]
  },
  {
   "cell_type": "code",
   "execution_count": 2,
   "id": "2a1014fe-c81b-4659-a969-ebc644c49c9d",
   "metadata": {},
   "outputs": [],
   "source": [
    "timesteps = 10  # 시점의 수, NLP에서는 보통 문장의 길이\n",
    "input_size = 4  # 입력의 차원, NLP에서는 보통 단어 벡터의 차원\n",
    "hidden_size = 8  # 은닉 상태의 크기, 메모리 셀의 용량\n",
    "\n",
    "inputs = np.random.random((timesteps, input_size))\n",
    "hidden_state_t = np.zeros((hidden_size,))  # 초기 은닉 상태는 0으로 초기화"
   ]
  },
  {
   "cell_type": "code",
   "execution_count": 3,
   "id": "406f637f-8d25-4276-a791-ebbdd981994c",
   "metadata": {},
   "outputs": [],
   "source": [
    "# (8, 4) 크기의 2D 텐서, 입력에 대한 가중치\n",
    "Wx = np.random.random((hidden_size, input_size))\n",
    "# (8, 8) 크기의 2D 텐서, 은닉 상태에 대한 가중치\n",
    "Wh = np.random.random((hidden_size, hidden_size))\n",
    "# (8,) 크기의 1D 텐서, 편향\n",
    "b = np.random.random((hidden_size,))"
   ]
  },
  {
   "cell_type": "markdown",
   "id": "88b67ffb-184b-4dd9-a531-bab7cc1947e8",
   "metadata": {},
   "source": [
    "이제 모든 시점의 은닉 상태를 출력해보자"
   ]
  },
  {
   "cell_type": "code",
   "execution_count": 4,
   "id": "7d21dba9-da7a-4ab9-a10b-bd7ee4031ca3",
   "metadata": {},
   "outputs": [
    {
     "name": "stdout",
     "output_type": "stream",
     "text": [
      "(1, 8)\n",
      "(2, 8)\n",
      "(3, 8)\n",
      "(4, 8)\n",
      "(5, 8)\n",
      "(6, 8)\n",
      "(7, 8)\n",
      "(8, 8)\n",
      "(9, 8)\n",
      "(10, 8)\n"
     ]
    }
   ],
   "source": [
    "total_hidden_states = []\n",
    "\n",
    "for input_t in inputs:\n",
    "    output_t = np.tanh(np.dot(Wx, input_t) + np.dot(Wh, hidden_state_t) + b)\n",
    "    total_hidden_states.append(list(output_t))\n",
    "    # 각 시점별 메모리 셀 출력 크기는 (timestep, output_dim)\n",
    "    print(np.shape(total_hidden_states))\n",
    "    hidden_state_t = output_t"
   ]
  },
  {
   "cell_type": "code",
   "execution_count": 10,
   "id": "6c03230a-a283-46e0-86a7-efab1a3a6272",
   "metadata": {},
   "outputs": [
    {
     "data": {
      "text/plain": [
       "array([[0.82216823, 0.91278995, 0.67657569, 0.76485028, 0.90176903,\n",
       "        0.95877298, 0.85255838, 0.60369261],\n",
       "       [0.99993652, 0.99998234, 0.99975613, 0.99969753, 0.99985141,\n",
       "        0.99999895, 0.99990175, 0.9999848 ],\n",
       "       [0.99998789, 0.99999787, 0.99996909, 0.99991629, 0.9999836 ,\n",
       "        0.99999994, 0.99998035, 0.99999874],\n",
       "       [0.99988853, 0.99998434, 0.99982333, 0.99949911, 0.9998061 ,\n",
       "        0.99999907, 0.99980763, 0.99999069],\n",
       "       [0.9999649 , 0.99999519, 0.99994367, 0.99987643, 0.99995166,\n",
       "        0.99999976, 0.99994944, 0.99999676],\n",
       "       [0.99977918, 0.99996718, 0.9998536 , 0.99943623, 0.99978491,\n",
       "        0.99999907, 0.99970738, 0.9999715 ],\n",
       "       [0.99995014, 0.99999559, 0.99992835, 0.99976995, 0.99996147,\n",
       "        0.99999981, 0.9999314 , 0.99999597],\n",
       "       [0.99994287, 0.99998709, 0.99983117, 0.99963125, 0.99978461,\n",
       "        0.99999906, 0.99987364, 0.99999534],\n",
       "       [0.9999442 , 0.99998487, 0.99986924, 0.99967346, 0.99981743,\n",
       "        0.9999993 , 0.99988453, 0.99999416],\n",
       "       [0.9999505 , 0.999982  , 0.99983994, 0.99968639, 0.99970476,\n",
       "        0.99999888, 0.99987982, 0.99999508]])"
      ]
     },
     "execution_count": 10,
     "metadata": {},
     "output_type": "execute_result"
    }
   ],
   "source": [
    "total_hidden_states = np.stack(total_hidden_states, axis=0)\n",
    "total_hidden_states"
   ]
  }
 ],
 "metadata": {
  "kernelspec": {
   "display_name": "Python 3 (ipykernel)",
   "language": "python",
   "name": "python3"
  },
  "language_info": {
   "codemirror_mode": {
    "name": "ipython",
    "version": 3
   },
   "file_extension": ".py",
   "mimetype": "text/x-python",
   "name": "python",
   "nbconvert_exporter": "python",
   "pygments_lexer": "ipython3",
   "version": "3.9.21"
  }
 },
 "nbformat": 4,
 "nbformat_minor": 5
}
