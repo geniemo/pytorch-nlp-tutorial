{
 "cells": [
  {
   "cell_type": "code",
   "execution_count": 1,
   "id": "570c7e73-735f-436b-a805-6860c554c6ed",
   "metadata": {},
   "outputs": [],
   "source": [
    "import torch\n",
    "import torch.nn as nn"
   ]
  },
  {
   "cell_type": "code",
   "execution_count": 2,
   "id": "5584cbec-3fbb-48b6-b4ab-bc93c0eb460c",
   "metadata": {},
   "outputs": [],
   "source": [
    "input_size = 5\n",
    "hidden_size = 8"
   ]
  },
  {
   "cell_type": "code",
   "execution_count": 4,
   "id": "22ab914c-d7da-4f7f-b3df-e8e814de9b30",
   "metadata": {},
   "outputs": [],
   "source": [
    "# (batch_size, time_steps, input_size)\n",
    "inputs = torch.Tensor(1, 10, input_size)"
   ]
  },
  {
   "cell_type": "code",
   "execution_count": 16,
   "id": "02632ddc-d71f-43de-a230-3bc1fdfca358",
   "metadata": {},
   "outputs": [],
   "source": [
    "cell = nn.RNN(input_size, hidden_size, batch_first=True)"
   ]
  },
  {
   "cell_type": "code",
   "execution_count": 8,
   "id": "9f8d90d1-786b-4e73-88e0-d917b8418d16",
   "metadata": {},
   "outputs": [
    {
     "data": {
      "text/plain": [
       "(torch.Size([1, 10, 8]), torch.Size([1, 1, 8]))"
      ]
     },
     "execution_count": 8,
     "metadata": {},
     "output_type": "execute_result"
    }
   ],
   "source": [
    "# 모든 시점의 은닉 상태, 마지막 시점의 은닉 상태\n",
    "outputs, _status = cell(inputs)\n",
    "outputs.shape, _status.shape"
   ]
  },
  {
   "cell_type": "markdown",
   "id": "460f5f54-b4f5-4220-8e0b-728df8f71616",
   "metadata": {},
   "source": [
    "아래는 깊은 RNN이다."
   ]
  },
  {
   "cell_type": "code",
   "execution_count": 10,
   "id": "faf53796-ef51-419f-8015-a83e1a6da307",
   "metadata": {},
   "outputs": [],
   "source": [
    "cell = nn.RNN(input_size, hidden_size, num_layers=2, batch_first=True)"
   ]
  },
  {
   "cell_type": "code",
   "execution_count": 11,
   "id": "3751884d-e056-4c35-97ee-2e2ca01ffa3c",
   "metadata": {},
   "outputs": [
    {
     "data": {
      "text/plain": [
       "(torch.Size([1, 10, 8]), torch.Size([2, 1, 8]))"
      ]
     },
     "execution_count": 11,
     "metadata": {},
     "output_type": "execute_result"
    }
   ],
   "source": [
    "outputs, _status = cell(inputs)\n",
    "outputs.shape, _status.shape"
   ]
  },
  {
   "cell_type": "markdown",
   "id": "78c66a9c-f5c1-462e-ae03-331a3f088ce9",
   "metadata": {},
   "source": [
    "아래는 양방향 순환 신경망이다."
   ]
  },
  {
   "cell_type": "code",
   "execution_count": 12,
   "id": "0bfc5255-4f0a-48f5-860b-e32f974eb234",
   "metadata": {},
   "outputs": [],
   "source": [
    "cell = nn.RNN(\n",
    "    input_size, hidden_size, num_layers=2, batch_first=True, bidirectional=True\n",
    ")"
   ]
  },
  {
   "cell_type": "code",
   "execution_count": 13,
   "id": "a5797b42-c4c5-471b-8f96-a7909e510ee0",
   "metadata": {},
   "outputs": [
    {
     "data": {
      "text/plain": [
       "(torch.Size([1, 10, 16]), torch.Size([4, 1, 8]))"
      ]
     },
     "execution_count": 13,
     "metadata": {},
     "output_type": "execute_result"
    }
   ],
   "source": [
    "outputs, _status = cell(inputs)\n",
    "outputs.shape, _status.shape"
   ]
  }
 ],
 "metadata": {
  "kernelspec": {
   "display_name": "Python 3 (ipykernel)",
   "language": "python",
   "name": "python3"
  },
  "language_info": {
   "codemirror_mode": {
    "name": "ipython",
    "version": 3
   },
   "file_extension": ".py",
   "mimetype": "text/x-python",
   "name": "python",
   "nbconvert_exporter": "python",
   "pygments_lexer": "ipython3",
   "version": "3.9.21"
  }
 },
 "nbformat": 4,
 "nbformat_minor": 5
}
