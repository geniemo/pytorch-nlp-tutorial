{
 "cells": [
  {
   "cell_type": "code",
   "execution_count": 1,
   "id": "6fbb8ef4-b88a-43d5-b213-8c0a99914adf",
   "metadata": {},
   "outputs": [],
   "source": [
    "import numpy as np\n",
    "import torch\n",
    "import torch.nn as nn\n",
    "import torch.optim as optim"
   ]
  },
  {
   "cell_type": "markdown",
   "id": "eadb7d6c-7fdb-400e-9dee-b39630f65436",
   "metadata": {},
   "source": [
    "apple을 입력받으면 pple!를 출력하는 RNN을 구현해볼 것이다. 어떤 의미가 있지는 않고, 그저 RNN의 동작을 이해하기 위함이다."
   ]
  },
  {
   "cell_type": "code",
   "execution_count": 3,
   "id": "8e186981-a6d0-495b-9675-ef0ee39c963a",
   "metadata": {},
   "outputs": [
    {
     "data": {
      "text/plain": [
       "(['!', 'a', 'e', 'l', 'p'], 5)"
      ]
     },
     "execution_count": 3,
     "metadata": {},
     "output_type": "execute_result"
    }
   ],
   "source": [
    "input_str = \"apple\"\n",
    "label_str = \"pple!\"\n",
    "char_vocab = sorted(list(set(input_str + label_str)))\n",
    "vocab_size = len(char_vocab)\n",
    "char_vocab, vocab_size"
   ]
  },
  {
   "cell_type": "markdown",
   "id": "2f10786a-1233-4ca6-9054-f7a21eab889d",
   "metadata": {},
   "source": [
    "입력은 원-핫 벡터를 사용할 것이므로 입력의 크기는 문자 집합의 크기여야 한다."
   ]
  },
  {
   "cell_type": "code",
   "execution_count": 4,
   "id": "3543d39d-e79f-44f5-b404-91e962cede63",
   "metadata": {},
   "outputs": [],
   "source": [
    "input_size = vocab_size\n",
    "hidden_size = 5\n",
    "output_size = 5\n",
    "lr = 0.1"
   ]
  },
  {
   "cell_type": "code",
   "execution_count": 9,
   "id": "58af56fa-728a-415a-8e47-f02e5edc33b2",
   "metadata": {},
   "outputs": [
    {
     "data": {
      "text/plain": [
       "{'!': 0, 'a': 1, 'e': 2, 'l': 3, 'p': 4}"
      ]
     },
     "execution_count": 9,
     "metadata": {},
     "output_type": "execute_result"
    }
   ],
   "source": [
    "char_to_index = {c: i for i, c in enumerate(char_vocab)}\n",
    "char_to_index"
   ]
  },
  {
   "cell_type": "markdown",
   "id": "954aaa99-8bf9-4ed2-8b0a-5745b18ef26a",
   "metadata": {},
   "source": [
    "나중에 예측 결과를 문자 시퀀스로 보기 위해 index_to_char도 만든다."
   ]
  },
  {
   "cell_type": "code",
   "execution_count": 26,
   "id": "71bca2f5-5567-479f-aacc-4a1a32fd1e7e",
   "metadata": {},
   "outputs": [
    {
     "data": {
      "text/plain": [
       "{0: '!', 1: 'a', 2: 'e', 3: 'l', 4: 'p'}"
      ]
     },
     "execution_count": 26,
     "metadata": {},
     "output_type": "execute_result"
    }
   ],
   "source": [
    "index_to_char = {v: k for k, v in char_to_index.items()}\n",
    "index_to_char"
   ]
  },
  {
   "cell_type": "code",
   "execution_count": 11,
   "id": "4ba9614e-711f-4e85-92ad-34775182d04c",
   "metadata": {},
   "outputs": [],
   "source": [
    "x_data = [char_to_index[c] for c in input_str]\n",
    "y_data = [char_to_index[c] for c in label_str]"
   ]
  },
  {
   "cell_type": "code",
   "execution_count": 12,
   "id": "7b2d26f4-ff0b-4931-b712-b398b1a1b292",
   "metadata": {},
   "outputs": [],
   "source": [
    "# 배치 차원 추가\n",
    "x_data = [x_data]\n",
    "y_data = [y_data]"
   ]
  },
  {
   "cell_type": "code",
   "execution_count": 20,
   "id": "cc8a3882-9613-4a46-a7f4-1db0e431006d",
   "metadata": {},
   "outputs": [
    {
     "data": {
      "text/plain": [
       "[array([[0., 1., 0., 0., 0.],\n",
       "        [0., 0., 0., 0., 1.],\n",
       "        [0., 0., 0., 0., 1.],\n",
       "        [0., 0., 0., 1., 0.],\n",
       "        [0., 0., 1., 0., 0.]])]"
      ]
     },
     "execution_count": 20,
     "metadata": {},
     "output_type": "execute_result"
    }
   ],
   "source": [
    "x_one_hot = [np.eye(vocab_size)[x] for x in x_data]\n",
    "x_one_hot"
   ]
  },
  {
   "cell_type": "code",
   "execution_count": 14,
   "id": "ad5fdf9e-048a-458f-8efe-43db4549df48",
   "metadata": {},
   "outputs": [
    {
     "name": "stderr",
     "output_type": "stream",
     "text": [
      "C:\\Users\\jiweo\\AppData\\Local\\Temp\\ipykernel_34804\\985899240.py:1: UserWarning: Creating a tensor from a list of numpy.ndarrays is extremely slow. Please consider converting the list to a single numpy.ndarray with numpy.array() before converting to a tensor. (Triggered internally at C:\\cb\\pytorch_1000000000000\\work\\torch\\csrc\\utils\\tensor_new.cpp:281.)\n",
      "  X = torch.FloatTensor(x_one_hot)\n"
     ]
    }
   ],
   "source": [
    "X = torch.FloatTensor(x_one_hot)\n",
    "y = torch.LongTensor(y_data)"
   ]
  },
  {
   "cell_type": "code",
   "execution_count": 15,
   "id": "ee44266d-6ce5-425d-8657-93451d526f4c",
   "metadata": {},
   "outputs": [
    {
     "name": "stdout",
     "output_type": "stream",
     "text": [
      "훈련 데이터의 크기: torch.Size([1, 5, 5])\n",
      "레이블의 크기: torch.Size([1, 5])\n"
     ]
    }
   ],
   "source": [
    "print(f\"훈련 데이터의 크기: {X.shape}\")  # (batch_size, sequence_length, input_size)\n",
    "print(f\"레이블의 크기: {y.shape}\")"
   ]
  },
  {
   "cell_type": "code",
   "execution_count": 16,
   "id": "8a1fd938-ab72-4b35-9a01-fcb9825ca52a",
   "metadata": {},
   "outputs": [],
   "source": [
    "class Net(nn.Module):\n",
    "    def __init__(self, input_size, hidden_size, output_size):\n",
    "        super().__init__()\n",
    "        self.rnn = nn.RNN(input_size, hidden_size, batch_first=True)\n",
    "        self.fc = nn.Linear(hidden_size, output_size, bias=True)\n",
    "\n",
    "    def forward(self, x):\n",
    "        x, _status = self.rnn(x)\n",
    "        x = self.fc(x)\n",
    "        return x"
   ]
  },
  {
   "cell_type": "code",
   "execution_count": 17,
   "id": "ba9e4569-7c59-4cfe-82cc-aa839e0c206e",
   "metadata": {},
   "outputs": [],
   "source": [
    "net = Net(input_size, hidden_size, output_size)"
   ]
  },
  {
   "cell_type": "code",
   "execution_count": 18,
   "id": "4b289129-934a-4921-a3ce-1f822b6cb9e7",
   "metadata": {},
   "outputs": [
    {
     "data": {
      "text/plain": [
       "torch.Size([1, 5, 5])"
      ]
     },
     "execution_count": 18,
     "metadata": {},
     "output_type": "execute_result"
    }
   ],
   "source": [
    "outputs = net(X)\n",
    "outputs.shape"
   ]
  },
  {
   "cell_type": "code",
   "execution_count": 22,
   "id": "3e0858e7-9524-42ea-ae3a-7844980b286c",
   "metadata": {},
   "outputs": [
    {
     "data": {
      "text/plain": [
       "(torch.Size([5, 5]), torch.Size([5]))"
      ]
     },
     "execution_count": 22,
     "metadata": {},
     "output_type": "execute_result"
    }
   ],
   "source": [
    "outputs.view(-1, input_size).shape, y.view(-1).shape"
   ]
  },
  {
   "cell_type": "code",
   "execution_count": 23,
   "id": "98624dd1-0a89-4d83-bc3f-7bcffe71672d",
   "metadata": {},
   "outputs": [],
   "source": [
    "criterion = nn.CrossEntropyLoss()\n",
    "optimizer = optim.Adam(net.parameters(), lr=lr)"
   ]
  },
  {
   "cell_type": "code",
   "execution_count": 27,
   "id": "a157161d-6a34-4505-88f6-1d09aa427e43",
   "metadata": {},
   "outputs": [
    {
     "name": "stdout",
     "output_type": "stream",
     "text": [
      "0 loss: 1.3604114055633545 prediction: [[4 4 4 4 4]] true Y: [[4, 4, 3, 2, 0]] prediction str: ppppp\n",
      "1 loss: 1.253530502319336 prediction: [[4 4 4 4 4]] true Y: [[4, 4, 3, 2, 0]] prediction str: ppppp\n",
      "2 loss: 1.0889469385147095 prediction: [[4 4 4 2 4]] true Y: [[4, 4, 3, 2, 0]] prediction str: pppep\n",
      "3 loss: 0.8855255246162415 prediction: [[4 4 3 2 4]] true Y: [[4, 4, 3, 2, 0]] prediction str: pplep\n",
      "4 loss: 0.7421501874923706 prediction: [[4 4 3 2 4]] true Y: [[4, 4, 3, 2, 0]] prediction str: pplep\n",
      "5 loss: 0.623257040977478 prediction: [[4 4 3 2 4]] true Y: [[4, 4, 3, 2, 0]] prediction str: pplep\n",
      "6 loss: 0.528544545173645 prediction: [[4 4 3 2 4]] true Y: [[4, 4, 3, 2, 0]] prediction str: pplep\n",
      "7 loss: 0.4619673788547516 prediction: [[4 4 3 2 4]] true Y: [[4, 4, 3, 2, 0]] prediction str: pplep\n",
      "8 loss: 0.4200817942619324 prediction: [[4 4 3 2 4]] true Y: [[4, 4, 3, 2, 0]] prediction str: pplep\n",
      "9 loss: 0.3903277814388275 prediction: [[0 4 3 2 0]] true Y: [[4, 4, 3, 2, 0]] prediction str: !ple!\n",
      "10 loss: 0.3631574213504791 prediction: [[0 4 3 2 0]] true Y: [[4, 4, 3, 2, 0]] prediction str: !ple!\n",
      "11 loss: 0.33467262983322144 prediction: [[0 4 3 2 0]] true Y: [[4, 4, 3, 2, 0]] prediction str: !ple!\n",
      "12 loss: 0.31052955985069275 prediction: [[0 4 3 2 0]] true Y: [[4, 4, 3, 2, 0]] prediction str: !ple!\n",
      "13 loss: 0.29361391067504883 prediction: [[4 4 3 2 0]] true Y: [[4, 4, 3, 2, 0]] prediction str: pple!\n",
      "14 loss: 0.28116756677627563 prediction: [[4 4 3 2 4]] true Y: [[4, 4, 3, 2, 0]] prediction str: pplep\n",
      "15 loss: 0.2668147087097168 prediction: [[4 4 3 2 4]] true Y: [[4, 4, 3, 2, 0]] prediction str: pplep\n",
      "16 loss: 0.2421122044324875 prediction: [[4 4 3 2 0]] true Y: [[4, 4, 3, 2, 0]] prediction str: pple!\n",
      "17 loss: 0.203850656747818 prediction: [[4 4 3 2 0]] true Y: [[4, 4, 3, 2, 0]] prediction str: pple!\n",
      "18 loss: 0.16634370386600494 prediction: [[4 4 3 2 0]] true Y: [[4, 4, 3, 2, 0]] prediction str: pple!\n",
      "19 loss: 0.13814911246299744 prediction: [[4 4 3 2 0]] true Y: [[4, 4, 3, 2, 0]] prediction str: pple!\n",
      "20 loss: 0.11347005516290665 prediction: [[4 4 3 2 0]] true Y: [[4, 4, 3, 2, 0]] prediction str: pple!\n",
      "21 loss: 0.09116312116384506 prediction: [[4 4 3 2 0]] true Y: [[4, 4, 3, 2, 0]] prediction str: pple!\n",
      "22 loss: 0.07280567288398743 prediction: [[4 4 3 2 0]] true Y: [[4, 4, 3, 2, 0]] prediction str: pple!\n",
      "23 loss: 0.058730363845825195 prediction: [[4 4 3 2 0]] true Y: [[4, 4, 3, 2, 0]] prediction str: pple!\n",
      "24 loss: 0.0480259545147419 prediction: [[4 4 3 2 0]] true Y: [[4, 4, 3, 2, 0]] prediction str: pple!\n",
      "25 loss: 0.03956262394785881 prediction: [[4 4 3 2 0]] true Y: [[4, 4, 3, 2, 0]] prediction str: pple!\n",
      "26 loss: 0.032558225095272064 prediction: [[4 4 3 2 0]] true Y: [[4, 4, 3, 2, 0]] prediction str: pple!\n",
      "27 loss: 0.02662607654929161 prediction: [[4 4 3 2 0]] true Y: [[4, 4, 3, 2, 0]] prediction str: pple!\n",
      "28 loss: 0.021613791584968567 prediction: [[4 4 3 2 0]] true Y: [[4, 4, 3, 2, 0]] prediction str: pple!\n",
      "29 loss: 0.017448948696255684 prediction: [[4 4 3 2 0]] true Y: [[4, 4, 3, 2, 0]] prediction str: pple!\n",
      "30 loss: 0.014058905653655529 prediction: [[4 4 3 2 0]] true Y: [[4, 4, 3, 2, 0]] prediction str: pple!\n",
      "31 loss: 0.01134987361729145 prediction: [[4 4 3 2 0]] true Y: [[4, 4, 3, 2, 0]] prediction str: pple!\n",
      "32 loss: 0.009215222671627998 prediction: [[4 4 3 2 0]] true Y: [[4, 4, 3, 2, 0]] prediction str: pple!\n",
      "33 loss: 0.007548717316240072 prediction: [[4 4 3 2 0]] true Y: [[4, 4, 3, 2, 0]] prediction str: pple!\n",
      "34 loss: 0.0062542082741856575 prediction: [[4 4 3 2 0]] true Y: [[4, 4, 3, 2, 0]] prediction str: pple!\n",
      "35 loss: 0.005250256508588791 prediction: [[4 4 3 2 0]] true Y: [[4, 4, 3, 2, 0]] prediction str: pple!\n",
      "36 loss: 0.0044705490581691265 prediction: [[4 4 3 2 0]] true Y: [[4, 4, 3, 2, 0]] prediction str: pple!\n",
      "37 loss: 0.0038627858739346266 prediction: [[4 4 3 2 0]] true Y: [[4, 4, 3, 2, 0]] prediction str: pple!\n",
      "38 loss: 0.0033865428995341063 prediction: [[4 4 3 2 0]] true Y: [[4, 4, 3, 2, 0]] prediction str: pple!\n",
      "39 loss: 0.0030108136124908924 prediction: [[4 4 3 2 0]] true Y: [[4, 4, 3, 2, 0]] prediction str: pple!\n",
      "40 loss: 0.002712177112698555 prediction: [[4 4 3 2 0]] true Y: [[4, 4, 3, 2, 0]] prediction str: pple!\n",
      "41 loss: 0.002472741063684225 prediction: [[4 4 3 2 0]] true Y: [[4, 4, 3, 2, 0]] prediction str: pple!\n",
      "42 loss: 0.0022792061790823936 prediction: [[4 4 3 2 0]] true Y: [[4, 4, 3, 2, 0]] prediction str: pple!\n",
      "43 loss: 0.0021212149877101183 prediction: [[4 4 3 2 0]] true Y: [[4, 4, 3, 2, 0]] prediction str: pple!\n",
      "44 loss: 0.001991232158616185 prediction: [[4 4 3 2 0]] true Y: [[4, 4, 3, 2, 0]] prediction str: pple!\n",
      "45 loss: 0.0018831765046343207 prediction: [[4 4 3 2 0]] true Y: [[4, 4, 3, 2, 0]] prediction str: pple!\n",
      "46 loss: 0.001792620518244803 prediction: [[4 4 3 2 0]] true Y: [[4, 4, 3, 2, 0]] prediction str: pple!\n",
      "47 loss: 0.0017160795396193862 prediction: [[4 4 3 2 0]] true Y: [[4, 4, 3, 2, 0]] prediction str: pple!\n",
      "48 loss: 0.0016507074469700456 prediction: [[4 4 3 2 0]] true Y: [[4, 4, 3, 2, 0]] prediction str: pple!\n",
      "49 loss: 0.0015943922335281968 prediction: [[4 4 3 2 0]] true Y: [[4, 4, 3, 2, 0]] prediction str: pple!\n",
      "50 loss: 0.0015454001259058714 prediction: [[4 4 3 2 0]] true Y: [[4, 4, 3, 2, 0]] prediction str: pple!\n",
      "51 loss: 0.0015024964231997728 prediction: [[4 4 3 2 0]] true Y: [[4, 4, 3, 2, 0]] prediction str: pple!\n",
      "52 loss: 0.0014644927578046918 prediction: [[4 4 3 2 0]] true Y: [[4, 4, 3, 2, 0]] prediction str: pple!\n",
      "53 loss: 0.0014305093791335821 prediction: [[4 4 3 2 0]] true Y: [[4, 4, 3, 2, 0]] prediction str: pple!\n",
      "54 loss: 0.0013998809736222029 prediction: [[4 4 3 2 0]] true Y: [[4, 4, 3, 2, 0]] prediction str: pple!\n",
      "55 loss: 0.0013720362912863493 prediction: [[4 4 3 2 0]] true Y: [[4, 4, 3, 2, 0]] prediction str: pple!\n",
      "56 loss: 0.0013464762596413493 prediction: [[4 4 3 2 0]] true Y: [[4, 4, 3, 2, 0]] prediction str: pple!\n",
      "57 loss: 0.0013227963354438543 prediction: [[4 4 3 2 0]] true Y: [[4, 4, 3, 2, 0]] prediction str: pple!\n",
      "58 loss: 0.0013006629887968302 prediction: [[4 4 3 2 0]] true Y: [[4, 4, 3, 2, 0]] prediction str: pple!\n",
      "59 loss: 0.0012798859970644116 prediction: [[4 4 3 2 0]] true Y: [[4, 4, 3, 2, 0]] prediction str: pple!\n",
      "60 loss: 0.0012601562775671482 prediction: [[4 4 3 2 0]] true Y: [[4, 4, 3, 2, 0]] prediction str: pple!\n",
      "61 loss: 0.0012413784861564636 prediction: [[4 4 3 2 0]] true Y: [[4, 4, 3, 2, 0]] prediction str: pple!\n",
      "62 loss: 0.0012233857996761799 prediction: [[4 4 3 2 0]] true Y: [[4, 4, 3, 2, 0]] prediction str: pple!\n",
      "63 loss: 0.0012060354929417372 prediction: [[4 4 3 2 0]] true Y: [[4, 4, 3, 2, 0]] prediction str: pple!\n",
      "64 loss: 0.0011893038172274828 prediction: [[4 4 3 2 0]] true Y: [[4, 4, 3, 2, 0]] prediction str: pple!\n",
      "65 loss: 0.0011730716796591878 prediction: [[4 4 3 2 0]] true Y: [[4, 4, 3, 2, 0]] prediction str: pple!\n",
      "66 loss: 0.0011572677176445723 prediction: [[4 4 3 2 0]] true Y: [[4, 4, 3, 2, 0]] prediction str: pple!\n",
      "67 loss: 0.0011419157963246107 prediction: [[4 4 3 2 0]] true Y: [[4, 4, 3, 2, 0]] prediction str: pple!\n",
      "68 loss: 0.001126920455135405 prediction: [[4 4 3 2 0]] true Y: [[4, 4, 3, 2, 0]] prediction str: pple!\n",
      "69 loss: 0.0011123295407742262 prediction: [[4 4 3 2 0]] true Y: [[4, 4, 3, 2, 0]] prediction str: pple!\n",
      "70 loss: 0.0010980716906487942 prediction: [[4 4 3 2 0]] true Y: [[4, 4, 3, 2, 0]] prediction str: pple!\n",
      "71 loss: 0.0010841942857950926 prediction: [[4 4 3 2 0]] true Y: [[4, 4, 3, 2, 0]] prediction str: pple!\n",
      "72 loss: 0.0010706259636208415 prediction: [[4 4 3 2 0]] true Y: [[4, 4, 3, 2, 0]] prediction str: pple!\n",
      "73 loss: 0.0010573194595053792 prediction: [[4 4 3 2 0]] true Y: [[4, 4, 3, 2, 0]] prediction str: pple!\n",
      "74 loss: 0.0010444171493873 prediction: [[4 4 3 2 0]] true Y: [[4, 4, 3, 2, 0]] prediction str: pple!\n",
      "75 loss: 0.0010317766573280096 prediction: [[4 4 3 2 0]] true Y: [[4, 4, 3, 2, 0]] prediction str: pple!\n",
      "76 loss: 0.0010195404756814241 prediction: [[4 4 3 2 0]] true Y: [[4, 4, 3, 2, 0]] prediction str: pple!\n",
      "77 loss: 0.0010075897444039583 prediction: [[4 4 3 2 0]] true Y: [[4, 4, 3, 2, 0]] prediction str: pple!\n",
      "78 loss: 0.0009959244634956121 prediction: [[4 4 3 2 0]] true Y: [[4, 4, 3, 2, 0]] prediction str: pple!\n",
      "79 loss: 0.0009846162283793092 prediction: [[4 4 3 2 0]] true Y: [[4, 4, 3, 2, 0]] prediction str: pple!\n",
      "80 loss: 0.0009735695202834904 prediction: [[4 4 3 2 0]] true Y: [[4, 4, 3, 2, 0]] prediction str: pple!\n",
      "81 loss: 0.0009628321859054267 prediction: [[4 4 3 2 0]] true Y: [[4, 4, 3, 2, 0]] prediction str: pple!\n",
      "82 loss: 0.0009523802436888218 prediction: [[4 4 3 2 0]] true Y: [[4, 4, 3, 2, 0]] prediction str: pple!\n",
      "83 loss: 0.0009422377916052938 prediction: [[4 4 3 2 0]] true Y: [[4, 4, 3, 2, 0]] prediction str: pple!\n",
      "84 loss: 0.0009323569247499108 prediction: [[4 4 3 2 0]] true Y: [[4, 4, 3, 2, 0]] prediction str: pple!\n",
      "85 loss: 0.0009227140690200031 prediction: [[4 4 3 2 0]] true Y: [[4, 4, 3, 2, 0]] prediction str: pple!\n",
      "86 loss: 0.0009133092244155705 prediction: [[4 4 3 2 0]] true Y: [[4, 4, 3, 2, 0]] prediction str: pple!\n",
      "87 loss: 0.0009041897719725966 prediction: [[4 4 3 2 0]] true Y: [[4, 4, 3, 2, 0]] prediction str: pple!\n",
      "88 loss: 0.0008952845819294453 prediction: [[4 4 3 2 0]] true Y: [[4, 4, 3, 2, 0]] prediction str: pple!\n",
      "89 loss: 0.0008866411517374218 prediction: [[4 4 3 2 0]] true Y: [[4, 4, 3, 2, 0]] prediction str: pple!\n",
      "90 loss: 0.0008781881188042462 prediction: [[4 4 3 2 0]] true Y: [[4, 4, 3, 2, 0]] prediction str: pple!\n",
      "91 loss: 0.0008699969621375203 prediction: [[4 4 3 2 0]] true Y: [[4, 4, 3, 2, 0]] prediction str: pple!\n",
      "92 loss: 0.000861972221173346 prediction: [[4 4 3 2 0]] true Y: [[4, 4, 3, 2, 0]] prediction str: pple!\n",
      "93 loss: 0.0008541854913346469 prediction: [[4 4 3 2 0]] true Y: [[4, 4, 3, 2, 0]] prediction str: pple!\n",
      "94 loss: 0.0008464939892292023 prediction: [[4 4 3 2 0]] true Y: [[4, 4, 3, 2, 0]] prediction str: pple!\n",
      "95 loss: 0.0008390404400415719 prediction: [[4 4 3 2 0]] true Y: [[4, 4, 3, 2, 0]] prediction str: pple!\n",
      "96 loss: 0.000831801095046103 prediction: [[4 4 3 2 0]] true Y: [[4, 4, 3, 2, 0]] prediction str: pple!\n",
      "97 loss: 0.0008246807265095413 prediction: [[4 4 3 2 0]] true Y: [[4, 4, 3, 2, 0]] prediction str: pple!\n",
      "98 loss: 0.0008177508716471493 prediction: [[4 4 3 2 0]] true Y: [[4, 4, 3, 2, 0]] prediction str: pple!\n",
      "99 loss: 0.0008109161863103509 prediction: [[4 4 3 2 0]] true Y: [[4, 4, 3, 2, 0]] prediction str: pple!\n"
     ]
    }
   ],
   "source": [
    "for i in range(100):\n",
    "    optimizer.zero_grad()\n",
    "    outputs = net(X)\n",
    "    loss = criterion(outputs.view(-1, input_size), y.view(-1))\n",
    "    loss.backward()\n",
    "    optimizer.step()\n",
    "\n",
    "    result = outputs.data.numpy().argmax(axis=2)\n",
    "    result_str = \"\".join([index_to_char[c] for c in np.squeeze(result)])\n",
    "    print(\n",
    "        f\"{i} loss: {loss.item()} prediction: {result} true Y: {y_data} prediction str: {result_str}\"\n",
    "    )"
   ]
  }
 ],
 "metadata": {
  "kernelspec": {
   "display_name": "Python 3 (ipykernel)",
   "language": "python",
   "name": "python3"
  },
  "language_info": {
   "codemirror_mode": {
    "name": "ipython",
    "version": 3
   },
   "file_extension": ".py",
   "mimetype": "text/x-python",
   "name": "python",
   "nbconvert_exporter": "python",
   "pygments_lexer": "ipython3",
   "version": "3.9.21"
  }
 },
 "nbformat": 4,
 "nbformat_minor": 5
}
